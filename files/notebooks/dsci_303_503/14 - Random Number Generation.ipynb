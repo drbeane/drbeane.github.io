{
 "cells": [
  {
   "cell_type": "markdown",
   "metadata": {},
   "source": [
    "# Lesson 14 - Random Number Generation\n",
    "\n",
    "### The following topics are discussed in this notebook:\n",
    "\n",
    "* Sampling from a list or array.\n",
    "* Generating random numbers according to a distribution.\n",
    "* Setting seeds.\n"
   ]
  },
  {
   "cell_type": "markdown",
   "metadata": {},
   "source": [
    "# Random Number Generation"
   ]
  },
  {
   "cell_type": "markdown",
   "metadata": {},
   "source": [
    "In this lesson, we will learn how to ask Python to generate random numbers. Although base Python has the ability to generate random numbers, this functionality is extended in NumPy. "
   ]
  },
  {
   "cell_type": "code",
   "execution_count": 1,
   "metadata": {},
   "outputs": [],
   "source": [
    "import numpy as np\n",
    "import matplotlib.pyplot as plt"
   ]
  },
  {
   "cell_type": "markdown",
   "metadata": {},
   "source": [
    "## Random Sampling"
   ]
  },
  {
   "cell_type": "markdown",
   "metadata": {},
   "source": [
    "The `numpy.random.choice()` function in NumPy can be use to randomly generate samples. The parameters for this function are as follows:\n",
    "\n",
    "* **a:** An array, list, or range that the sample will be drawn from. \n",
    "* **size:** The number of elements to be drawn for the sample. This can be an integer, in which case the function will return a list containing that many observations sampled from the population provided, or `None`, in which case the function will return a single value (not in a list). The default value is `None`.  \n",
    "* **replace:** A boolean value that determines if elements are returned to the sample after being drawn. The default value is `True`. \n",
    "* **p:** An array or list that determines the probability of drawing each of the elements. If **p** is not specified, then all elements will be equally likely. \n",
    "\n",
    "Let's start with a simple example. "
   ]
  },
  {
   "cell_type": "code",
   "execution_count": null,
   "metadata": {},
   "outputs": [],
   "source": [
    "die_roll = np.random.choice(range(1,7))\n",
    "#die_roll = np.random.choice(range(1,7), size=None)\n",
    "print(die_roll)"
   ]
  },
  {
   "cell_type": "markdown",
   "metadata": {},
   "source": [
    "We can draw samples of any size. "
   ]
  },
  {
   "cell_type": "code",
   "execution_count": null,
   "metadata": {},
   "outputs": [],
   "source": [
    "EightRolls = np.random.choice(range(1,7), size=8)\n",
    "print(EightRolls)"
   ]
  },
  {
   "cell_type": "markdown",
   "metadata": {},
   "source": [
    "Keep in mind that if we set `size=1`, we will get an array contining a single observation."
   ]
  },
  {
   "cell_type": "code",
   "execution_count": null,
   "metadata": {},
   "outputs": [],
   "source": [
    "OneRoll = np.random.choice(range(1,7), size=1)\n",
    "print(OneRoll)"
   ]
  },
  {
   "cell_type": "markdown",
   "metadata": {},
   "source": [
    "By default, each value in `a` is equally likely to be drawn for any given observation. We can use the `p` parameter to specify the probability of individual values being drawn."
   ]
  },
  {
   "cell_type": "code",
   "execution_count": null,
   "metadata": {},
   "outputs": [],
   "source": [
    "LoadedDie = np.random.choice(range(1,7), size=10, p=[0.5, 0.2, 0.1, 0.1, 0.05, 0.05])\n",
    "print(LoadedDie)"
   ]
  },
  {
   "cell_type": "markdown",
   "metadata": {},
   "source": [
    "We can also generate observations drawn from non-numerical lists. "
   ]
  },
  {
   "cell_type": "code",
   "execution_count": null,
   "metadata": {},
   "outputs": [],
   "source": [
    "mySample = np.random.choice(['A', 'B', 'C'], size=10)\n",
    "print(mySample)"
   ]
  },
  {
   "cell_type": "markdown",
   "metadata": {},
   "source": [
    "If we set `replace=False`, then each value in `a` will only be able to selected at most once for the sample."
   ]
  },
  {
   "cell_type": "code",
   "execution_count": null,
   "metadata": {},
   "outputs": [],
   "source": [
    "names = ['Anna', 'Beth', 'Chad', 'Drew', 'Emma', 'Fred', 'Gary', 'Hana', 'Iris', 'Jake']\n",
    "group = np.random.choice(names, size=5, replace=False)\n",
    "print(group)"
   ]
  },
  {
   "cell_type": "markdown",
   "metadata": {},
   "source": [
    "## Example: Simulating the Distribution of Die Rolls\n",
    "\n",
    "In this example, we will simulate a die roll being rolled many times. We will count the number of times each value was rolled, and will generate a bar chart to graphically summarize the results. "
   ]
  },
  {
   "cell_type": "code",
   "execution_count": null,
   "metadata": {},
   "outputs": [],
   "source": [
    "ManyRolls = np.random.choice(range(1,7), 1000)\n",
    "\n",
    "n1 = np.sum(ManyRolls == 1)\n",
    "n2 = np.sum(ManyRolls == 2)\n",
    "n3 = np.sum(ManyRolls == 3)\n",
    "n4 = np.sum(ManyRolls == 4)\n",
    "n5 = np.sum(ManyRolls == 5)\n",
    "n6 = np.sum(ManyRolls == 6)\n",
    "\n",
    "RollDist = [n1, n2, n3, n4, n5, n6]\n",
    "labels = ['one', 'two', 'three', 'four','five', 'six']\n",
    "\n",
    "plt.bar(labels, RollDist)\n",
    "plt.xlabel('Roll')\n",
    "plt.ylabel('Count')\n",
    "plt.title('Die Roll Distribution')\n",
    "plt.show()"
   ]
  },
  {
   "cell_type": "markdown",
   "metadata": {},
   "source": [
    "## Using Simulation to Estimate Probabilities\n",
    "\n",
    "Assume that we are interested in calculating the probability of a certain outcome of a statistical experiment, but that this particular probability is difficult, or perhaps even impossible, to calculate directly. We can sometimes estimate such probabilities using simulation. To use this approach, we would first write code that simulates the outcome of the experiment, and then run the experiment a very large number of times and count the number of simulated experiments that resulted in the outcome of interest. The proportion of experiments resulting in this outcome is an estimate of the probability of the outcome occurring. "
   ]
  },
  {
   "cell_type": "markdown",
   "metadata": {},
   "source": [
    "## Example: Coin Flipping"
   ]
  },
  {
   "cell_type": "markdown",
   "metadata": {},
   "source": [
    "Assume that we are interested in know the probability of getting a certain number of \"Heads\" in 50 coin flips. This is a very common problem to encounter in an introductory Statistics course, and is solvable using basic probability techniques. However, we will estimate the answer using simulation. \n",
    "\n",
    "We will first write a function that simulates a sequence of 50 coin flips. "
   ]
  },
  {
   "cell_type": "code",
   "execution_count": null,
   "metadata": {},
   "outputs": [],
   "source": [
    "def flip_50():\n",
    "    return np.random.choice(['H','T'], 50)"
   ]
  },
  {
   "cell_type": "code",
   "execution_count": null,
   "metadata": {
    "scrolled": true
   },
   "outputs": [],
   "source": [
    "print(flip_50())"
   ]
  },
  {
   "cell_type": "markdown",
   "metadata": {},
   "source": [
    "Now, we will run this simulation 100,000 times. After each simulation, we will count the number of heads in the sequence, and will record this number in a list. Finally, we will convert this list to an array. "
   ]
  },
  {
   "cell_type": "code",
   "execution_count": null,
   "metadata": {},
   "outputs": [],
   "source": [
    "num_heads = []\n",
    "\n",
    "for i in range(0,100000):\n",
    "    seq = flip_50()\n",
    "    count = np.sum(seq == 'H')\n",
    "    num_heads.append(count)\n",
    "    \n",
    "num_heads = np.array(num_heads)"
   ]
  },
  {
   "cell_type": "markdown",
   "metadata": {},
   "source": [
    "Suppose we want to estimate the probability of getting 20 or fewer heads in 50 flips. The code below provides such an estimate. The true value of this probability is approximately 0.101319."
   ]
  },
  {
   "cell_type": "code",
   "execution_count": null,
   "metadata": {},
   "outputs": [],
   "source": [
    "prob_20_or_fewer = np.mean(num_heads <= 20)\n",
    "print(prob_20_or_fewer)"
   ]
  },
  {
   "cell_type": "markdown",
   "metadata": {},
   "source": [
    "We can graphically represent the probabilities of getting any specific number of heads with a histogram. "
   ]
  },
  {
   "cell_type": "code",
   "execution_count": null,
   "metadata": {},
   "outputs": [],
   "source": [
    "plt.hist(num_heads, bins=range(0,51), density=True, edgecolor='black')\n",
    "plt.xlabel('Number of Heads')\n",
    "plt.ylabel('Probability')\n",
    "plt.show()"
   ]
  },
  {
   "cell_type": "markdown",
   "metadata": {},
   "source": [
    "## Example: Random Walks\n",
    "\n",
    "A random walk is a path that consists of several consecutive steps taken in a random direction. The size of the steps could be random, or it could be preset. Random walks have many applications in fields such as computer science, physics, biology, chemistry, and economics. \n",
    "\n",
    "We will consider perhaps the most basic example of a random walk. In this example, the position is recorded as a single integer, and the starting position is 0. At each step, we either move by an amount of either +1 or -1, with equal probability."
   ]
  },
  {
   "cell_type": "code",
   "execution_count": null,
   "metadata": {},
   "outputs": [],
   "source": [
    "def random_walk(start = 0, n = 1000):\n",
    "    \n",
    "    steps = np.random.choice([-1,1], n)\n",
    "    path = start + np.cumsum(steps)\n",
    "    path = np.concatenate(([start], path))\n",
    "        \n",
    "    return path"
   ]
  },
  {
   "cell_type": "markdown",
   "metadata": {},
   "source": [
    "Let's print the path of random walk starting at 10 and having 20 steps."
   ]
  },
  {
   "cell_type": "code",
   "execution_count": null,
   "metadata": {},
   "outputs": [],
   "source": [
    "print(random_walk(10, 20))"
   ]
  },
  {
   "cell_type": "markdown",
   "metadata": {},
   "source": [
    "The code below will plot a random walk starting at 50 and consisting of 100 steps. Run it several times. "
   ]
  },
  {
   "cell_type": "code",
   "execution_count": null,
   "metadata": {},
   "outputs": [],
   "source": [
    "plt.plot(random_walk(50, 1000))\n",
    "plt.show()"
   ]
  },
  {
   "cell_type": "markdown",
   "metadata": {},
   "source": [
    "In the following cell, we will plot five random walks starting at 0 and with 1000 steps. "
   ]
  },
  {
   "cell_type": "code",
   "execution_count": null,
   "metadata": {},
   "outputs": [],
   "source": [
    "fig=plt.figure(figsize=(10, 5))\n",
    "\n",
    "plt.plot(random_walk())\n",
    "plt.plot(random_walk())\n",
    "plt.plot(random_walk())\n",
    "plt.plot(random_walk())\n",
    "plt.plot(random_walk())\n",
    "plt.show()"
   ]
  },
  {
   "cell_type": "markdown",
   "metadata": {},
   "source": [
    "## Example: Stock Price Simulation"
   ]
  },
  {
   "cell_type": "markdown",
   "metadata": {},
   "source": [
    "In this next example, we will create a function that simulates a sequence of several daily prices for a stock. We will assume that the stock price will see a percentage change equal to one of the following amounts each day:\n",
    "\n",
    "    -0.5%, -0.4%, -0.3%, -0.2%, -0.1%, 0%, 0.1%, 0.2%, 0.3%, 0.4%, 0.5% \n",
    "    \n",
    "Assume further that each of these changes is equally likely. "
   ]
  },
  {
   "cell_type": "code",
   "execution_count": 16,
   "metadata": {},
   "outputs": [
    {
     "name": "stdout",
     "output_type": "stream",
     "text": [
      "[100.  100.1  99.7  99.3  98.8  98.8  99.   99.4  99.4  98.9  99. ]\n"
     ]
    }
   ],
   "source": [
    "def sim_stock(start=100, n=100):\n",
    "    \n",
    "    rate_choices = [-0.005, -0.004, -0.003, -0.002, -0.001, 0, 0.001, 0.002, 0.003, 0.004, 0.005]\n",
    "    daily_rates = np.random.choice(rate_choices, n)\n",
    "    \n",
    "    daily_multiplier = 1 + daily_rates\n",
    "    cum_multiplier = np.cumproduct(daily_multiplier)\n",
    "\n",
    "    daily_prices = start*cum_multiplier\n",
    "\n",
    "    daily_prices = np.concatenate(([start], daily_prices))\n",
    "    return np.round(daily_prices,2)\n"
   ]
  },
  {
   "cell_type": "markdown",
   "metadata": {},
   "source": [
    "Let's generate a sequence of 10 simulated daily prices for a stock currently work 50. "
   ]
  },
  {
   "cell_type": "code",
   "execution_count": null,
   "metadata": {},
   "outputs": [],
   "source": [
    "print(sim_stock(start=50, n=10))"
   ]
  },
  {
   "cell_type": "markdown",
   "metadata": {},
   "source": [
    "In the cell below we plot the simulated daily prices of a stock currently worth 100 over the course of a year. "
   ]
  },
  {
   "cell_type": "code",
   "execution_count": null,
   "metadata": {},
   "outputs": [],
   "source": [
    "plt.plot(sim_stock(100, 365))\n",
    "plt.show()"
   ]
  },
  {
   "cell_type": "markdown",
   "metadata": {},
   "source": [
    "To get a sense of the range of possible outcomes for our stock model after one year, let's plot 1000 simulated sequences, or runs, of daily stock prices."
   ]
  },
  {
   "cell_type": "code",
   "execution_count": null,
   "metadata": {},
   "outputs": [],
   "source": [
    "for i in range(1000):\n",
    "    plt.plot(sim_stock(100, 365))\n",
    "plt.show()"
   ]
  },
  {
   "cell_type": "markdown",
   "metadata": {},
   "source": [
    "Assuming that our stock model is correct, let's estimate the probability that the stock will be work 105 after one year. "
   ]
  },
  {
   "cell_type": "code",
   "execution_count": null,
   "metadata": {},
   "outputs": [],
   "source": [
    "final_prices = []\n",
    "for i in range(100000):\n",
    "    run = sim_stock(100,365)\n",
    "    final_prices.append(run[-1])\n",
    "final_prices = np.array(final_prices)\n",
    "\n",
    "print(np.mean(final_prices > 105))"
   ]
  },
  {
   "cell_type": "markdown",
   "metadata": {},
   "source": [
    "We might be interested in estimating a probability such as the one above if we are considering a certain type of investment whose value is based on the price of the stock after one year. For example, a **call option** is a type of financial instrument that will provide its purchaser with a positive payoff if the value of the stock is greater than a certain pre-determined value at the end of a specified period. "
   ]
  },
  {
   "cell_type": "markdown",
   "metadata": {},
   "source": [
    "## Sampling from Statistical Distributions\n",
    "\n",
    "Numpy also provides us with tools for sampling from various probability distributions. We will discuss how to sample from the uniform, normal, and gamma distributions. "
   ]
  },
  {
   "cell_type": "markdown",
   "metadata": {},
   "source": [
    "## The Uniform Distribution\n",
    "\n",
    "If a random variable follows a **uniform distribution** on an interval `[a,b]`, then the result of the randomly generated value for the variable can take on any value from the interval `[a,b]`, and is just as likely to come from one portion of the interval as any other. \n",
    "\n",
    "We can use the function `np.random.uniform()` to sample from a uniform distribution. "
   ]
  },
  {
   "cell_type": "code",
   "execution_count": null,
   "metadata": {},
   "outputs": [],
   "source": [
    "unif_sample = np.random.uniform(low=6, high=10, size=100)\n",
    "\n",
    "plt.hist(unif_sample, bins=np.arange(5.5,11,0.5), density=True, edgecolor='black')\n",
    "plt.xlabel('Sampled Value')\n",
    "plt.ylabel('Proportion')\n",
    "plt.show()"
   ]
  },
  {
   "cell_type": "markdown",
   "metadata": {},
   "source": [
    "## The Normal Distribution\n",
    "\n",
    "A **normal distribution** is defined by two numbers: A mean $\\mu$ and a standard deviation $\\sigma$. If a random variable follows a normal distribution, then it can take on any real number as its value, but the observed values will tend to fall close to the mean $\\mu$. The parameter $\\sigma$ determines how likely it is that observations will fall close to the mean. Small values of $\\sigma$ will result in observations that are clustered very near the mean, while large values of $\\sigma$ will result in observations being more spread out. \n",
    "\n",
    "We can use the function `np.random.normal()` to sample from a normal distribution. \n"
   ]
  },
  {
   "cell_type": "code",
   "execution_count": null,
   "metadata": {},
   "outputs": [],
   "source": [
    "?np.random.normal"
   ]
  },
  {
   "cell_type": "code",
   "execution_count": null,
   "metadata": {},
   "outputs": [],
   "source": [
    "norm_sample = np.random.normal(loc=10, scale=3, size=1000)\n",
    "\n",
    "plt.hist(norm_sample, bins=np.arange(0,20,0.5), density=True, edgecolor='black')\n",
    "plt.xlabel('Sampled Value')\n",
    "plt.ylabel('Proportion')\n",
    "plt.show()"
   ]
  },
  {
   "cell_type": "markdown",
   "metadata": {},
   "source": [
    "Let's use 1,000,000 simulated values to estimate probabilities associated with the normal distribution. "
   ]
  },
  {
   "cell_type": "code",
   "execution_count": null,
   "metadata": {},
   "outputs": [],
   "source": [
    "X = np.random.normal(loc=10, scale=2, size=1000000)\n",
    "\n",
    "print('Prob[X < 10] = ', np.mean(X < 10))\n",
    "print('Prob[X < 12] = ', np.mean(X < 12))\n",
    "print('Prob[8 < X < 12] =', np.mean((X > 8) & (X < 12)))\n",
    "print('Prob[6 < X < 14] =', np.mean((X > 6) & (X < 14)))\n",
    "print('Prob[4 < X < 16] =', np.mean((X > 4) & (X < 16)))\n"
   ]
  },
  {
   "cell_type": "markdown",
   "metadata": {},
   "source": [
    "In the cell below, we sample 10,000 observations each from three different normal distrubutions, and then plot the results. This illustrates the effects that the loc (mean) and scale (standard deviation) parameters have on the shape of the distribution. "
   ]
  },
  {
   "cell_type": "code",
   "execution_count": null,
   "metadata": {},
   "outputs": [],
   "source": [
    "norm_sample_1 = np.random.normal(loc=10, scale=1, size=10000)\n",
    "norm_sample_2 = np.random.normal(loc=10, scale=3, size=10000)\n",
    "norm_sample_3 = np.random.normal(loc=0, scale=2, size=10000)\n",
    "\n",
    "fig=plt.figure(figsize=(12, 6))\n",
    "plt.hist(norm_sample_1, bins=np.arange(-8,20,0.5), density=True, \n",
    "         edgecolor='black', alpha=0.6, label=\"mean=10, stdev=1\")\n",
    "plt.hist(norm_sample_2, bins=np.arange(-8,20,0.5), density=True, \n",
    "         edgecolor='black', alpha=0.6, label=\"mean=10, stdev=3\")\n",
    "plt.hist(norm_sample_3, bins=np.arange(-8,20,0.5), density=True, \n",
    "         edgecolor='black', alpha=0.6, label=\"mean=0, stdev=2\")\n",
    "plt.xlabel('Sampled Value')\n",
    "plt.ylabel('Proportion')\n",
    "plt.legend()\n",
    "plt.show()"
   ]
  },
  {
   "cell_type": "markdown",
   "metadata": {},
   "source": [
    "## The Gamma Distribution\n",
    "\n",
    "If a random variable follows a **Gamma Distribution**, then it can take on any positive value, and have a right-skew, meaning that very large values are possible, but rare. Gamma distributions are often used to model the amount of time until an event, such as the failure of a mechanical device, or until an earthquake. \n",
    "\n",
    "We can use the function `np.random.gamma()` to sample from a gamma distribution. "
   ]
  },
  {
   "cell_type": "code",
   "execution_count": null,
   "metadata": {},
   "outputs": [],
   "source": [
    "gamma_sample = np.random.gamma(shape=3, scale=10, size=10000)\n",
    "\n",
    "plt.hist(gamma_sample, bins=np.arange(0,150,5), density=True, edgecolor='black')\n",
    "plt.xlabel('Sampled Value')\n",
    "plt.ylabel('Proportion')\n",
    "plt.show()"
   ]
  },
  {
   "cell_type": "markdown",
   "metadata": {},
   "source": [
    "## Pseudorandom Numbers and Seeds\n",
    "\n",
    "The numbers generated by functions in `np.random` are not truly random. Typical computers are simply not capable of \"true\" randomness. The numbers generated by functions in `np.random` are obtained from a **pseudorandom number generator**. \n",
    "\n",
    "Pseudorandom number generators create sequences of numbers that satisfy certain statistical properties that we would expect from \"truly random\" numbers. The sequences are algorithmically generated from a base value, which is called the **seed**. To ensure that the results are different each time, a pseudorandom number generator will typically use a source such as the computer's system clock to seed the algorithm. However, we are able to set the seed ourselves manually. This unsures that we get the same \"random\" results each time we run a code involving pseudorandom numbers. This is useful for occasions when we want to generate results that behave randomly, but are reproducible. \n",
    "\n",
    "We can set the seed for the numpy pseudorandom number generator using the function `np.random.seed()`. \n"
   ]
  },
  {
   "cell_type": "code",
   "execution_count": null,
   "metadata": {},
   "outputs": [],
   "source": [
    "np.random.seed(137)\n",
    "plt.plot(sim_stock(100, 365))\n",
    "plt.show()"
   ]
  },
  {
   "cell_type": "code",
   "execution_count": null,
   "metadata": {},
   "outputs": [],
   "source": []
  },
  {
   "cell_type": "code",
   "execution_count": null,
   "metadata": {},
   "outputs": [],
   "source": []
  },
  {
   "cell_type": "code",
   "execution_count": null,
   "metadata": {},
   "outputs": [],
   "source": [
    "import time\n",
    "\n",
    "def my_random(x):\n",
    "    seed = int(time.time() * 1000000000000)\n",
    "    n = len(x)\n",
    "    idx = seed % n\n",
    "    return x[idx]"
   ]
  },
  {
   "cell_type": "code",
   "execution_count": null,
   "metadata": {},
   "outputs": [],
   "source": [
    "my_random([1,2,3,4,5])"
   ]
  },
  {
   "cell_type": "code",
   "execution_count": null,
   "metadata": {},
   "outputs": [],
   "source": [
    "results = []\n",
    "for i in range(100000):\n",
    "    temp = my_random([1,2,3,4,5])\n",
    "    results.append(temp)\n",
    "    \n",
    "results = np.array(results)\n",
    "counts = [np.sum(results == i) for i in range(1,6)]\n",
    "print(counts)"
   ]
  },
  {
   "cell_type": "code",
   "execution_count": null,
   "metadata": {},
   "outputs": [],
   "source": [
    "int(time.time() * 1000000) % 4"
   ]
  }
 ],
 "metadata": {
  "kernelspec": {
   "display_name": "Python 3",
   "language": "python",
   "name": "python3"
  },
  "language_info": {
   "codemirror_mode": {
    "name": "ipython",
    "version": 3
   },
   "file_extension": ".py",
   "mimetype": "text/x-python",
   "name": "python",
   "nbconvert_exporter": "python",
   "pygments_lexer": "ipython3",
   "version": "3.7.4"
  }
 },
 "nbformat": 4,
 "nbformat_minor": 4
}
