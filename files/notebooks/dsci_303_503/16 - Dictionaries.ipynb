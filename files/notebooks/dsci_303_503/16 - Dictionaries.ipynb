{
 "cells": [
  {
   "cell_type": "markdown",
   "metadata": {},
   "source": [
    "# Lesson 16 - Dictionaries\n",
    "\n",
    "### The following topics are discussed in this notebook:\n",
    "* The `dict` data type.\n",
    "* Using dictionaries to store structured data.\n"
   ]
  },
  {
   "cell_type": "markdown",
   "metadata": {},
   "source": [
    "## Dictionaries\n",
    "\n",
    "Like a list, a **dictionary**, or `dict`, is a collection of values. Dictionaries consist of several **key-value** pairs. Each pair has a **key** which is used to access the **value** associated with it. The key in a dictionary is much like an index in a list, but whereas an index must be an integer, a key can be of many different data types. \n",
    "\n",
    "Dictionaries are created using the following syntax:\n",
    "\n",
    "    my_dict = {key1:value1, key2:value2, ..., keyN:valueN}"
   ]
  },
  {
   "cell_type": "markdown",
   "metadata": {},
   "source": [
    "## Basic Dictionary Operations\n",
    "\n",
    "The cell below defines a simple dictionary that is used to store salary information for employees. "
   ]
  },
  {
   "cell_type": "code",
   "execution_count": null,
   "metadata": {},
   "outputs": [],
   "source": [
    "salary_dict = {'Anna':43700, 'Beth': 50250}\n",
    "\n",
    "print(salary_dict)"
   ]
  },
  {
   "cell_type": "markdown",
   "metadata": {},
   "source": [
    "We can access individual values of the dictionary using the associated keys."
   ]
  },
  {
   "cell_type": "code",
   "execution_count": null,
   "metadata": {},
   "outputs": [],
   "source": [
    "print(salary_dict['Anna'])\n",
    "print(salary_dict['Beth'])"
   ]
  },
  {
   "cell_type": "markdown",
   "metadata": {},
   "source": [
    "We can add new key-value pairs to a dictionary as follows:"
   ]
  },
  {
   "cell_type": "code",
   "execution_count": null,
   "metadata": {},
   "outputs": [],
   "source": [
    "salary_dict['Craig'] = 47600\n",
    "salary_dict['Drew'] = 37400\n",
    "\n",
    "print(salary_dict)"
   ]
  },
  {
   "cell_type": "markdown",
   "metadata": {},
   "source": [
    "We can also update values in a dictionary."
   ]
  },
  {
   "cell_type": "code",
   "execution_count": null,
   "metadata": {},
   "outputs": [],
   "source": [
    "salary_dict['Drew'] = 39800\n",
    "print(salary_dict)"
   ]
  },
  {
   "cell_type": "markdown",
   "metadata": {},
   "source": [
    "We can delete entries from a dictionary using the **del** keyword. "
   ]
  },
  {
   "cell_type": "code",
   "execution_count": null,
   "metadata": {},
   "outputs": [],
   "source": [
    "del salary_dict['Craig']\n",
    "print(salary_dict)"
   ]
  },
  {
   "cell_type": "markdown",
   "metadata": {},
   "source": [
    "Dictionary elements are not ordered, and so dictionaries don't allow for slicing. You can, however, loop over the elements of a dictionary. "
   ]
  },
  {
   "cell_type": "code",
   "execution_count": null,
   "metadata": {},
   "outputs": [],
   "source": [
    "for k in salary_dict.keys():\n",
    "    print(k + ':', salary_dict[k])"
   ]
  },
  {
   "cell_type": "markdown",
   "metadata": {},
   "source": [
    "We can use the `len()` function on dictionaries to determine the number of values that they contain. "
   ]
  },
  {
   "cell_type": "code",
   "execution_count": null,
   "metadata": {},
   "outputs": [],
   "source": [
    "print(len(salary_dict))"
   ]
  },
  {
   "cell_type": "markdown",
   "metadata": {},
   "source": [
    "## Lookup Tables\n",
    "\n",
    "One common application of dictionaries is to create lookup tables. Let's say that you have several objects, and each one has a unique identifer assigned to it. Assume that your code has to frequently look up characteristics of the objects based on their identifier. This can be easily done with a dictionary. \n",
    "\n",
    "The code below illustrates how you might use a dictionary to store ID-Name pairs in a student database. "
   ]
  },
  {
   "cell_type": "code",
   "execution_count": null,
   "metadata": {},
   "outputs": [],
   "source": [
    "student_lookup = {\n",
    "    601814: 'Brown, Mary',\n",
    "    716978: 'Green, John',\n",
    "    617945: 'Jones, Lana',\n",
    "    863794: 'Smith, Hank',\n",
    "    816773: 'Green, John'\n",
    "}"
   ]
  },
  {
   "cell_type": "code",
   "execution_count": null,
   "metadata": {},
   "outputs": [],
   "source": [
    "print(student_lookup[617945])\n",
    "print(student_lookup[816773])"
   ]
  },
  {
   "cell_type": "markdown",
   "metadata": {},
   "source": [
    "## Using Dictionaries to Store Structured Data\n",
    "\n",
    "The values in a dictionary can be lists. This is convenient if we would like use a dictionary to store records of some type. In this case, we can imagine the keys of the dictionary as indicating columns in a table. "
   ]
  },
  {
   "cell_type": "code",
   "execution_count": null,
   "metadata": {},
   "outputs": [],
   "source": [
    "employee_dict = {\n",
    "    'EID': [103, 105, 101, 106, 108],\n",
    "    'Name': ['Anna', 'Beth', 'Craig', 'Drew', 'Emma'],\n",
    "    'Salary': [43700, 50250, 47600, 39800, 38750],\n",
    "    'Rank': [2, 1, 1, 2, 3]\n",
    "}\n",
    "\n",
    "print(employee_dict)"
   ]
  },
  {
   "cell_type": "code",
   "execution_count": null,
   "metadata": {},
   "outputs": [],
   "source": [
    "print(employee_dict['Name'])"
   ]
  },
  {
   "cell_type": "markdown",
   "metadata": {},
   "source": [
    "If we want to see the information for a specific entry in the table, we can provide the same index to each of the lists stored within the dictionary. "
   ]
  },
  {
   "cell_type": "code",
   "execution_count": null,
   "metadata": {},
   "outputs": [],
   "source": [
    "print('EID\\t Name\\t Salary\\t Rank')\n",
    "print('---------------------------------')\n",
    "for i in range(len(employee_dict['Name'])):\n",
    "    print(employee_dict['Name'][i], '\\t',\n",
    "          employee_dict['EID'][i], '\\t',\n",
    "          employee_dict['Salary'][i], '\\t',\n",
    "          employee_dict['Rank'][i])"
   ]
  },
  {
   "cell_type": "markdown",
   "metadata": {},
   "source": [
    "One limitation of using a dictionary in this way is that there is no convenient way to extract all of the information related to a single individual at once."
   ]
  },
  {
   "cell_type": "markdown",
   "metadata": {},
   "source": [
    "As an alternate approach to using dictionaries to store structured data, we can store individual records in dictionaries, and then collect them together into a list (or another dictionary). In the setup, we could imaging the dictionaries as representing rows in a table rather than columns. "
   ]
  },
  {
   "cell_type": "code",
   "execution_count": null,
   "metadata": {},
   "outputs": [],
   "source": [
    "my_cats = [\n",
    "    {\n",
    "        'name':'Luna', \n",
    "        'birthplace':'State College, PA', \n",
    "        'weight':14.3, \n",
    "        'age':10, \n",
    "        'characteristics':['lazy', 'hungry', 'cranky']\n",
    "    },\n",
    "    {\n",
    "        'name':'Garbanzo', \n",
    "        'birthplace':'State College, PA',\n",
    "        'weight':8.9,\n",
    "        'age':10,\n",
    "        'characteristics':['talkative', 'friendly', 'skittish']\n",
    "    },\n",
    "    {\n",
    "        'name':'Cauchy',\n",
    "        'birthplace':'State College, PA',\n",
    "        'weight':10.6,\n",
    "        'age':3,\n",
    "        'characteristics':['insane', 'destructive']\n",
    "    }\n",
    "]"
   ]
  },
  {
   "cell_type": "code",
   "execution_count": null,
   "metadata": {},
   "outputs": [],
   "source": [
    "for i in range(len(my_cats)):\n",
    "    for k in my_cats[i].keys():\n",
    "        print(k + ':', my_cats[i][k])\n",
    "    print()\n",
    "    "
   ]
  }
 ],
 "metadata": {
  "kernelspec": {
   "display_name": "Python 3",
   "language": "python",
   "name": "python3"
  },
  "language_info": {
   "codemirror_mode": {
    "name": "ipython",
    "version": 3
   },
   "file_extension": ".py",
   "mimetype": "text/x-python",
   "name": "python",
   "nbconvert_exporter": "python",
   "pygments_lexer": "ipython3",
   "version": "3.7.1"
  }
 },
 "nbformat": 4,
 "nbformat_minor": 4
}
