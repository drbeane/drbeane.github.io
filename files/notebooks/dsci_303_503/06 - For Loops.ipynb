{
 "cells": [
  {
   "cell_type": "markdown",
   "metadata": {},
   "source": [
    "# Lesson 06 - For Loops\n",
    "\n",
    "### The following topics are discussed in this notebook:\n",
    "\n",
    "* Looping over ranges\n",
    "* Using loops with lists\n",
    "* Looping over lists"
   ]
  },
  {
   "cell_type": "markdown",
   "metadata": {},
   "source": [
    "## Loops\n",
    "\n",
    "A loop is a tool that allows us to instruct Python to repeat a task several times, usually with slight variations each time. We will consider two types of loops in this course: for loops and while loops.\n",
    "\n",
    "We will begin with for loops, but before we can do so, we need to introduce the concept of a range. "
   ]
  },
  {
   "cell_type": "markdown",
   "metadata": {},
   "source": [
    "## Ranges\n",
    "\n",
    "The `range(a, b)` function generates a list of integers beginning with `a` and continuing up to, but **NOT INCLUDING** `b`. \n",
    "\n",
    "A range is not a list, but can be converted into a list.  "
   ]
  },
  {
   "cell_type": "code",
   "execution_count": 1,
   "metadata": {},
   "outputs": [
    {
     "name": "stdout",
     "output_type": "stream",
     "text": [
      "<class 'range'>\n",
      "range(3, 8)\n",
      "[3, 4, 5, 6, 7]\n"
     ]
    }
   ],
   "source": [
    "my_range = range(3,8)\n",
    "print(type(my_range))\n",
    "print(my_range)\n",
    "print(list(my_range))"
   ]
  },
  {
   "cell_type": "markdown",
   "metadata": {},
   "source": [
    "## For Loops\n",
    "\n",
    "We can use for loops to ask Python to repeat a task a certain number of times. The syntax for constructing a for loop is as follows:\n",
    "\n",
    "<pre>\n",
    "for i in range(a,b): \n",
    "    # Body of for loop\n",
    "</pre>\n",
    "\n",
    "This code asks Python to execute the body of the for loop 5 times - once for each integer in the specified range. The variable `i` is referred to as a **loop counter**. The counter will have a value of `a` during the first iteration of the loop, and will increment at the start of each new iteration. "
   ]
  },
  {
   "cell_type": "code",
   "execution_count": 5,
   "metadata": {},
   "outputs": [
    {
     "name": "stdout",
     "output_type": "stream",
     "text": [
      "The value of i is 0\n",
      "The value of i is 1\n",
      "The value of i is 2\n",
      "The value of i is 3\n",
      "The value of i is 4\n"
     ]
    }
   ],
   "source": [
    "for i in range(0,5):\n",
    "    print('The value of i is', i)"
   ]
  },
  {
   "cell_type": "markdown",
   "metadata": {},
   "source": [
    "The code in the cell above is equivalent to that in cell below. Notice that using a for loop for this task is much more concise. "
   ]
  },
  {
   "cell_type": "code",
   "execution_count": 3,
   "metadata": {},
   "outputs": [
    {
     "name": "stdout",
     "output_type": "stream",
     "text": [
      "The value of i is 0\n",
      "The value of i is 1\n",
      "The value of i is 2\n",
      "The value of i is 3\n",
      "The value of i is 4\n"
     ]
    }
   ],
   "source": [
    "i = 0\n",
    "print('The value of i is', i)\n",
    "i = 1\n",
    "print('The value of i is', i)\n",
    "i = 2\n",
    "print('The value of i is', i)\n",
    "i = 3\n",
    "print('The value of i is', i)\n",
    "i = 4\n",
    "print('The value of i is', i)"
   ]
  },
  {
   "cell_type": "markdown",
   "metadata": {},
   "source": [
    "Note the following five points regarding `for` loops:\n",
    "1. We can use any variable name that we wish for the loop counter. \n",
    "2. We can use the counter in arithmetic operations, or as a list index. \n",
    "3. The range over which we are looping does not have to begin with 0. \n",
    "4. We can include multiple lines of code within a for loop. \n",
    "5. Each line in the body of a loop must be indented one level beyond the `for` statement. \n",
    "\n",
    "These ideas are all illustrated in the following example, which prints the squares of the first 10 positive integers. "
   ]
  },
  {
   "cell_type": "code",
   "execution_count": 6,
   "metadata": {},
   "outputs": [
    {
     "name": "stdout",
     "output_type": "stream",
     "text": [
      "The square of 1 is 1.\n",
      "The square of 2 is 4.\n",
      "The square of 3 is 9.\n",
      "The square of 4 is 16.\n",
      "The square of 5 is 25.\n",
      "The square of 6 is 36.\n",
      "The square of 7 is 49.\n",
      "The square of 8 is 64.\n",
      "The square of 9 is 81.\n",
      "The square of 10 is 100.\n"
     ]
    }
   ],
   "source": [
    "for n in range(1,11):\n",
    "    message = \"The square of \" + str(n) + \" is \" + str(n**2) + \".\"\n",
    "    print(message)"
   ]
  },
  {
   "cell_type": "markdown",
   "metadata": {},
   "source": [
    "We can also use loops to alter variables that are defined outside of the loop. This is useful for calculating running totals. The code in the cell below calculates the sum of the squares of the first 100 integers. That is, it calculates $1^2 + 2^2 + 3^2 + ... + 99^2 + 100^2$. "
   ]
  },
  {
   "cell_type": "code",
   "execution_count": 6,
   "metadata": {},
   "outputs": [
    {
     "name": "stdout",
     "output_type": "stream",
     "text": [
      "338350\n"
     ]
    }
   ],
   "source": [
    "# Sum the first 100 positive integers\n",
    "total = 0\n",
    "for i in range(1,101):\n",
    "    total += i**2\n",
    "\n",
    "print(total)"
   ]
  },
  {
   "cell_type": "markdown",
   "metadata": {},
   "source": [
    "## Using Loops to Work with Lists\n",
    "One common use of a loop is to perform an action on every element of a list. In this case, we typically use the loop counter as an index for elements in the list. \n",
    "\n",
    "The list below contains 30 integer values, several of which are negative. "
   ]
  },
  {
   "cell_type": "code",
   "execution_count": 9,
   "metadata": {},
   "outputs": [],
   "source": [
    "big_list = [ 17, -72,  97, -18, 32, -15, -63, -57,  40,  83,\n",
    "            -48,  26,  12, -62, 16,  49,  55, -77, -30,  92,\n",
    "             34, -29, -75,  13, 40, -85,  62, -74, -69, -31]"
   ]
  },
  {
   "cell_type": "markdown",
   "metadata": {},
   "source": [
    "Assume that we wish to sum the absolute values of the numbers in `big_list`. We can do so using a for loop and the `abs()` value function. "
   ]
  },
  {
   "cell_type": "code",
   "execution_count": 17,
   "metadata": {
    "scrolled": false
   },
   "outputs": [
    {
     "name": "stdout",
     "output_type": "stream",
     "text": [
      "1473\n"
     ]
    }
   ],
   "source": [
    "total = 0\n",
    "for i in range(0, len(big_list)):\n",
    "    total += abs(big_list[i])\n",
    "    \n",
    "print(total)"
   ]
  },
  {
   "cell_type": "markdown",
   "metadata": {},
   "source": [
    "There are occasions when we might want to create a new list based on the values in one or more already existing lists. Depending on the task, we might be able to accomplish it by starting with an empty list, and then appending elements to it as we loop over another list. \n",
    "\n",
    "As an example, assume that we have been provided with two equally sized lists, `listA` and `listB`, as follows:"
   ]
  },
  {
   "cell_type": "code",
   "execution_count": 8,
   "metadata": {},
   "outputs": [],
   "source": [
    "listA = [13, 18, 23, 42, 27, 22, 36, 17, 44, 34, 35, 33, 41, 43, 12, 45, 29, 37, 14, 15]\n",
    "\n",
    "listB = [42, 14, 31, 39, 40, 48, 47, 36, 28, 32, 11, 27, 16, 17, 34, 33, 46, 22, 26, 15]"
   ]
  },
  {
   "cell_type": "markdown",
   "metadata": {},
   "source": [
    "Assume that we need to create a new list, `listC`, that has the same number of elements as `listA` and `listB`, such that an particular element in `listC` is the sum of the numbers with the same index in `listA` and `listB`. The cell below includes code for accomplishing such a task. "
   ]
  },
  {
   "cell_type": "code",
   "execution_count": 9,
   "metadata": {},
   "outputs": [
    {
     "name": "stdout",
     "output_type": "stream",
     "text": [
      "[55, 32, 54, 81, 67, 70, 83, 53, 72, 66, 46, 60, 57, 60, 46, 78, 75, 59, 40, 30]\n"
     ]
    }
   ],
   "source": [
    "listC = []\n",
    "\n",
    "M = min(len(listA), len(listB))\n",
    "\n",
    "for i in range(0, M):\n",
    "    temp = listA[i] + listB[i]\n",
    "    listC.append(temp)\n",
    "    \n",
    "print(listC)"
   ]
  },
  {
   "cell_type": "markdown",
   "metadata": {},
   "source": [
    "## Alternate Method for Looping over Lists\n",
    "\n",
    "In the `for` loops that we have seen so far, we have specifed a range, and then a counter that iterated through all of the values in that range. Python provides us with another technique for looping over a list. If we replace the range in our loop statement with a list, then the loop counter will iterate over items in the list, rather than elements in a range. \n",
    "\n",
    "For an example, consider the following three cells."
   ]
  },
  {
   "cell_type": "code",
   "execution_count": 23,
   "metadata": {
    "scrolled": false
   },
   "outputs": [],
   "source": [
    "SW = ['the phantom menace', 'attack of the clones', 'revenge of the sith',\n",
    "      'a new hope', 'the empire strikes back','return of the jedi',\n",
    "      'the force awakens']"
   ]
  },
  {
   "cell_type": "markdown",
   "metadata": {},
   "source": [
    "The cell below loops over the list `SW`, printing each element. During the first iteration of the loop, the counter `movie` will be equal to the first element of `SW`, during the second iteration, `movie` will be equal to the second element, and so on. "
   ]
  },
  {
   "cell_type": "code",
   "execution_count": 25,
   "metadata": {},
   "outputs": [
    {
     "name": "stdout",
     "output_type": "stream",
     "text": [
      "the phantom menace\n",
      "attack of the clones\n",
      "revenge of the sith\n",
      "a new hope\n",
      "the empire strikes back\n",
      "return of the jedi\n",
      "the force awakens\n"
     ]
    }
   ],
   "source": [
    "for movie in SW:\n",
    "    print(movie)"
   ]
  },
  {
   "cell_type": "code",
   "execution_count": 26,
   "metadata": {},
   "outputs": [
    {
     "name": "stdout",
     "output_type": "stream",
     "text": [
      "The Phantom Menace\n",
      "Attack Of The Clones\n",
      "Revenge Of The Sith\n",
      "A New Hope\n",
      "The Empire Strikes Back\n",
      "Return Of The Jedi\n",
      "The Force Awakens\n"
     ]
    }
   ],
   "source": [
    "for movie in SW:\n",
    "    print(movie.title())"
   ]
  },
  {
   "cell_type": "markdown",
   "metadata": {},
   "source": [
    "It should be noted that this method of looping does not provide any new functionality. In fact, losing access to the index actually limits the applications that we can use a loop for. However, looping over a list directly can be a convenient shortcut for reading the elements of a list when we don't need to make any changes to the list and don't need care about the indices of the elements in the list. "
   ]
  },
  {
   "cell_type": "markdown",
   "metadata": {},
   "source": [
    "## Nested Loops\n",
    "\n",
    "For some complex tasks, it is necessary to include loops inside of other loops. This is called a **nested loop**. The simplest case of a nested loops is when we have one loop that itself contains another loop. In this case, we call the first loop that Python encounters the **outer loop**, and the loop inside of that is called the **inner loop**. Each time the outer loop runs, the entire inner loop will process, running through all of it's possible iterations. \n",
    "\n",
    "To get an introduction to how nested loops work, consider the following example. "
   ]
  },
  {
   "cell_type": "code",
   "execution_count": 10,
   "metadata": {},
   "outputs": [
    {
     "name": "stdout",
     "output_type": "stream",
     "text": [
      "i is equal to 0; j is equal to 0\n",
      "i is equal to 0; j is equal to 1\n",
      "i is equal to 0; j is equal to 2\n",
      "\n",
      "i is equal to 1; j is equal to 0\n",
      "i is equal to 1; j is equal to 1\n",
      "i is equal to 1; j is equal to 2\n",
      "\n",
      "i is equal to 2; j is equal to 0\n",
      "i is equal to 2; j is equal to 1\n",
      "i is equal to 2; j is equal to 2\n",
      "\n",
      "i is equal to 3; j is equal to 0\n",
      "i is equal to 3; j is equal to 1\n",
      "i is equal to 3; j is equal to 2\n",
      "\n",
      "i is equal to 4; j is equal to 0\n",
      "i is equal to 4; j is equal to 1\n",
      "i is equal to 4; j is equal to 2\n",
      "\n",
      "i is equal to 5; j is equal to 0\n",
      "i is equal to 5; j is equal to 1\n",
      "i is equal to 5; j is equal to 2\n",
      "\n"
     ]
    }
   ],
   "source": [
    "for i in range(0, 6):\n",
    "    \n",
    "    for j in range(0, 3):\n",
    "        \n",
    "        print(\"i is equal to \" + str(i) + \"; j is equal to \" + str(j))\n",
    "        \n",
    "    print()"
   ]
  },
  {
   "cell_type": "markdown",
   "metadata": {},
   "source": [
    "## Example: Matrix Addition\n",
    "\n",
    "The following cell contains a list of lists, named `A`. This list is intended to represent a 3x5 matrix. Each of the three lists inside `A` represents a single row with 5 elements."
   ]
  },
  {
   "cell_type": "code",
   "execution_count": 11,
   "metadata": {},
   "outputs": [],
   "source": [
    "A = [ [11,12,13,14,15], [16,17,18,19,20], [21,22,23,24,25]  ]"
   ]
  },
  {
   "cell_type": "markdown",
   "metadata": {},
   "source": [
    "The cell below prints the rows of `A` one at a time. This output will more closely resemble a matrix. "
   ]
  },
  {
   "cell_type": "code",
   "execution_count": 13,
   "metadata": {},
   "outputs": [
    {
     "name": "stdout",
     "output_type": "stream",
     "text": [
      "[11, 12, 13, 14, 15]\n",
      "[16, 17, 18, 19, 20]\n",
      "[21, 22, 23, 24, 25]\n"
     ]
    }
   ],
   "source": [
    "for row in A:\n",
    "    print(row)"
   ]
  },
  {
   "cell_type": "markdown",
   "metadata": {},
   "source": [
    "Assume that we wish to create a new list called `ASquare`. This list should also represent a 3x5 matrix, and each element of `ASquare` should be the square of the corresponding element of `A`. This will require two loops. The first loop will loop over the rows of `A`. The second loop will loop over the elements of a given row. "
   ]
  },
  {
   "cell_type": "code",
   "execution_count": 16,
   "metadata": {},
   "outputs": [],
   "source": [
    "ASquare = []\n",
    "\n",
    "for i in range(0,len(A)):\n",
    "    \n",
    "    tempRow = []    \n",
    "    for j in range(0,len(A[i])):\n",
    "        tempRow.append(A[i][j] ** 2)\n",
    "        \n",
    "    ASquare.append(tempRow)"
   ]
  },
  {
   "cell_type": "markdown",
   "metadata": {},
   "source": [
    "Notice that we build up each row in `ASquare` one element at a time, and when we are finished with a row, we add that to `ASquare`. We will now print the rows of `ASquare`. "
   ]
  },
  {
   "cell_type": "code",
   "execution_count": 17,
   "metadata": {},
   "outputs": [
    {
     "name": "stdout",
     "output_type": "stream",
     "text": [
      "[121, 144, 169, 196, 225]\n",
      "[256, 289, 324, 361, 400]\n",
      "[441, 484, 529, 576, 625]\n"
     ]
    }
   ],
   "source": [
    "for row in ASquare:\n",
    "    print(row)"
   ]
  },
  {
   "cell_type": "markdown",
   "metadata": {},
   "source": [
    "## **Example: Sales Information**\n",
    "\n",
    "Assume that a company called WidgCo manufactures and sells many different varieties of widgets. In the cell below, four lists are created to contain information about WidgCo's annual sales. \n",
    "\n",
    "* `prodID` is a list that contains the product ID for each variety of widget produced.\n",
    "* `units` is a list containing the number of widgets sold of each type during the previous year. \n",
    "* `unit_price` is a list containing the price per widget for which WidgCo sells each widget type. \n",
    "* `unit_cost` is a list containing the cost to WidgCo for producint a single widget of each type. \n",
    "\n"
   ]
  },
  {
   "cell_type": "code",
   "execution_count": 18,
   "metadata": {},
   "outputs": [],
   "source": [
    "import random\n",
    "random.seed(37)\n",
    "n = random.choice(range(200,400))\n",
    "\n",
    "prodID = list(range(101, 101+n))\n",
    "units = random.choices(range(100,300), k=n)\n",
    "unit_price = random.choices(range(20,50), k=n)\n",
    "unit_cost = random.choices(range(5,10), k=n)"
   ]
  },
  {
   "cell_type": "markdown",
   "metadata": {},
   "source": [
    "The lists in the cell above are generated at random, and have an unknown size. However, each list is the same size, and for any given index `i`, the elements of the four lists at that particular index will all refer to the same type of widget. \n",
    "\n",
    "In the cell below, we print the information for the first five product types. We will print the information in a tabular format."
   ]
  },
  {
   "cell_type": "code",
   "execution_count": 19,
   "metadata": {},
   "outputs": [
    {
     "name": "stdout",
     "output_type": "stream",
     "text": [
      "prodID\t units\t price\t cost\n",
      "-----------------------------\n",
      "101 \t 221 \t 42 \t 6\n",
      "102 \t 287 \t 33 \t 9\n",
      "103 \t 233 \t 48 \t 5\n",
      "104 \t 249 \t 23 \t 9\n",
      "105 \t 226 \t 44 \t 6\n"
     ]
    }
   ],
   "source": [
    "print('prodID\\t units\\t price\\t cost')\n",
    "print('-----------------------------')\n",
    "for i in range(0,5):\n",
    "    print(prodID[i], '\\t', units[i], '\\t', \n",
    "          unit_price[i], '\\t', unit_cost[i])"
   ]
  },
  {
   "cell_type": "markdown",
   "metadata": {},
   "source": [
    "We now create three new lists called `revenue`, `cost`, and `profit`. \n",
    "\n",
    "* `revenue` will contain the total annual revenue generated by each type of widget.\n",
    "* `cost` will contain the total annual costs incurred by producing each type of widget.\n",
    "* `profit` will contain the total annual profit generated by each type of widget."
   ]
  },
  {
   "cell_type": "code",
   "execution_count": 24,
   "metadata": {},
   "outputs": [],
   "source": [
    "revenue = []\n",
    "cost = []\n",
    "profit = []\n",
    "\n",
    "for i in range(0, len(prodID)):\n",
    "    revenue.append( units[i] * unit_price[i])\n",
    "    cost.append( units[i] * unit_cost[i] )\n",
    "    profit.append( revenue[i] - cost[i] )"
   ]
  },
  {
   "cell_type": "markdown",
   "metadata": {},
   "source": [
    "In the cell below, we calculate the total annual revenue, total annual cost, and total annual profit for WidCo."
   ]
  },
  {
   "cell_type": "code",
   "execution_count": 25,
   "metadata": {},
   "outputs": [
    {
     "name": "stdout",
     "output_type": "stream",
     "text": [
      "Revenue: 2523165\n",
      "Cost:    524894\n",
      "Profit:  1998271\n"
     ]
    }
   ],
   "source": [
    "total_revenue = sum(revenue)\n",
    "total_cost = sum(cost)\n",
    "total_profit = sum(profit)\n",
    "\n",
    "print('Revenue:', total_revenue)\n",
    "print('Cost:   ', total_cost)\n",
    "print('Profit: ', total_profit)"
   ]
  },
  {
   "cell_type": "markdown",
   "metadata": {},
   "source": [
    "Assume that we are asked to determine which product generated the greatest profit during the previous year. We can accomplish that using the `max()` function and the `index()` method. \n"
   ]
  },
  {
   "cell_type": "code",
   "execution_count": 26,
   "metadata": {},
   "outputs": [
    {
     "name": "stdout",
     "output_type": "stream",
     "text": [
      "prodID:     299\n",
      "units:      279\n",
      "unit_price: 48\n",
      "unit_cost:  5\n",
      "profit:     11997\n"
     ]
    }
   ],
   "source": [
    "max_profit = max(profit)\n",
    "idx = profit.index(max_profit)\n",
    "\n",
    "print('prodID:    ', prodID[idx])\n",
    "print('units:     ', units[idx])\n",
    "print('unit_price:', unit_price[idx])\n",
    "print('unit_cost: ', unit_cost[idx])\n",
    "print('profit:    ', profit[idx])"
   ]
  },
  {
   "cell_type": "markdown",
   "metadata": {},
   "source": [
    "## List Comprehensions\n",
    "\n",
    "Python creates a shortcut for iteratively creating lists. This shortcut is called a **list comprehension**. We know that we can create a list iteratively using a for loop as follows:\n",
    "\n",
    "    my_list = []\n",
    "    for i in range(a,b):\n",
    "        value = whatever\n",
    "        my_list.append(value)\n",
    "        \n",
    "The same result can be obtained in a more compact fashion using a list comprehension as follows:\n",
    "\n",
    "    my_list = [value for i in range(a,b)]\n",
    "      \n",
    "Lets see a few examples. In the first example, we will create a list containing the square of all elements in a range. "
   ]
  },
  {
   "cell_type": "code",
   "execution_count": 28,
   "metadata": {},
   "outputs": [
    {
     "name": "stdout",
     "output_type": "stream",
     "text": [
      "[1, 4, 9, 16, 25, 36, 49, 64, 81]\n"
     ]
    }
   ],
   "source": [
    "sq_list = [n**2 for n in range(1,10)]\n",
    "print(sq_list)"
   ]
  },
  {
   "cell_type": "markdown",
   "metadata": {},
   "source": [
    "In a previous example, we were given lists `listA` and `listB`, and were asked to create a list `listC` that contained an elementwise sum of the `listA` and `listB`. Let's see how this could be accomplished with a list comprehension. "
   ]
  },
  {
   "cell_type": "code",
   "execution_count": 29,
   "metadata": {},
   "outputs": [],
   "source": [
    "listA = [13, 18, 23, 42, 27, 22, 36, 17, 44, 34, 35, 33, 41, 43, 12, 45, 29, 37, 14, 15]\n",
    "\n",
    "listB = [42, 14, 31, 39, 40, 48, 47, 36, 28, 32, 11, 27, 16, 17, 34, 33, 46, 22, 26, 15]"
   ]
  },
  {
   "cell_type": "code",
   "execution_count": 30,
   "metadata": {},
   "outputs": [
    {
     "name": "stdout",
     "output_type": "stream",
     "text": [
      "[55, 32, 54, 81, 67, 70, 83, 53, 72, 66, 46, 60, 57, 60, 46, 78, 75, 59, 40, 30]\n"
     ]
    }
   ],
   "source": [
    "listC = [listA[i] + listB[i] for i in range(0, len(listA))]\n",
    "\n",
    "print(listC)"
   ]
  }
 ],
 "metadata": {
  "kernelspec": {
   "display_name": "Python 3",
   "language": "python",
   "name": "python3"
  },
  "language_info": {
   "codemirror_mode": {
    "name": "ipython",
    "version": 3
   },
   "file_extension": ".py",
   "mimetype": "text/x-python",
   "name": "python",
   "nbconvert_exporter": "python",
   "pygments_lexer": "ipython3",
   "version": "3.7.3"
  }
 },
 "nbformat": 4,
 "nbformat_minor": 2
}
