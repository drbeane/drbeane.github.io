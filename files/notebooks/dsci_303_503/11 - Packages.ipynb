{
 "cells": [
  {
   "cell_type": "markdown",
   "metadata": {},
   "source": [
    "# Lesson 11- Packages\n",
    "\n",
    "### The following topics are discussed in this notebook:\n",
    "* Using Packages"
   ]
  },
  {
   "cell_type": "markdown",
   "metadata": {},
   "source": [
    "## Packages \n",
    "A **package** is a pre-built set of functions and data types that can be loaded into a Python session to extend the language's functionality. \n",
    "\n",
    "We can import a package using the command `import package_name`. "
   ]
  },
  {
   "cell_type": "markdown",
   "metadata": {},
   "source": [
    "## Namespaces\n",
    "\n",
    "When we import a package, we create a new **namespace** for the contents of that package. A namespace is effectively a naming system that helps us to avoid naming conflicts. We don't always know the names of every object in a package that we are importing, and there might be situations where an object in a package has a name that conflicts with an object we have previously defined. By default, the name of a namespace for a package is the same as the name of the package, and we access its contents using the following syntax:\n",
    "\n",
    "    package_name.object_name"
   ]
  },
  {
   "cell_type": "markdown",
   "metadata": {},
   "source": [
    "## The `math` Package\n",
    "\n",
    "Base Python includes many mathematical functions and operations, but there are several common mathematical functions that are missing. Several of these are included in the `math` package."
   ]
  },
  {
   "cell_type": "code",
   "execution_count": 1,
   "metadata": {},
   "outputs": [],
   "source": [
    "import math"
   ]
  },
  {
   "cell_type": "markdown",
   "metadata": {},
   "source": [
    "The `math` packages contains functions the following functions (along with many others):\n",
    "\n",
    "* **`sqrt()`**  - Returns the square root of the argument. \n",
    "* **`factorial()`** - Returns the factorial of the argument.\n",
    "* **`exp()`** - Returns the value of `e` raised to the argument.\n",
    "* **`log()`** - Returns the natural logarithm of the argument. An optional `base` parameter can be specified to change the base. "
   ]
  },
  {
   "cell_type": "code",
   "execution_count": 2,
   "metadata": {},
   "outputs": [
    {
     "name": "stdout",
     "output_type": "stream",
     "text": [
      "Square root of 20:  4.47213595499958\n",
      "10 factorial:       3628800\n",
      "e raised to 5:      148.4131591025766\n",
      "Natural log of 100: 4.605170185988092\n",
      "Common log of 100:  2.0\n"
     ]
    }
   ],
   "source": [
    "print('Square root of 20: ', math.sqrt(20))\n",
    "print('10 factorial:      ', math.factorial(10))\n",
    "print('e raised to 5:     ', math.exp(5))\n",
    "print('Natural log of 100:', math.log(100))\n",
    "print('Common log of 100: ', math.log(100, 10))"
   ]
  },
  {
   "cell_type": "markdown",
   "metadata": {},
   "source": [
    "The `math` package also contains variables. For example, it contains an object named `pi` which stores the value of the constant `pi`. This package also includes trig functions such as `sin`, `cos`, and `tan`. \n"
   ]
  },
  {
   "cell_type": "code",
   "execution_count": 3,
   "metadata": {},
   "outputs": [
    {
     "name": "stdout",
     "output_type": "stream",
     "text": [
      "3.141592653589793\n",
      "0.8660254037844386\n",
      "0.5000000000000001\n",
      "1.7320508075688767\n"
     ]
    }
   ],
   "source": [
    "print(math.pi)\n",
    "print(math.sin(math.pi/3))\n",
    "print(math.cos(math.pi/3))\n",
    "print(math.tan(math.pi/3))"
   ]
  },
  {
   "cell_type": "markdown",
   "metadata": {},
   "source": [
    "## Using Aliases\n",
    "\n",
    "If we are making frequent use of a certain package, it can b tedius to type its name every time you want to use an object from the package, especially if the name of the package is long. Python allows us to set an **alias** for a package when we import it. Setting an alias allows us to choose the name of the namespace associate with the package. The syntax for this is:\n",
    "\n",
    "    import package_name as alias"
   ]
  },
  {
   "cell_type": "code",
   "execution_count": 4,
   "metadata": {},
   "outputs": [],
   "source": [
    "import math as mt"
   ]
  },
  {
   "cell_type": "code",
   "execution_count": 5,
   "metadata": {
    "scrolled": true
   },
   "outputs": [
    {
     "name": "stdout",
     "output_type": "stream",
     "text": [
      "3.141592653589793\n",
      "0.8660254037844386\n",
      "0.5000000000000001\n",
      "1.7320508075688767\n"
     ]
    }
   ],
   "source": [
    "print(mt.pi)\n",
    "print(mt.sin(mt.pi/3))\n",
    "print(mt.cos(mt.pi/3))\n",
    "print(mt.tan(mt.pi/3))"
   ]
  },
  {
   "cell_type": "markdown",
   "metadata": {},
   "source": [
    "## Importing into the Main Namespace"
   ]
  },
  {
   "cell_type": "markdown",
   "metadata": {},
   "source": [
    "If we have an object that we know we will be using frequently, we can import it directly into the main namespace as follows:\n",
    "\n",
    "    from package_name import object_name\n",
    "    \n",
    "Note that this only imports the specified object. Nothing else from the package is imported."
   ]
  },
  {
   "cell_type": "code",
   "execution_count": 6,
   "metadata": {},
   "outputs": [
    {
     "name": "stdout",
     "output_type": "stream",
     "text": [
      "3.141592653589793\n"
     ]
    },
    {
     "ename": "NameError",
     "evalue": "name 'sin' is not defined",
     "output_type": "error",
     "traceback": [
      "\u001b[0;31m---------------------------------------------------------------------------\u001b[0m",
      "\u001b[0;31mNameError\u001b[0m                                 Traceback (most recent call last)",
      "\u001b[0;32m<ipython-input-6-250b477389d1>\u001b[0m in \u001b[0;36m<module>\u001b[0;34m\u001b[0m\n\u001b[1;32m      2\u001b[0m \u001b[0;34m\u001b[0m\u001b[0m\n\u001b[1;32m      3\u001b[0m \u001b[0mprint\u001b[0m\u001b[0;34m(\u001b[0m\u001b[0mpi\u001b[0m\u001b[0;34m)\u001b[0m\u001b[0;34m\u001b[0m\u001b[0;34m\u001b[0m\u001b[0m\n\u001b[0;32m----> 4\u001b[0;31m \u001b[0mprint\u001b[0m\u001b[0;34m(\u001b[0m\u001b[0msin\u001b[0m\u001b[0;34m(\u001b[0m\u001b[0mpi\u001b[0m\u001b[0;34m)\u001b[0m\u001b[0;34m)\u001b[0m\u001b[0;34m\u001b[0m\u001b[0;34m\u001b[0m\u001b[0m\n\u001b[0m\u001b[1;32m      5\u001b[0m \u001b[0mprint\u001b[0m\u001b[0;34m(\u001b[0m\u001b[0mcos\u001b[0m\u001b[0;34m(\u001b[0m\u001b[0mpi\u001b[0m\u001b[0;34m)\u001b[0m\u001b[0;34m)\u001b[0m\u001b[0;34m\u001b[0m\u001b[0;34m\u001b[0m\u001b[0m\n",
      "\u001b[0;31mNameError\u001b[0m: name 'sin' is not defined"
     ]
    }
   ],
   "source": [
    "from math import pi\n",
    "\n",
    "print(pi)\n",
    "print(sin(pi))\n",
    "print(cos(pi))"
   ]
  },
  {
   "cell_type": "markdown",
   "metadata": {},
   "source": [
    "We can import several objects with a single import statement. "
   ]
  },
  {
   "cell_type": "code",
   "execution_count": 7,
   "metadata": {},
   "outputs": [
    {
     "name": "stdout",
     "output_type": "stream",
     "text": [
      "3.141592653589793\n",
      "1.2246467991473532e-16\n"
     ]
    },
    {
     "ename": "NameError",
     "evalue": "name 'cos' is not defined",
     "output_type": "error",
     "traceback": [
      "\u001b[0;31m---------------------------------------------------------------------------\u001b[0m",
      "\u001b[0;31mNameError\u001b[0m                                 Traceback (most recent call last)",
      "\u001b[0;32m<ipython-input-7-40c1ec5e37ad>\u001b[0m in \u001b[0;36m<module>\u001b[0;34m\u001b[0m\n\u001b[1;32m      3\u001b[0m \u001b[0mprint\u001b[0m\u001b[0;34m(\u001b[0m\u001b[0mpi\u001b[0m\u001b[0;34m)\u001b[0m\u001b[0;34m\u001b[0m\u001b[0;34m\u001b[0m\u001b[0m\n\u001b[1;32m      4\u001b[0m \u001b[0mprint\u001b[0m\u001b[0;34m(\u001b[0m\u001b[0msin\u001b[0m\u001b[0;34m(\u001b[0m\u001b[0mpi\u001b[0m\u001b[0;34m)\u001b[0m\u001b[0;34m)\u001b[0m\u001b[0;34m\u001b[0m\u001b[0;34m\u001b[0m\u001b[0m\n\u001b[0;32m----> 5\u001b[0;31m \u001b[0mprint\u001b[0m\u001b[0;34m(\u001b[0m\u001b[0mcos\u001b[0m\u001b[0;34m(\u001b[0m\u001b[0mpi\u001b[0m\u001b[0;34m)\u001b[0m\u001b[0;34m)\u001b[0m\u001b[0;34m\u001b[0m\u001b[0;34m\u001b[0m\u001b[0m\n\u001b[0m",
      "\u001b[0;31mNameError\u001b[0m: name 'cos' is not defined"
     ]
    }
   ],
   "source": [
    "from math import pi, sin\n",
    "\n",
    "print(pi)\n",
    "print(sin(pi))\n",
    "print(cos(pi))"
   ]
  },
  {
   "cell_type": "markdown",
   "metadata": {},
   "source": [
    "If we want to import all objects from a package into the primary namespace, we can do so with the following command:\n",
    "\n",
    "    from package_name import *\n",
    "    \n",
    "Be careful with this command. If there are any naming conflicts, objects that had been created previously might be over-written. "
   ]
  },
  {
   "cell_type": "code",
   "execution_count": null,
   "metadata": {},
   "outputs": [],
   "source": [
    "from math import *\n",
    "\n",
    "print(pi)\n",
    "print(sin(pi))\n",
    "print(cos(pi))"
   ]
  }
 ],
 "metadata": {
  "kernelspec": {
   "display_name": "Python 3",
   "language": "python",
   "name": "python3"
  },
  "language_info": {
   "codemirror_mode": {
    "name": "ipython",
    "version": 3
   },
   "file_extension": ".py",
   "mimetype": "text/x-python",
   "name": "python",
   "nbconvert_exporter": "python",
   "pygments_lexer": "ipython3",
   "version": "3.7.3"
  }
 },
 "nbformat": 4,
 "nbformat_minor": 2
}
