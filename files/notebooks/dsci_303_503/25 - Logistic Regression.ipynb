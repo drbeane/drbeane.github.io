{
 "cells": [
  {
   "cell_type": "markdown",
   "metadata": {},
   "source": [
    "# Lesson 25 - Logistic Regression\n",
    "\n",
    "### The following topics are discussed in this notebook:\n",
    "* Overview of logistic regression.\n",
    "* Building logistic regression models in Scikit-Learn."
   ]
  },
  {
   "cell_type": "markdown",
   "metadata": {},
   "source": [
    "## Classification Tasks\n",
    "\n",
    "Recall that in a classification task, we wish to create a model capable of generating predictions for the value of a categorical label (or response variable) $Y$. The model will use values of one or more features (or predictor variables) $X^{(1)}, X^{(2)}, ..., X^{(m)}$ as inputs. \n",
    "\n",
    "There are many different types of algorithms that you might consider applying for a given classification task. Some will work better on certain datasets than others. In this lesson, we will discuss the most basic type of classification algorithm, logistic regression. \n",
    "\n",
    "**Note:** Despite it's name, logistic regression is a **classification** algorithm, not a **regression** algorithm. "
   ]
  },
  {
   "cell_type": "code",
   "execution_count": null,
   "metadata": {},
   "outputs": [],
   "source": [
    "import numpy as np\n",
    "import pandas as pd\n",
    "import matplotlib.pyplot as plt"
   ]
  },
  {
   "cell_type": "markdown",
   "metadata": {},
   "source": [
    "## Preliminary: The Sigmoid Function\n",
    "\n",
    "Before explaining the details of logistic regression, we first need to introduce the sigmoid function. The **sigmoid** (or **logistic**) function is given by the following formula:\n",
    "\n",
    "$\\Large \\sigma(z) = \\frac{e^z}{1+e^z} = \\frac{1}{1 + e^{-z}}$\n",
    "\n",
    "A plot of the sigmoid function is shown below."
   ]
  },
  {
   "cell_type": "code",
   "execution_count": null,
   "metadata": {},
   "outputs": [],
   "source": [
    "z = np.linspace(-10,10,100)\n",
    "w = 1 / (1 + np.exp(-z))\n",
    "\n",
    "plt.close()\n",
    "plt.rcParams[\"figure.figsize\"] = [6,4]\n",
    "plt.plot(z,w)\n",
    "plt.plot([-10,10],[1,1], linestyle=':', c=\"r\")\n",
    "plt.plot([-10,10],[0,0], linestyle=':', c=\"r\")\n",
    "plt.plot([0,0],[0,1], linewidth=1, c=\"dimgray\")\n",
    "plt.show()"
   ]
  },
  {
   "cell_type": "markdown",
   "metadata": {},
   "source": [
    "One important property of the sigmoid function is that its output always lie between 0 and 1. As a result, the output of a sigmoid function can be interpreted as a probability."
   ]
  },
  {
   "cell_type": "markdown",
   "metadata": {},
   "source": [
    "## Logistic Regression\n",
    "\n",
    "A **logistic regression** model is a probabilistic linear classification method that can be used to estimate the probability that an observation belongs to a particular class based on the feature values. Logistic regression can be adapted for use in multi-class classification problems, but we will begin by discussing the standard version of the algorithm, which is a binary classifier. "
   ]
  },
  {
   "cell_type": "markdown",
   "metadata": {},
   "source": [
    "## Binary Classification\n",
    "\n",
    "Let $Y$ be a categorical variable that can assume one of two different values. We will encode these values as 0 and 1. These values are meant to represent two different categories or classes that observations can fall into. Assume that for each observation, we have not only a value for $Y$, but also values for one or more features $X^{(1)}, X^{(2)}, ..., X^{(m)}$. Suppose that the specific feature values for an observation have an impact on the likelihood of that observation belonging to one class or another. Given a set of observed feature values $x^{(1)}, x^{(2)}, ..., x^{(m)}$ for an observation, let `p` denote the probability that $Y=1$, and let `q` denote the probability that $Y=0$. Using probabilistic notation, we could write:\n",
    "\n",
    "$$\\large p = P \\left[Y = 1 ~|~ X^{(1)} = x^{(1)}, X^{(2)} = x^{(2)}, ..., X^{(m)} = x^{(m)} \\right]$$\n",
    "$$\\large q = P \\left[Y = 0 ~|~ X^{(1)} = x^{(1)}, X^{(2)} = x^{(2)}, ..., X^{(m)} = x^{(m)} \\right]$$\n"
   ]
  },
  {
   "cell_type": "markdown",
   "metadata": {},
   "source": [
    "## The Logistic Regression Model \n",
    "\n",
    "The logistic regression model estimates the value of `p` using a formula of the following form: \n",
    "\n",
    "$$\\large \\hat{p} = \\sigma\\left(\\hat{\\beta}_0 + \\hat{\\beta}_1 X^{(1)} + \\hat{\\beta}_2 X^{(2)} + ... + \\hat{\\beta}_m X^{(m)}\\right)$$\n",
    "\n",
    "The function $\\sigma$ in the expression above refers to the sigmoid function. The linear combination inside of the sigmoid could produce values that fall outside of the range $[0,1]$, but since we then apply the sigmoid to this result, we may interpret the results as a probability. Notice that the logistic regression model directly estimates only the probability $p$. However, if we have an estimate for $p$, then we can generate an estimate for $q$ using $\\hat q = 1 - \\hat p$.  \n",
    "\n",
    "The  parameters $\\hat{\\beta}_0, \\hat{\\beta}_1, \\hat{\\beta}_2, ..., \\hat{\\beta}_m$ are calculated by a learning algorithm to generate the model that provides the best fit for the given data, as was the case with linear regression. This is accomplished by minimizing the negative log-likelihood loss function on the data set. "
   ]
  },
  {
   "cell_type": "markdown",
   "metadata": {},
   "source": [
    "## Negative Log-Likelihood Loss\n",
    "\n",
    "The **negative log-likelihood (NLL)** function is a common loss function used to score classification models. The NLL score is based on how likely it is for us to have seen observations of the sort observed, according to the model. \n",
    "\n",
    "Consider a binary classification problem with two classes: $Y=0$ and $Y=1$. Let $y_1, y_2, y_3, ..., y_n$ be the observed classes for several instances in a dataset. Let $\\hat p_1, \\hat p_2, ..., \\hat p_n$ be probability estimates generated by a logistic regression model for each observation. Recall that these are estimates of the probability that $Y=1$, specifically. For each observation, let $\\hat\\pi_i$ be the model's estimate of the probability of the observation belonging to the class to which it was *actually* observed to be in. That is:\n",
    "\n",
    "$$\\hat\\pi_i = \\left\\{\\begin{array}{ll}\\hat p_i & \\text{if  } y_i = \\text{1} \\\\\n",
    "1 - \\hat p_i & \\text{if  } ~y_i = \\text{0}\n",
    "\\end{array}\\right.$$\n",
    "\n",
    "We define the model's **likelihood** score on the dataset to be:\n",
    "\n",
    "$$\\large L = \\hat\\pi_1 \\cdot \\hat\\pi_2 \\cdot ... \\cdot \\hat\\pi_n = \\prod_{i=1}^{n} \\hat\\pi_i$$\n",
    "\n",
    "And we define the model's **negative log-likelihood** score on the dataset to be: \n",
    "\n",
    "$$\\large NLL = -\\ln(L) = -\\sum_{i=1}^n \\ln(\\hat\\pi_i)$$\n",
    "\n",
    "The logistic regression learning algorithm will select the parameter values $\\hat{\\beta}_0, \\hat{\\beta}_1, \\hat{\\beta}_2, ..., \\hat{\\beta}_m$ that will result in the smallest value for negative log-likelihood. This is equivalent to selecting the parameter values that would produce the highest likelihood score. In practice, we use NLL rather than likelihood because NLL is more convenient to work with, both computationally and mathematically. "
   ]
  },
  {
   "cell_type": "markdown",
   "metadata": {},
   "source": [
    "## Logistic Regression in Scikit-Learn\n",
    "\n",
    "Logistic regression models are created in Scikit-Learn as instances of the `LogisticRegression` class, which is found in the `sklearn.linear_model` module. We will import that now, along with some other Scikit-Learn tools that we will need in this lesson."
   ]
  },
  {
   "cell_type": "code",
   "execution_count": null,
   "metadata": {},
   "outputs": [],
   "source": [
    "from sklearn.model_selection import train_test_split\n",
    "from sklearn.metrics import confusion_matrix, classification_report\n",
    "from sklearn.linear_model import LogisticRegression"
   ]
  },
  {
   "cell_type": "markdown",
   "metadata": {},
   "source": [
    "## Example: Exam Preparation\n",
    "\n",
    "Assume that students in a certain field have to take a professional exam. We wish to determine the effect that time spent studying has on a students chance of passing the exam. We collect a dataset consisting of 200 students. For each student, we have the following pieces of information:\n",
    "\n",
    "* `study_hrs` - The number of hours the student spent studying alone. \n",
    "\n",
    "* `seminar_hrs` - The number of hours the student spent in an exam preparation seminar. \n",
    "\n",
    "* `passed` - The results of the test. The result is recorded as '0' if the student failed and '1' if the student passed. \n",
    "\n",
    "We now read the data into a DataFrame, and view the first 5 rows.\n"
   ]
  },
  {
   "cell_type": "code",
   "execution_count": null,
   "metadata": {},
   "outputs": [],
   "source": [
    "df = pd.read_csv('data/exam_prep.txt', sep='\\t')\n",
    "df.head()"
   ]
  },
  {
   "cell_type": "markdown",
   "metadata": {},
   "source": [
    "We extract the feature array `X` and the label array `y` from the DataFrame."
   ]
  },
  {
   "cell_type": "code",
   "execution_count": null,
   "metadata": {},
   "outputs": [],
   "source": [
    "X = df.iloc[:,:2].values\n",
    "y = df.iloc[:,2].values"
   ]
  },
  {
   "cell_type": "markdown",
   "metadata": {},
   "source": [
    "In hte figure below, we display a scatter plot of our dataset, using the two feature values as the coordinates for points in our plot. We fill each point according to the results of the exam for the student represented by that point. "
   ]
  },
  {
   "cell_type": "code",
   "execution_count": null,
   "metadata": {},
   "outputs": [],
   "source": [
    "plt.figure(figsize=[8,6])\n",
    "plt.scatter(X[y==1,0], X[y==1,1], s=50, alpha=0.8,\n",
    "            c='royalblue', edgecolors='k', label='Passed')\n",
    "plt.scatter(X[y==0,0], X[y==0,1], s=50, alpha=0.8,\n",
    "            c='orangered', edgecolors='k', label='Failed')\n",
    "\n",
    "plt.xlabel('Hours Spent Studying Alone')\n",
    "plt.ylabel('Hours Spent in Seminar')\n",
    "\n",
    "plt.xlim([55,125])\n",
    "plt.ylim([-2,22])\n",
    "plt.legend()\n",
    "plt.show()"
   ]
  },
  {
   "cell_type": "markdown",
   "metadata": {},
   "source": [
    "We will split the dataset into training and test sets, using an 70/30 split. We will not create a validation set in this instance, as we will not be comparing different models in this example. "
   ]
  },
  {
   "cell_type": "code",
   "execution_count": null,
   "metadata": {},
   "outputs": [],
   "source": [
    "X_train, X_test, y_train, y_test =\\\n",
    "    train_test_split(X, y, test_size = 0.3, random_state=1, stratify=y)"
   ]
  },
  {
   "cell_type": "markdown",
   "metadata": {},
   "source": [
    "In the figure below, we display scatter plots for the training and test sets separately. "
   ]
  },
  {
   "cell_type": "code",
   "execution_count": null,
   "metadata": {},
   "outputs": [],
   "source": [
    "plt.figure(figsize=[12,4])\n",
    "plt.subplot(1,2,1)\n",
    "sel = y_train == 1\n",
    "plt.scatter(X_train[sel,0], X_train[sel,1], s=50, alpha=0.8,\n",
    "            c='royalblue', edgecolors='k', label='Passed')\n",
    "plt.scatter(X_train[~sel,0], X_train[~sel,1], s=50, alpha=0.8,\n",
    "            c='orangered', edgecolors='k', label='Failed')\n",
    "plt.xlabel('Hours Spent Studying Alone')\n",
    "plt.ylabel('Hours Spent in Seminar')\n",
    "plt.xlim([55,125])\n",
    "plt.ylim([-2,22])\n",
    "\n",
    "plt.subplot(1,2,2)\n",
    "sel = y_test == 1\n",
    "plt.scatter(X_test[sel,0], X_test[sel,1], s=50, alpha=0.8,\n",
    "            c='royalblue', edgecolors='k', label='Passed')\n",
    "plt.scatter(X_test[~sel,0], X_test[~sel,1], s=50, alpha=0.8,\n",
    "            c='orangered', edgecolors='k', label='Failed')\n",
    "plt.xlabel('Hours Spent Studying Alone')\n",
    "plt.ylabel('Hours Spent in Seminar')\n",
    "plt.legend(bbox_to_anchor=(1, 1), loc='upper left')\n",
    "\n",
    "plt.show()"
   ]
  },
  {
   "cell_type": "markdown",
   "metadata": {},
   "source": [
    "We will now use the `LogisticRegression` class from Scikit-Learn to create the classification model. As was the case with linear regression, the trained model object will contain two attributes `intercept_` and `coef_` that will contain the values of the parameters $\\hat{\\beta}_0, \\hat{\\beta}_1, \\hat{\\beta}_2, ..., \\hat{\\beta}_m$ for the optimal model selected by the training algorithm. "
   ]
  },
  {
   "cell_type": "code",
   "execution_count": null,
   "metadata": {},
   "outputs": [],
   "source": [
    "model_1 = LogisticRegression(solver='lbfgs', penalty='none')\n",
    "model_1.fit(X_train, y_train)\n",
    "\n",
    "print('Intercept:   ',  model_1.intercept_)\n",
    "print('Coefficients:', model_1.coef_)"
   ]
  },
  {
   "cell_type": "markdown",
   "metadata": {},
   "source": [
    "The formula of our optimal logistic regression model is:\n",
    "\n",
    "$$\\Large \\hat p = \\sigma \\left(-11.5908 ~+~ 0.0972 \\cdot \\textrm{study_hrs} ~+~ 0.2880 \\cdot \\textrm{seminar_hrs}\\right)$$\n",
    "\n",
    "This can also be written in the following form:\n",
    "\n",
    "$$\\Large\\hat p = \\frac {1} \n",
    "{1 + e^{11.5908 ~-~ 0.0972 \\cdot \\textrm{study_hrs} ~-~ 0.2880 \\cdot \\textrm{seminar_hrs}}}$$\n",
    "\n",
    "The decision boundary for this model is displayed below. \n"
   ]
  },
  {
   "cell_type": "code",
   "execution_count": null,
   "metadata": {},
   "outputs": [],
   "source": [
    "b = -model_1.intercept_ / model_1.coef_[0,1]\n",
    "m = -model_1.coef_[0,0] / model_1.coef_[0,1]\n",
    "plt.figure(figsize=[12,4])\n",
    "plt.subplot(1,2,1)\n",
    "sel = y_train == 1\n",
    "plt.scatter(X_train[sel,0], X_train[sel,1], s=50, alpha=0.8,\n",
    "            c='royalblue', edgecolors='k', label='Passed', zorder=3)\n",
    "plt.scatter(X_train[~sel,0], X_train[~sel,1], s=50, alpha=0.8,\n",
    "            c='orangered', edgecolors='k', label='Failed', zorder=3)\n",
    "\n",
    "plt.fill([0,200,200,0],[-10,-10,b + m*200, b],'orangered',alpha=0.2, zorder=1)\n",
    "plt.fill([0,200,200,0],[30,30,b + m*200, b],'royalblue',alpha=0.2, zorder=1)\n",
    "plt.plot([0,200],[b, b + 200*m], c='royalblue', alpha=0.6, zorder=2)\n",
    "\n",
    "plt.xlabel('Hours Spent Studying Alone')\n",
    "plt.ylabel('Hours Spent in Seminar')\n",
    "plt.xlim([55,125])\n",
    "plt.ylim([-2,22])\n",
    "\n",
    "plt.subplot(1,2,2)\n",
    "sel = y_test == 1\n",
    "plt.scatter(X_test[sel,0], X_test[sel,1], s=50, alpha=0.8,\n",
    "            c='royalblue', edgecolors='k', label='Passed', zorder=3)\n",
    "plt.scatter(X_test[~sel,0], X_test[~sel,1], s=50, alpha=0.8,\n",
    "            c='orangered', edgecolors='k', label='Failed', zorder=3)\n",
    "\n",
    "plt.fill([0,200,200,0],[-10,-10,b + m*200, b],'orangered',alpha=0.2, zorder=1)\n",
    "plt.fill([0,200,200,0],[30,30,b + m*200, b],'royalblue',alpha=0.2, zorder=1)\n",
    "plt.plot([0,200],[b, b + 200*m], c='royalblue', alpha=0.6, zorder=2)\n",
    "\n",
    "plt.xlabel('Hours Spent Studying Alone')\n",
    "plt.ylabel('Hours Spent in Seminar')\n",
    "plt.xlim([55,125])\n",
    "plt.ylim([-2,22])\n",
    "plt.legend(bbox_to_anchor=(1, 1), loc='upper left')\n",
    "\n",
    "plt.show()"
   ]
  },
  {
   "cell_type": "markdown",
   "metadata": {},
   "source": [
    "We now use the model's `score()` method to calculate its accuracy on the training and test sets."
   ]
  },
  {
   "cell_type": "code",
   "execution_count": null,
   "metadata": {},
   "outputs": [],
   "source": [
    "train_acc = model_1.score(X_train, y_train)\n",
    "test_acc = model_1.score(X_test, y_test)\n",
    "\n",
    "print('Training Accuracy:', round(train_acc,4))\n",
    "print('Testing Accuracy: ', round(test_acc,4))"
   ]
  },
  {
   "cell_type": "markdown",
   "metadata": {},
   "source": [
    "Suppose that we want to estimate the chances of passing for three students who have prepared as follows:\n",
    "\n",
    "1. `study_hrs = 70` and `seminar_hrs = 16`\n",
    "2. `study_hrs = 100` and `seminar_hrs = 10`\n",
    "3. `study_hrs = 120` and `seminar_hrs = 5`\n",
    "\n",
    "We can use the `predict()` method to generate a prediction as to whether or not each of these students will pass the exam. "
   ]
  },
  {
   "cell_type": "code",
   "execution_count": null,
   "metadata": {},
   "outputs": [],
   "source": [
    "X_new = [[70,16],[100,10],[120,5]]\n",
    "print(model_1.predict(X_new))"
   ]
  },
  {
   "cell_type": "markdown",
   "metadata": {},
   "source": [
    "We can use the `predict_proba()` method to estimate the probability of success for each of these students. "
   ]
  },
  {
   "cell_type": "code",
   "execution_count": null,
   "metadata": {},
   "outputs": [],
   "source": [
    "print(model_1.predict_proba(X_new))"
   ]
  },
  {
   "cell_type": "markdown",
   "metadata": {},
   "source": [
    "## Example: Pima Diabetes Dataset\n",
    "\n",
    "For this example, we will be working with the Pima Diabetes Dataset. This dataset is originally from the National Institute of Diabetes and Digestive and Kidney Diseases. The objective is to predict based on diagnostic measurements whether a patient has diabetes. All patients are females at least 21 years old of Pima Indian heritage. \n",
    "\n",
    "The columns in this dataset are described below. \n",
    "\n",
    "* **Pregnancies**: Number of times pregnant\n",
    "* **Glucose**: Plasma glucose concentration a 2 hours in an oral glucose tolerance test\n",
    "* **BloodPressure**: Diastolic blood pressure (mm Hg)\n",
    "* **SkinThickness**: Triceps skin fold thickness (mm)\n",
    "* **Insulin**: 2-Hour serum insulin (mu U/ml)\n",
    "* **BMI**: Body mass index (weight in kg/(height in m)^2)\n",
    "* **DiabetesPedigreeFunction**: Diabetes pedigree function\n",
    "* **Age**: Age (years)\n",
    "* **Outcome**: Class variable (0 or 1)\n",
    "\n",
    "Our goal will be to predict the value of `Outcome` using the other variables in the dataset as features.\n",
    "\n",
    "We start by importing the dataset and view the first 10 rows. "
   ]
  },
  {
   "cell_type": "code",
   "execution_count": null,
   "metadata": {},
   "outputs": [],
   "source": [
    "pima = pd.read_csv('data/diabetes.csv', sep=',')\n",
    "pima.head(10)"
   ]
  },
  {
   "cell_type": "markdown",
   "metadata": {},
   "source": [
    "Let's check the dimensions of the DataFrame."
   ]
  },
  {
   "cell_type": "code",
   "execution_count": null,
   "metadata": {},
   "outputs": [],
   "source": [
    "print(pima.shape)"
   ]
  },
  {
   "cell_type": "markdown",
   "metadata": {},
   "source": [
    "We will extract the feature and label arrays from the DataFrame."
   ]
  },
  {
   "cell_type": "code",
   "execution_count": null,
   "metadata": {},
   "outputs": [],
   "source": [
    "X = pima.iloc[:,:-1].values\n",
    "y = pima.iloc[:,-1].values"
   ]
  },
  {
   "cell_type": "markdown",
   "metadata": {},
   "source": [
    "Before creating a model, let's calculate the proportion of observations in the dataset that are actually diabetic. "
   ]
  },
  {
   "cell_type": "code",
   "execution_count": null,
   "metadata": {},
   "outputs": [],
   "source": [
    "print(np.mean(y == 1))"
   ]
  },
  {
   "cell_type": "markdown",
   "metadata": {},
   "source": [
    "We note that roughly 35% of individuals represented in the dataset are in fact diabetic. \n",
    "\n",
    "We now split the data into training and test sets, using a 70/30 split."
   ]
  },
  {
   "cell_type": "code",
   "execution_count": null,
   "metadata": {},
   "outputs": [],
   "source": [
    "X_train, X_test, y_train, y_test =\\\n",
    "    train_test_split(X, y, test_size = 0.3, random_state=1, stratify=y)"
   ]
  },
  {
   "cell_type": "markdown",
   "metadata": {},
   "source": [
    "We will now create use Scikit-Learn to create our logistic regression classifier. We will then print the parameters for our optimal model. "
   ]
  },
  {
   "cell_type": "code",
   "execution_count": null,
   "metadata": {},
   "outputs": [],
   "source": [
    "model_2 = LogisticRegression(solver='lbfgs', penalty='none', max_iter=2000)\n",
    "model_2.fit(X_train, y_train)\n",
    "\n",
    "np.set_printoptions(suppress=True)\n",
    "print('Intercept:   ',  model_2.intercept_)\n",
    "print('Coefficients:', model_2.coef_)"
   ]
  },
  {
   "cell_type": "markdown",
   "metadata": {},
   "source": [
    "We now use the model's `score()` method to calculate its accuracy on the training and test sets."
   ]
  },
  {
   "cell_type": "code",
   "execution_count": null,
   "metadata": {},
   "outputs": [],
   "source": [
    "train_acc = model_2.score(X_train, y_train)\n",
    "test_acc = model_2.score(X_test, y_test)\n",
    "\n",
    "print('Training Accuracy:', round(train_acc,4))\n",
    "print('Testing Accuracy: ', round(test_acc,4))"
   ]
  },
  {
   "cell_type": "markdown",
   "metadata": {},
   "source": [
    "Let's use our model to generate predictions for each of the first three observations in our test set. The feature values for these observations are displayed below."
   ]
  },
  {
   "cell_type": "code",
   "execution_count": null,
   "metadata": {},
   "outputs": [],
   "source": [
    "pd.DataFrame(X_test[:3,:], columns=pima.columns[:-1])"
   ]
  },
  {
   "cell_type": "markdown",
   "metadata": {},
   "source": [
    "We will use the `predict()` method to predict the value of `Outcome` for each of these observations. We display the predictions, along with the observed values of `Outcome`. "
   ]
  },
  {
   "cell_type": "code",
   "execution_count": null,
   "metadata": {},
   "outputs": [],
   "source": [
    "print('Predicted Labels:', model_2.predict(X_test[:3,]))\n",
    "print('Observed Labels: ', y_test[:3])"
   ]
  },
  {
   "cell_type": "markdown",
   "metadata": {},
   "source": [
    "We will now use `predict_proba` to generate probability estimates for each of the three observations."
   ]
  },
  {
   "cell_type": "code",
   "execution_count": null,
   "metadata": {},
   "outputs": [],
   "source": [
    "print(model_2.predict_proba(X_test[:3,]))"
   ]
  },
  {
   "cell_type": "markdown",
   "metadata": {},
   "source": [
    "We close this example by displaying the confuction matrix and classification report for our model, as calculated on the test set. "
   ]
  },
  {
   "cell_type": "code",
   "execution_count": null,
   "metadata": {},
   "outputs": [],
   "source": [
    "pred_test = model_2.predict(X_test)\n",
    "cm = confusion_matrix(y_test, pred_test)\n",
    "cm_df = pd.DataFrame(cm)\n",
    "cm_df"
   ]
  },
  {
   "cell_type": "code",
   "execution_count": null,
   "metadata": {},
   "outputs": [],
   "source": [
    "print(classification_report(y_test, pred_test))"
   ]
  },
  {
   "cell_type": "markdown",
   "metadata": {},
   "source": [
    "This report suggests the following:\n",
    "\n",
    "* When the model classifies someone as non-diabetic, it will be correct roughly 79% of the time. \n",
    "* When the model classifies someone as diabetic, it will be correct roughly 73% of the time. \n",
    "* The model will correctly classify 83% of non-diabetic individuals. \n",
    "* The model will correctly classify 56% of diabetic individuals. "
   ]
  },
  {
   "cell_type": "markdown",
   "metadata": {},
   "source": [
    "## Multiclass Classification with Logistic Regression\n",
    "\n",
    "Assume that we wish to create a classification model for use in a task in which there are 3 or more classes. In particular, assume that there are `m` predictors and that our labels each fall into one of `K` classes, where `K` is greater than 2. In this case, the standard version of logistic regression will not work, as it can only perform binary classification. There are, however, multiple ways of adapting logistic regression to perfom multiclass classification. We will present one such method here. \n",
    "\n",
    "In **multinomial logistic regression**, we generate a probability distribution  $\\large\\hat p^{(1)},\\hat p^{(2)}, ...,\\hat p^{(K)}$ over the set of $K$ possible class labels. To generate these probability estimates, we use a model of the following form:\n",
    "\n",
    "* For each $k = 1, 2, ..., K$, let $\\large z^{(k)} = \\hat\\beta_{k,0} + \\hat\\beta_{k,1} \\cdot x^{(1)} + \\hat\\beta_{k,2} \\cdot x^{(2)} + ... +  \\hat\\beta_{k,M} \\cdot x^{(M)}$ \n",
    "\n",
    "\n",
    "* For each class, define $\\Large\\hat p^{(k)} = \\frac{e^{z^{(k)}}}{ \\sum_{j=1}^K e^{z^{(j)}} }$\n",
    "\n",
    "\n",
    "As with binomial logistic regression, the parameters $\\hat\\beta_{k,j}$ are selected by a learning algorithm to generate the model with the lowest negative log-likelihood score. \n"
   ]
  },
  {
   "cell_type": "markdown",
   "metadata": {},
   "source": [
    "## Example 3: Sythentic Dataset with Four Classes\n",
    "\n",
    "We will explore multinomial logistic regression using a synthetic dataset. We will generate the data for this example in the next cell."
   ]
  },
  {
   "cell_type": "code",
   "execution_count": null,
   "metadata": {},
   "outputs": [],
   "source": [
    "from sklearn.datasets import make_classification\n",
    "\n",
    "X, y = make_classification(n_samples=1000, n_features=2, n_informative=2, \n",
    "                           n_redundant=0, n_classes=4, n_clusters_per_class=1,\n",
    "                           class_sep=1.2, random_state=1)\n",
    "\n",
    "plt.figure(figsize=[8,6])\n",
    "plt.scatter(X[:,0], X[:,1], c=y, edgecolors='k', cmap='rainbow')\n",
    "plt.show()"
   ]
  },
  {
   "cell_type": "markdown",
   "metadata": {},
   "source": [
    "We will split the data into training and test sets using an 80/20 split."
   ]
  },
  {
   "cell_type": "code",
   "execution_count": null,
   "metadata": {},
   "outputs": [],
   "source": [
    "X_train, X_test, y_train, y_test = train_test_split(X, y, test_size=0.2, random_state=1, stratify=y)\n",
    "\n",
    "print('X_train Shape:', X_train.shape)\n",
    "print('X_test Shape: ', X_test.shape)"
   ]
  },
  {
   "cell_type": "markdown",
   "metadata": {},
   "source": [
    "In the cell below, we will create our multinomial logistic regression model. We indicate that we are performing multinomial regression by setting `multi_class='multinomial'`. We will also calculate the training and test accuracy for our model."
   ]
  },
  {
   "cell_type": "code",
   "execution_count": null,
   "metadata": {},
   "outputs": [],
   "source": [
    "model_3 = LogisticRegression(solver='lbfgs', penalty='none', multi_class='multinomial')\n",
    "model_3.fit(X_train, y_train)\n",
    "\n",
    "print('Training Accuracy:  ', model_3.score(X_train, y_train))\n",
    "print('Validation Accuracy:', model_3.score(X_test, y_test))"
   ]
  },
  {
   "cell_type": "markdown",
   "metadata": {},
   "source": [
    "We plot the decision boundaries for our model in the figure below."
   ]
  },
  {
   "cell_type": "code",
   "execution_count": null,
   "metadata": {},
   "outputs": [],
   "source": [
    "n, x0, x1, y0, y1 = 500, -4.5, 4.5, -4.5, 5.5\n",
    "xticks = np.linspace(x0, x1, n)\n",
    "yticks = np.linspace(y0, y1, n)\n",
    "grid_pts = np.transpose([np.tile(xticks,n), np.repeat(yticks,n)])\n",
    "class_grid = model_3.predict(grid_pts).reshape(n,n)\n",
    "plt.figure(figsize=[8,6])\n",
    "plt.pcolormesh(xticks, yticks, class_grid, cmap='rainbow', zorder=1, vmin=0, vmax=3)\n",
    "plt.fill([x0,x0,x1,x1], [y0,y1,y1,y0], 'white', alpha=0.5, zorder = 2)\n",
    "plt.scatter(X[:,0], X[:,1], c=y, edgecolors='k', cmap='rainbow', zorder=3)\n",
    "plt.show()"
   ]
  },
  {
   "cell_type": "markdown",
   "metadata": {},
   "source": [
    "The cell below display the confusion matrix for our model, as calculated on the test set. "
   ]
  },
  {
   "cell_type": "code",
   "execution_count": null,
   "metadata": {},
   "outputs": [],
   "source": [
    "test_pred = model_3.predict(X_test)\n",
    "\n",
    "cm = confusion_matrix(y_test, test_pred)\n",
    "\n",
    "cm_df = pd.DataFrame(cm)\n",
    "cm_df"
   ]
  },
  {
   "cell_type": "markdown",
   "metadata": {},
   "source": [
    "Finally, we display the classification report for our test set. "
   ]
  },
  {
   "cell_type": "code",
   "execution_count": null,
   "metadata": {},
   "outputs": [],
   "source": [
    "print(classification_report(y_test, test_pred))"
   ]
  }
 ],
 "metadata": {
  "kernelspec": {
   "display_name": "Python 3",
   "language": "python",
   "name": "python3"
  },
  "language_info": {
   "codemirror_mode": {
    "name": "ipython",
    "version": 3
   },
   "file_extension": ".py",
   "mimetype": "text/x-python",
   "name": "python",
   "nbconvert_exporter": "python",
   "pygments_lexer": "ipython3",
   "version": "3.7.1"
  }
 },
 "nbformat": 4,
 "nbformat_minor": 4
}
