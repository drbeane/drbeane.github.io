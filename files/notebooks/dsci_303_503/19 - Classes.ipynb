{
 "cells": [
  {
   "cell_type": "markdown",
   "metadata": {},
   "source": [
    "# Lesson 19 - Classes\n",
    "\n",
    "### The following topics are discussed in this notebook:\n",
    "* Classes and instances.\n",
    "* Attributes and methods.\n",
    "* Constructors\n"
   ]
  },
  {
   "cell_type": "markdown",
   "metadata": {},
   "source": [
    "## Classes\n",
    "\n",
    "A **class** is a programmer-defined data type. Python and its external packages contain many useful data types, but classes allow a programmer to create custom data types that are tailored to specific use-cases. Classes can contain functions, called **methods** as well as variables, called **attributes**. Classes are defined using the `class` keyword. \n",
    "\n",
    "In this lesson, we will create a simple class called `circle`. Objects of this data type are intended to represent geometric circles. We will define our circle class in steps. At each step, our class will become slightly more complex. \n",
    "\n",
    "## Circle Class: Version 1\n",
    "\n",
    "We will start will a very basic version that contains three attributes, `r`, `x`, and `y`. The attribute `r` is intended to store the radius of the circle, while `x` and `y` store the coordinates of the circle's center point. Our class will also contain a single method, called `area`. This will return the area of the circle, rounded to two decimal places. "
   ]
  },
  {
   "cell_type": "code",
   "execution_count": null,
   "metadata": {},
   "outputs": [],
   "source": [
    "# Version 1\n",
    "\n",
    "class circle:\n",
    "    \n",
    "    r = 5\n",
    "    x = 0\n",
    "    y = 0\n",
    "        \n",
    "    def area(self):\n",
    "        pi = 3.141592653589793\n",
    "        return round(pi * self.r**2, 2)"
   ]
  },
  {
   "cell_type": "markdown",
   "metadata": {},
   "source": [
    "Notice the references to the parameter `self` in the `area` method. This will refer to the instance of `circle` from which the `area` method is called. We will say more about this in a moment. \n",
    "\n",
    "### Creating Instances of a Class\n",
    "\n",
    "A class is simply a template. Defining a class does not create any instances of that type. We will now create an instance of our `circle` class, storing it in a variable named `c1`. "
   ]
  },
  {
   "cell_type": "code",
   "execution_count": null,
   "metadata": {},
   "outputs": [],
   "source": [
    "c1 = circle()\n",
    "\n",
    "print(type(c1))"
   ]
  },
  {
   "cell_type": "markdown",
   "metadata": {},
   "source": [
    "Notice that we can directly access the attributes of the class by following the class name with a period, and then the name of the attribute. "
   ]
  },
  {
   "cell_type": "code",
   "execution_count": null,
   "metadata": {},
   "outputs": [],
   "source": [
    "print('c1 radius:', c1.r)\n",
    "print('c1 center: (', c1.x, ',', c1.y, ')', sep='')"
   ]
  },
  {
   "cell_type": "markdown",
   "metadata": {},
   "source": [
    "We can use a similar format to call a method belonging to a class instance. "
   ]
  },
  {
   "cell_type": "code",
   "execution_count": null,
   "metadata": {},
   "outputs": [],
   "source": [
    "print('Area of c1:', c1.area())"
   ]
  },
  {
   "cell_type": "markdown",
   "metadata": {},
   "source": [
    "Notice that when we defined the `area()` method, we specified that it was to accept one parameter, named `self`. But when we called area, we apparently did not provide it with any arguments. In fact, we did. The class instance that the method is called from is always passed in as the first argument of the method. So, when we type `c1.area()`, the `circle` object `c1` is plugged in for the `self` parameter of `area`, and then when we encounter the expression `self.r` within this method, it is interpreted as `c1.r`. \n",
    "\n",
    "Every method within a class should have a `self` parameter that appears first within the parameter list. And `self` will always refer to the class instance from which the method was called."
   ]
  },
  {
   "cell_type": "markdown",
   "metadata": {},
   "source": [
    "### Changing Attribute Values\n",
    "\n",
    "Our circle `c1` has the default radius of `5`. We can change this by directly changing the value of `c1.r`."
   ]
  },
  {
   "cell_type": "code",
   "execution_count": null,
   "metadata": {},
   "outputs": [],
   "source": [
    "c1.r = 7\n",
    "print('Area of c1:', c1.area())"
   ]
  },
  {
   "cell_type": "markdown",
   "metadata": {},
   "source": [
    "### Creating Multiple Instances\n",
    "\n",
    "We can create as many instances of a class as we would like. Each such instance will be a separate object, with its own attributes and methods. "
   ]
  },
  {
   "cell_type": "code",
   "execution_count": null,
   "metadata": {},
   "outputs": [],
   "source": [
    "c2 = circle()\n",
    "c2.r = 3\n",
    "\n",
    "print('c1 radius:', c1.r)\n",
    "print('c2 radius:', c2.r)"
   ]
  },
  {
   "cell_type": "markdown",
   "metadata": {},
   "source": [
    "## Circle Class: Version 2\n",
    "\n",
    "Notice that each of our circles starts out with a default radius of 5, and a center at (0,0). We can easily change these, but it would be helpful if we could specify the desired values when creating an instance of `circle`. We will now update our circle class to allow us to do just that. \n",
    "\n",
    "### Constructors\n",
    "\n",
    "A **constructor** is a method that is called when an instance of a class is created. It is intended to perform the initialization of the class object. In Python, constructors should always have the special name `__init__()`. The constructor must accept `self` as a parameter, but can also accept additional parameters to be used during initialization. "
   ]
  },
  {
   "cell_type": "code",
   "execution_count": null,
   "metadata": {},
   "outputs": [],
   "source": [
    "class circle:\n",
    "    \n",
    "    def __init__(self, x, y, r):\n",
    "        self.x = x\n",
    "        self.y = y\n",
    "        self.r = r\n",
    "        \n",
    "    def area(self):\n",
    "        pi = 3.141592653589793\n",
    "        return pi * self.r**2"
   ]
  },
  {
   "cell_type": "markdown",
   "metadata": {},
   "source": [
    "When a class object is created, the constructor is immediately called the object is passed to the constructor, along with any other arguments that were listed between the parentheses when the object was created. Below, we wil create a circle with a center at (5,2), and a radius of 6. "
   ]
  },
  {
   "cell_type": "code",
   "execution_count": null,
   "metadata": {},
   "outputs": [],
   "source": [
    "c3 = circle(5, 2, 6)\n",
    "\n",
    "print('c3 radius:', c3.r)\n",
    "print('c3 center: (', c3.x, ',', c3.y, ')', sep='')"
   ]
  },
  {
   "cell_type": "markdown",
   "metadata": {},
   "source": [
    "This provides us with much more flexibility when creating instances of the `circle` class. "
   ]
  },
  {
   "cell_type": "markdown",
   "metadata": {},
   "source": [
    "### Circle Class: Version 3\n",
    "\n",
    "Let's complete our circle class by adding three new methods: `contains()`, `intersect()`, and `copy()`.\n",
    "\n",
    "* `contains()` will check to see whether or not a provided point is inside the circle. \n",
    "* `intersect()` will check to see whether or not two circles intersect. \n",
    "* `copy()` will create and return a copy of the instance from which it was called. \n",
    "\n",
    "We will discuss each of these methods further as we work through examples. "
   ]
  },
  {
   "cell_type": "code",
   "execution_count": null,
   "metadata": {},
   "outputs": [],
   "source": [
    "class circle:\n",
    "    \n",
    "    def __init__(self, x, y, r):\n",
    "        self.x = x\n",
    "        self.y = y\n",
    "        self.r = r\n",
    "        \n",
    "    def area(self):\n",
    "        pi = 3.141592653589793\n",
    "        return pi * self.r**2\n",
    "    \n",
    "    def contains(self, x, y):\n",
    "        # Find distance between center and new point\n",
    "        dist = ( (self.x - x)**2 + (self.y - y)**2 )**0.5\n",
    "        \n",
    "        # If that distance is less than r, return True.\n",
    "        # Otherwise, return False.\n",
    "        if dist < self.r:\n",
    "            return True\n",
    "        return False\n",
    "    \n",
    "    def intersect(self, other):\n",
    "        # Find distance between two centers\n",
    "        dist = ( (self.x - other.x)**2 + (self.y - other.y)**2 )**0.5\n",
    "        \n",
    "        # The circles intersect if the distance is between\n",
    "        # the sum and difference of the two radii.\n",
    "        if (dist >= abs(self.r - other.r)) and (dist <= self.r + other.r): \n",
    "            return True\n",
    "        return False\n",
    "        \n",
    "    def copy(self):\n",
    "        new_circle = circle(self.r, self.x, self.y)\n",
    "        return new_circle"
   ]
  },
  {
   "cell_type": "markdown",
   "metadata": {},
   "source": [
    "### Difference Between Attributes and Parameters\n",
    "\n",
    "Notice that the `contains()` method accepts two parameters named `x` and `y`, and recall that each `circle` object has attributes named `x` and `y`. Within the method, the attributes will be stored in `self.x` and `self.y`. These will be distinct from the values of the parameters `x` and `y`. These parameter values will be created in a local scope when the method is called, and will disappear when the function finishes executing. The attributes, on the other hand, will persist as part of the object itself. "
   ]
  },
  {
   "cell_type": "code",
   "execution_count": null,
   "metadata": {},
   "outputs": [],
   "source": [
    "c4 = circle(16, 20, 4)\n",
    "\n",
    "print(c4.contains(18, 21))\n",
    "print(c4.contains(19, 24))"
   ]
  },
  {
   "cell_type": "code",
   "execution_count": null,
   "metadata": {},
   "outputs": [],
   "source": [
    "print('c4 center: (', c4.x, ',', c4.y, ')', sep='')"
   ]
  },
  {
   "cell_type": "markdown",
   "metadata": {},
   "source": [
    "### Passing Instances as Arguments\n",
    "\n",
    "The `intersect()` checks to see if two circles intersect. Thus, it needs to accept two `circle` objects as arguments. These are referred to as `self` and `other`. The parameter `self` will, as always, reference to the `circle` instance from which `intersect()` was called. The object `other` will be provided to the method by listing it between the parentheses. "
   ]
  },
  {
   "cell_type": "code",
   "execution_count": null,
   "metadata": {},
   "outputs": [],
   "source": [
    "c5 = circle(x=0, y=0, r=4)\n",
    "c6 = circle(x=4, y=2, r=6)\n",
    "c7 = circle(x=5, y=4, r=1)\n",
    "\n",
    "print('c5 and c6 intersect:', c5.intersect(c6))\n",
    "print('c5 and c7 intersect:', c5.intersect(c7))\n",
    "print('c6 and c7 intersect:', c6.intersect(c7))"
   ]
  },
  {
   "cell_type": "markdown",
   "metadata": {},
   "source": [
    "### Copying Class Instances\n",
    "\n",
    "As is the case with lists, when we set a variable equal to another variable containing a class instance, the new variable will refer to the currently existing instance rather than a copy of that instance. "
   ]
  },
  {
   "cell_type": "code",
   "execution_count": null,
   "metadata": {},
   "outputs": [],
   "source": [
    "c8 = c7\n",
    "c8.r = 3\n",
    "\n",
    "print('c7 radius:', c7.r)\n",
    "print('c8 radius:', c8.r)"
   ]
  },
  {
   "cell_type": "markdown",
   "metadata": {},
   "source": [
    "We can copy instances of a class by providing them with a copy method. This method will create a new instance of the class itself, which it will then return. "
   ]
  },
  {
   "cell_type": "code",
   "execution_count": null,
   "metadata": {},
   "outputs": [],
   "source": [
    "c9 = c8.copy()\n",
    "c9.r = 9\n",
    "\n",
    "print('c8 radius:', c8.r)\n",
    "print('c9 radius:', c9.r)"
   ]
  },
  {
   "cell_type": "markdown",
   "metadata": {},
   "source": [
    "## Application: Sensor Network"
   ]
  },
  {
   "cell_type": "code",
   "execution_count": null,
   "metadata": {},
   "outputs": [],
   "source": [
    "import numpy as np\n",
    "import matplotlib.pyplot as plt"
   ]
  },
  {
   "cell_type": "code",
   "execution_count": null,
   "metadata": {},
   "outputs": [],
   "source": [
    "np.random.seed(1)\n",
    "n = 40\n",
    "x_array = np.random.uniform(0, 100, n)\n",
    "y_array = np.random.uniform(0, 100, n)\n",
    "r_array = np.random.uniform(10, 16, n)\n",
    "\n",
    "plt.figure(figsize=[10,10])\n",
    "ax = plt.gca()\n",
    "plt.scatter(x_array, y_array, edgecolor='k', s=100)\n",
    "for i in range(n):\n",
    "    ax.add_artist(plt.Circle((x_array[i],y_array[i]), r_array[i], color='cornflowerblue', alpha=0.2))\n",
    "plt.show()\n"
   ]
  },
  {
   "cell_type": "code",
   "execution_count": null,
   "metadata": {},
   "outputs": [],
   "source": [
    "site_list = []\n",
    "for i in range(n):\n",
    "    temp = circle(x_array[i], y_array[i], r_array[i])\n",
    "    site_list.append(temp)   "
   ]
  },
  {
   "cell_type": "code",
   "execution_count": null,
   "metadata": {},
   "outputs": [],
   "source": [
    "def count_sites(site_list, x, y):\n",
    "    site_count = 0\n",
    "    for i in range(len(site_list)):\n",
    "        if(site_list[i].contains(x, y)):\n",
    "            site_count += 1\n",
    "\n",
    "    return site_count"
   ]
  },
  {
   "cell_type": "code",
   "execution_count": null,
   "metadata": {},
   "outputs": [],
   "source": [
    "print(count_sites(site_list, 20, 82))\n",
    "print(count_sites(site_list, 60, 50))\n",
    "print(count_sites(site_list, 80, 90))"
   ]
  }
 ],
 "metadata": {
  "kernelspec": {
   "display_name": "Python 3",
   "language": "python",
   "name": "python3"
  },
  "language_info": {
   "codemirror_mode": {
    "name": "ipython",
    "version": 3
   },
   "file_extension": ".py",
   "mimetype": "text/x-python",
   "name": "python",
   "nbconvert_exporter": "python",
   "pygments_lexer": "ipython3",
   "version": "3.7.1"
  }
 },
 "nbformat": 4,
 "nbformat_minor": 4
}
