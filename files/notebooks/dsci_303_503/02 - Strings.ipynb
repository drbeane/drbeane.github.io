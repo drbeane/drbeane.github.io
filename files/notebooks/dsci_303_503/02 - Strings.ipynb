{
 "cells": [
  {
   "cell_type": "markdown",
   "metadata": {},
   "source": [
    "# Lesson 02 - Strings\n",
    "\n",
    "### The following topics are discussed in this notebook:\n",
    "* An introduction to the string data type.\n",
    "* Escape characters.\n",
    "* Operations on strings.\n",
    "* String functions."
   ]
  },
  {
   "cell_type": "markdown",
   "metadata": {},
   "source": [
    "## Introduction to Strings\n",
    "\n",
    "A string object is a piece of text, or in other words, a sequence of characters. When defining a string, we must put the characters that compose it inside either single or double quotes. These quotes are what allows Python to distinguish between a string and a command. \n",
    "\n",
    "In the cell below, we define a string variable, with the value `\"Hello World!\"`, and we then print the result. "
   ]
  },
  {
   "cell_type": "code",
   "execution_count": 1,
   "metadata": {},
   "outputs": [
    {
     "name": "stdout",
     "output_type": "stream",
     "text": [
      "Hello world!\n"
     ]
    }
   ],
   "source": [
    "my_string = \"Hello world!\"\n",
    "print(my_string)"
   ]
  },
  {
   "cell_type": "markdown",
   "metadata": {},
   "source": [
    "The official name of the Python string type is `str`. We confirm this be calling `type()` on `my_string`. "
   ]
  },
  {
   "cell_type": "code",
   "execution_count": 2,
   "metadata": {},
   "outputs": [
    {
     "data": {
      "text/plain": [
       "str"
      ]
     },
     "execution_count": 2,
     "metadata": {},
     "output_type": "execute_result"
    }
   ],
   "source": [
    "type(my_string)"
   ]
  },
  {
   "cell_type": "markdown",
   "metadata": {},
   "source": [
    "As mentioned above, we can also use single quotes when defining a string. The following definition of `my_string` is equivalent to the previous definition. "
   ]
  },
  {
   "cell_type": "code",
   "execution_count": 3,
   "metadata": {},
   "outputs": [
    {
     "name": "stdout",
     "output_type": "stream",
     "text": [
      "Hello world!\n"
     ]
    }
   ],
   "source": [
    "my_string = 'Hello world!'\n",
    "print(my_string)"
   ]
  },
  {
   "cell_type": "markdown",
   "metadata": {},
   "source": [
    "One benefit of being able to use either single quotes or double quotes when creating strings is that it allows us a convenient way to create strings that themselves contain quotes as characters. For instance, assume that we want to create a variable containing the following string:\n",
    "\n",
    "    He yelled, \"I have had enough!\" before storming out of the room.\n",
    "    \n",
    "The following attempt at creating this string will give us an error."
   ]
  },
  {
   "cell_type": "code",
   "execution_count": 4,
   "metadata": {},
   "outputs": [
    {
     "ename": "SyntaxError",
     "evalue": "invalid syntax (<ipython-input-4-4965ff137a3f>, line 1)",
     "output_type": "error",
     "traceback": [
      "\u001b[1;36m  File \u001b[1;32m\"<ipython-input-4-4965ff137a3f>\"\u001b[1;36m, line \u001b[1;32m1\u001b[0m\n\u001b[1;33m    sentence = \"He yelled, \"I have had enough!\" before storming out of the room.\"\u001b[0m\n\u001b[1;37m                            ^\u001b[0m\n\u001b[1;31mSyntaxError\u001b[0m\u001b[1;31m:\u001b[0m invalid syntax\n"
     ]
    }
   ],
   "source": [
    "sentence = \"He yelled, \"I have had enough!\" before storming out of the room.\""
   ]
  },
  {
   "cell_type": "markdown",
   "metadata": {},
   "source": [
    "In the example above, Python got confused by the quotation marks in the middle of the string. When it encountered the second quotation mark, it believed that this was the end of the string, although this was intended to be part of the string. \n",
    "\n",
    "There are a few ways to fix this. The simplest is to use single quotes to define the string. When Python encounters the first single quote, it knows that a string is being defined. It won't stop reading characters into the string until it hits another single quote. Any double quotes that it encounters along the way will be treated as inert characters."
   ]
  },
  {
   "cell_type": "code",
   "execution_count": 5,
   "metadata": {},
   "outputs": [
    {
     "name": "stdout",
     "output_type": "stream",
     "text": [
      "He yelled, \"I have had enough!\" before storming out of the room.\n"
     ]
    }
   ],
   "source": [
    "sentence = 'He yelled, \"I have had enough!\" before storming out of the room.'\n",
    "print(sentence)"
   ]
  },
  {
   "cell_type": "markdown",
   "metadata": {},
   "source": [
    "## Escape Sequences\n",
    "An **escape sequence** is a sequence of characters that Python applies special meaning to when they are encountered in a string. Several common escape sequences are listed below.\n",
    "\n",
    "| Escape Character  | Result |\n",
    "|:---:|-----|\n",
    "| **\\\\'**  | Prints a single quote. |\n",
    "| **\\\\\"**  | Prints a double quote. |\n",
    "| **\\\\n**  | Inserts a newline. |\n",
    "| **\\\\t**  | Inserts a tab. |\n",
    "| **\\\\\\**  | Inserts a backslash. |\n",
    "\n",
    "For an example use case for escape characters, assume that we want to define a variable containing the following string of characters: \n",
    "\n",
    "    He yelled, \"I've had enough!\" before storming out of the room.\n",
    "    \n",
    "As before, the presence of double quotes within the string prohibit us from being able to use double quotes to define the string. Furthermore, since the character for the apostrophe is the same as the character for a single quote, we are now no longer able to use single quotes to define our string. One solution is to use an escape character for the apostrophe so that Python knows to interpret it as text. "
   ]
  },
  {
   "cell_type": "code",
   "execution_count": 6,
   "metadata": {},
   "outputs": [
    {
     "name": "stdout",
     "output_type": "stream",
     "text": [
      "He yelled, \"I've had enough!\" before storming out of the room.\n"
     ]
    }
   ],
   "source": [
    "sentence = 'He yelled, \"I\\'ve had enough!\" before storming out of the room.'\n",
    "print(sentence)"
   ]
  },
  {
   "cell_type": "markdown",
   "metadata": {},
   "source": [
    "Had we wished, we could have escaped the double quotes within the string as well as the apostrophe. In this case, we could have used either single or double quotes to define our string. "
   ]
  },
  {
   "cell_type": "markdown",
   "metadata": {},
   "source": [
    "We can use the `\\n` escape character to insert a newline inside of a string. "
   ]
  },
  {
   "cell_type": "code",
   "execution_count": 7,
   "metadata": {},
   "outputs": [
    {
     "name": "stdout",
     "output_type": "stream",
     "text": [
      "It was the best of times.\n",
      "It was the worst of times.\n"
     ]
    }
   ],
   "source": [
    "tale2cities = \"It was the best of times.\\nIt was the worst of times.\"\n",
    "print(tale2cities)"
   ]
  },
  {
   "cell_type": "markdown",
   "metadata": {},
   "source": [
    "We can use `\\t` to insert tabs in our string. This can be used for indenting lines, or for aligning output. "
   ]
  },
  {
   "cell_type": "code",
   "execution_count": 8,
   "metadata": {},
   "outputs": [
    {
     "name": "stdout",
     "output_type": "stream",
     "text": [
      "Regular.\n",
      "\tIndented.\n",
      "\t\tDouble indented.\n"
     ]
    }
   ],
   "source": [
    "print(\"Regular.\")\n",
    "print(\"\\tIndented.\")\n",
    "print(\"\\t\\tDouble indented.\")"
   ]
  },
  {
   "cell_type": "markdown",
   "metadata": {},
   "source": [
    "The tab escape character can be used to align portions of multi-line output. The following example shows how we might use tabs to align columns in the printout of an employee database. "
   ]
  },
  {
   "cell_type": "code",
   "execution_count": 9,
   "metadata": {},
   "outputs": [
    {
     "name": "stdout",
     "output_type": "stream",
     "text": [
      "ID\tEmployee Name\tSalary\n",
      "-------------------------------\n",
      "107\tJane Doe\t$54,000\n",
      "139\tJohn Smith\t$48,300\n",
      "162\tPat Jones\t$52,500\n"
     ]
    }
   ],
   "source": [
    "print('ID\\tEmployee Name\\tSalary')\n",
    "print('-------------------------------')\n",
    "print('107\\tJane Doe\\t$54,000')\n",
    "print('139\\tJohn Smith\\t$48,300')\n",
    "print('162\\tPat Jones\\t$52,500')"
   ]
  },
  {
   "cell_type": "markdown",
   "metadata": {},
   "source": [
    "## Operations Involving Strings\n",
    "\n",
    "When appearing between numbers, the symbols `+`, `-`, `*`, `/`, and `**` perform the relevant arithmetic operations. However, these symbols can sometimes be used to combine instance of data types. We will see examples of this as we introduce new data types. The only one of these symbols that can be used between two strings is the `+` symbol. \n",
    "\n",
    "When `+` is used between two strings, it combines, or **concatenates** the strings. The string that appears on the left side of `+` will come first, and the string on the left side will be appended to the end. "
   ]
  },
  {
   "cell_type": "code",
   "execution_count": 10,
   "metadata": {},
   "outputs": [
    {
     "name": "stdout",
     "output_type": "stream",
     "text": [
      "starwars\n"
     ]
    }
   ],
   "source": [
    "a = 'star'\n",
    "b = 'wars'\n",
    "c = a + b\n",
    "print(c)"
   ]
  },
  {
   "cell_type": "markdown",
   "metadata": {},
   "source": [
    "We can use `+` to combine several strings at once. It is not necessary for all of the strings to be stored in variable. We see this in the next example, which placed "
   ]
  },
  {
   "cell_type": "code",
   "execution_count": 11,
   "metadata": {},
   "outputs": [
    {
     "name": "stdout",
     "output_type": "stream",
     "text": [
      "star wars\n"
     ]
    }
   ],
   "source": [
    "d = a + ' ' + b\n",
    "print(d)"
   ]
  },
  {
   "cell_type": "markdown",
   "metadata": {},
   "source": [
    "## Operations Involving Strings and Numbers"
   ]
  },
  {
   "cell_type": "markdown",
   "metadata": {},
   "source": [
    "If we try to combine a string and a number with +, we will get an error."
   ]
  },
  {
   "cell_type": "code",
   "execution_count": 12,
   "metadata": {},
   "outputs": [
    {
     "ename": "TypeError",
     "evalue": "can only concatenate str (not \"int\") to str",
     "output_type": "error",
     "traceback": [
      "\u001b[1;31m---------------------------------------------------------------------------\u001b[0m",
      "\u001b[1;31mTypeError\u001b[0m                                 Traceback (most recent call last)",
      "\u001b[1;32m<ipython-input-12-e8bf6f236ab3>\u001b[0m in \u001b[0;36m<module>\u001b[1;34m\u001b[0m\n\u001b[1;32m----> 1\u001b[1;33m \u001b[0mprint\u001b[0m\u001b[1;33m(\u001b[0m\u001b[1;34m\"one\"\u001b[0m \u001b[1;33m+\u001b[0m \u001b[1;36m2\u001b[0m\u001b[1;33m)\u001b[0m\u001b[1;33m\u001b[0m\u001b[1;33m\u001b[0m\u001b[0m\n\u001b[0m",
      "\u001b[1;31mTypeError\u001b[0m: can only concatenate str (not \"int\") to str"
     ]
    }
   ],
   "source": [
    "print(\"one\" + 2)"
   ]
  },
  {
   "cell_type": "markdown",
   "metadata": {},
   "source": [
    "Note that numbers enclosed with quotes are also considered strings. Python does not recongnize them as numbers."
   ]
  },
  {
   "cell_type": "code",
   "execution_count": 13,
   "metadata": {},
   "outputs": [
    {
     "ename": "TypeError",
     "evalue": "can only concatenate str (not \"int\") to str",
     "output_type": "error",
     "traceback": [
      "\u001b[1;31m---------------------------------------------------------------------------\u001b[0m",
      "\u001b[1;31mTypeError\u001b[0m                                 Traceback (most recent call last)",
      "\u001b[1;32m<ipython-input-13-2c8b8ec3d2f2>\u001b[0m in \u001b[0;36m<module>\u001b[1;34m\u001b[0m\n\u001b[1;32m----> 1\u001b[1;33m \u001b[0mprint\u001b[0m\u001b[1;33m(\u001b[0m\u001b[1;34m\"1\"\u001b[0m \u001b[1;33m+\u001b[0m \u001b[1;36m2\u001b[0m\u001b[1;33m)\u001b[0m\u001b[1;33m\u001b[0m\u001b[1;33m\u001b[0m\u001b[0m\n\u001b[0m",
      "\u001b[1;31mTypeError\u001b[0m: can only concatenate str (not \"int\") to str"
     ]
    }
   ],
   "source": [
    "print(\"1\" + 2)"
   ]
  },
  {
   "cell_type": "markdown",
   "metadata": {},
   "source": [
    "Although we are not able to \"add\" strings to numbers, we are able to \"multiply\" a string by a number. The result will be a string that has concatenated with itself the specified number of times."
   ]
  },
  {
   "cell_type": "code",
   "execution_count": 14,
   "metadata": {},
   "outputs": [
    {
     "name": "stdout",
     "output_type": "stream",
     "text": [
      "blah blah blah blah blah \n"
     ]
    }
   ],
   "source": [
    "print(\"blah \" * 5)"
   ]
  },
  {
   "cell_type": "markdown",
   "metadata": {},
   "source": [
    "Since the product of a string and an integer produces another string, expressions of this type can be concatenated together."
   ]
  },
  {
   "cell_type": "code",
   "execution_count": 15,
   "metadata": {},
   "outputs": [
    {
     "name": "stdout",
     "output_type": "stream",
     "text": [
      "la la la la doo doo doo \n"
     ]
    }
   ],
   "source": [
    "print(\"la \" * 4 + \"doo \" * 3)"
   ]
  },
  {
   "cell_type": "markdown",
   "metadata": {},
   "source": [
    "## Type Coercion with Strings\n",
    "\n",
    "We will now explore under what situations we are able to convert between `str` objects and `int` or `float` objects. \n",
    "\n",
    "We can convert a `str` object to an `int` or a `float` if the value contained within the string makes sense as the new datatype. "
   ]
  },
  {
   "cell_type": "code",
   "execution_count": 16,
   "metadata": {},
   "outputs": [
    {
     "name": "stdout",
     "output_type": "stream",
     "text": [
      "61\n",
      "61.0\n"
     ]
    }
   ],
   "source": [
    "a_str = '61'\n",
    "a_int = int(a_str)\n",
    "a_float = float(a_str)\n",
    "print(a_int)\n",
    "print(a_float)"
   ]
  },
  {
   "cell_type": "code",
   "execution_count": 17,
   "metadata": {},
   "outputs": [
    {
     "name": "stdout",
     "output_type": "stream",
     "text": [
      "7.93\n"
     ]
    }
   ],
   "source": [
    "b_str = '7.93'\n",
    "b_float = float(b_str)\n",
    "print(b_float)"
   ]
  },
  {
   "cell_type": "markdown",
   "metadata": {},
   "source": [
    "Since the value of `b_str` is not interpretable as an integer, we will get an error if we attempt to coerce it to an integer."
   ]
  },
  {
   "cell_type": "code",
   "execution_count": 18,
   "metadata": {},
   "outputs": [
    {
     "ename": "ValueError",
     "evalue": "invalid literal for int() with base 10: '7.93'",
     "output_type": "error",
     "traceback": [
      "\u001b[1;31m---------------------------------------------------------------------------\u001b[0m",
      "\u001b[1;31mValueError\u001b[0m                                Traceback (most recent call last)",
      "\u001b[1;32m<ipython-input-18-c64df22698bc>\u001b[0m in \u001b[0;36m<module>\u001b[1;34m\u001b[0m\n\u001b[1;32m----> 1\u001b[1;33m \u001b[0mb_int\u001b[0m \u001b[1;33m=\u001b[0m \u001b[0mint\u001b[0m\u001b[1;33m(\u001b[0m\u001b[0mb_str\u001b[0m\u001b[1;33m)\u001b[0m\u001b[1;33m\u001b[0m\u001b[1;33m\u001b[0m\u001b[0m\n\u001b[0m",
      "\u001b[1;31mValueError\u001b[0m: invalid literal for int() with base 10: '7.93'"
     ]
    }
   ],
   "source": [
    "b_int = int(b_str)"
   ]
  },
  {
   "cell_type": "markdown",
   "metadata": {},
   "source": [
    "If we are very insistent about coercing `b_int` to an integer, we can first coerce it into a float, and then an integer. "
   ]
  },
  {
   "cell_type": "code",
   "execution_count": 19,
   "metadata": {},
   "outputs": [
    {
     "name": "stdout",
     "output_type": "stream",
     "text": [
      "7\n"
     ]
    }
   ],
   "source": [
    "b_int = int(float(b_str))\n",
    "print(b_int)"
   ]
  },
  {
   "cell_type": "markdown",
   "metadata": {},
   "source": [
    "We can always convert an `int` or a `float` object to a `str` using the `str()` function."
   ]
  },
  {
   "cell_type": "code",
   "execution_count": 20,
   "metadata": {},
   "outputs": [
    {
     "name": "stdout",
     "output_type": "stream",
     "text": [
      "4.5\n"
     ]
    }
   ],
   "source": [
    "x_float = 4.5\n",
    "x_str = str(x_float)\n",
    "print(x_str)"
   ]
  },
  {
   "cell_type": "code",
   "execution_count": 21,
   "metadata": {},
   "outputs": [
    {
     "name": "stdout",
     "output_type": "stream",
     "text": [
      "8675409\n"
     ]
    }
   ],
   "source": [
    "y_int = 8675409\n",
    "y_str = str(y_int)\n",
    "print(y_str)"
   ]
  },
  {
   "cell_type": "markdown",
   "metadata": {},
   "source": [
    "Converting numerical values to strings can be very useful if we want to output a message that contains a mixture of predetermined text, as well as numeric values that are stored in variables. Converting the numeric portions of the message to strings allowed them to be concatenated with the rest of the text. \n",
    "\n",
    "Consider the following example."
   ]
  },
  {
   "cell_type": "code",
   "execution_count": 22,
   "metadata": {},
   "outputs": [
    {
     "name": "stdout",
     "output_type": "stream",
     "text": [
      "The square of 3.56 is 12.6736.\n"
     ]
    }
   ],
   "source": [
    "z = 3.56\n",
    "z2 = z**2\n",
    "\n",
    "print('The square of ' + str(z) + ' is ' + str(z2) + '.')"
   ]
  },
  {
   "cell_type": "markdown",
   "metadata": {},
   "source": [
    "## The `len()` Function\n",
    "\n",
    "Python provides several built-in functions for working with strings. The first such function we will discuss is `len()`. The `len()` function allows you to determine the length of a string."
   ]
  },
  {
   "cell_type": "code",
   "execution_count": 23,
   "metadata": {},
   "outputs": [
    {
     "name": "stdout",
     "output_type": "stream",
     "text": [
      "39\n"
     ]
    }
   ],
   "source": [
    "x = \"There are 39 characters in this string.\"\n",
    "print(len(x))"
   ]
  },
  {
   "cell_type": "markdown",
   "metadata": {},
   "source": [
    "## Methods\n",
    "\n",
    "The majority of the functions we will encounter when working with strings are **methods**. The difference between a method and other types of functions we will encounter is subtle, and will be discussed in greater detail later in the course. For now, we simply note the following points regarding methods:\n",
    "1. A method is a function that belongs to a specific object (such as an `int`, `float`, or `str`). \n",
    "2. To use a method on an object, you write the name of the object, follows by a dot, followed by the name of the method, followed by a set of parentheses.\n",
    "\n",
    "In the following example, we consider three string methods:\n",
    "\n",
    "* `upper()` converts the string to uppercase. \n",
    "* `lower()` converts the string to lowercase. \n",
    "* `title()` capitalizes the first letter of each word in the string. \n",
    "\n",
    "Note that none of these methods actually change the contents of the string. They instead provide a new string as their output. "
   ]
  },
  {
   "cell_type": "code",
   "execution_count": 24,
   "metadata": {},
   "outputs": [
    {
     "name": "stdout",
     "output_type": "stream",
     "text": [
      "THERE'S A METHOD IN THE MADNESS.\n",
      "there's a method in the madness.\n",
      "There'S A Method In The Madness.\n"
     ]
    }
   ],
   "source": [
    "myString = \"There's a method in the madness.\"\n",
    "print(myString.upper())\n",
    "print(myString.lower())\n",
    "print(myString.title())"
   ]
  },
  {
   "cell_type": "markdown",
   "metadata": {},
   "source": [
    "Some methods accept inputs (also called arguments). One example is the `count()` method. This method searches the string to see how many times the supplied input (also a string) appears within the original string. This is demonstrated below. "
   ]
  },
  {
   "cell_type": "code",
   "execution_count": 25,
   "metadata": {},
   "outputs": [
    {
     "name": "stdout",
     "output_type": "stream",
     "text": [
      "2\n",
      "5\n"
     ]
    }
   ],
   "source": [
    "print( myString.count(\"m\") )\n",
    "print( myString.count(\"e\") )"
   ]
  },
  {
   "cell_type": "markdown",
   "metadata": {},
   "source": [
    "The `replace()` method accepts two arguments. This method scans the source string, and replaces all occurences of the first argument with the second argument. Again, it does not actually change the contents of the original string. It instead returns a new string as output. "
   ]
  },
  {
   "cell_type": "code",
   "execution_count": 26,
   "metadata": {},
   "outputs": [
    {
     "name": "stdout",
     "output_type": "stream",
     "text": [
      "There's no method in the madness.\n"
     ]
    }
   ],
   "source": [
    "a = \"a \"\n",
    "b =  \"no \"\n",
    "print( myString.replace(a, b) )"
   ]
  }
 ],
 "metadata": {
  "kernelspec": {
   "display_name": "Python 3",
   "language": "python",
   "name": "python3"
  },
  "language_info": {
   "codemirror_mode": {
    "name": "ipython",
    "version": 3
   },
   "file_extension": ".py",
   "mimetype": "text/x-python",
   "name": "python",
   "nbconvert_exporter": "python",
   "pygments_lexer": "ipython3",
   "version": "3.7.1"
  }
 },
 "nbformat": 4,
 "nbformat_minor": 4
}
