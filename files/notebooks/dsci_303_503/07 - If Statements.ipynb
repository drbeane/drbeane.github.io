{
 "cells": [
  {
   "cell_type": "markdown",
   "metadata": {},
   "source": [
    "# Lesson 08 - If Statements\n",
    "\n",
    "### The following topics are discussed in this notebook:\n",
    "* If statements\n",
    "* If-Else statements\n",
    "* If-Elif-Else statements\n",
    "* If statements and loops\n"
   ]
  },
  {
   "cell_type": "markdown",
   "metadata": {},
   "source": [
    "## Conditional Statements\n",
    "\n",
    "We can use **conditional statements** to control how or if portions of our code will execute, based on logical criteria that we provide. The most basic type of conditional statement is an **if statement**. The syntax for an if statement is as follows:\n",
    "\n",
    "<pre>\n",
    "if condition:\n",
    "    code to be executed if condition is true\n",
    "</pre>"
   ]
  },
  {
   "cell_type": "code",
   "execution_count": 1,
   "metadata": {},
   "outputs": [],
   "source": [
    "grade = 34\n",
    "\n",
    "if grade >= 60:\n",
    "    print('You passed the exam.')\n",
    "    print('Congratulations!')"
   ]
  },
  {
   "cell_type": "markdown",
   "metadata": {},
   "source": [
    "## If-Else Statements\n",
    "\n",
    "We can use an if statemnt to determine whether or not a particular set of actions will be satisfied. But we will occasionally want to use a condition to determine which of two sets of actions will be completed. This functionality is provided to us by an **if-else** statement. The synax for an if-else statement is as follows:\n",
    "\n",
    "<pre>\n",
    "if condition:\n",
    "    code to be executed if condition is true\n",
    "else:\n",
    "    code to be executed if condition is false\n",
    "</pre>\n"
   ]
  },
  {
   "cell_type": "code",
   "execution_count": 2,
   "metadata": {},
   "outputs": [
    {
     "name": "stdout",
     "output_type": "stream",
     "text": [
      "You failed the exam.\n",
      "Better luck next time.\n"
     ]
    }
   ],
   "source": [
    "grade = 34\n",
    "\n",
    "if grade >= 60:\n",
    "    print(\"You passed the exam.\")\n",
    "    print(\"Congratulations!\")\n",
    "else:\n",
    "    print(\"You failed the exam.\")\n",
    "    print(\"Better luck next time.\")"
   ]
  },
  {
   "cell_type": "markdown",
   "metadata": {},
   "source": [
    "## If-Elif-Else Statements\n",
    "\n",
    "If statements allow us to determine whether or not a single set of actions will be taken, and if-else statments allow us to determine which of two sets of actions will be taken. If we require our program to select from more than two options when making a decision, we can use an **if-elif-else** statment. The syntax for this sort of statement is as follows:\n",
    "\n",
    "<pre>\n",
    "if condition1:\n",
    "    code to be executed if condition is true\n",
    "elif condition2:  \n",
    "    code to be executed if condition1 is false, but condition2 is true\n",
    "elif condition3:  \n",
    "    code to be executed if all above conditions are false, but condition3 is true\n",
    "elif condition4:  \n",
    "    code to be executed if all above conditions are false, but condition4 is true\n",
    "...\n",
    "else:\n",
    "    code to be executed if all above conditions are false. \n",
    "</pre>\n",
    "\n",
    "\n",
    "We can include as many conditions as we would like in an **if-elif-else** statement. However, It is important to note that only one portion of the code will be allowed to execute. It is possible that multiple conditions might potentially evaluate to `True`, but as soon as the **if-elif-else** statement encounters its first `True` condition, it will execute the code for that condition, and will then skip the rest of the statment. \n",
    "\n",
    "The example below provides an example with a single `elif` clause. "
   ]
  },
  {
   "cell_type": "code",
   "execution_count": 7,
   "metadata": {},
   "outputs": [
    {
     "name": "stdout",
     "output_type": "stream",
     "text": [
      "You got a 'B' on the exam.\n"
     ]
    }
   ],
   "source": [
    "grade = 85\n",
    "\n",
    "if grade >= 90:\n",
    "    print(\"You got an 'A' on the exam.\")\n",
    "elif grade >= 80:\n",
    "    print(\"You got a 'B' on the exam.\")\n",
    "elif grade >= 70:\n",
    "    print(\"You got a 'C' on the exam.\")\n",
    "elif grade >= 60:\n",
    "    print(\"You got a 'D' on the exam.\")\n",
    "else:\n",
    "    print(\"You got an 'F' on the exam.\")"
   ]
  },
  {
   "cell_type": "markdown",
   "metadata": {},
   "source": [
    "## Conditional Statements and Loops\n",
    "\n",
    "We will often use if statements in conjunctions with loops. In the example below, we are provided with two lists, one that contains the names of several students, and one that contains the grades that these students got on an exam. We will loop over these lists, printing a different message for each student.  "
   ]
  },
  {
   "cell_type": "code",
   "execution_count": 8,
   "metadata": {},
   "outputs": [
    {
     "name": "stdout",
     "output_type": "stream",
     "text": [
      "Anna got a grade of 'F' on the exam.\n",
      "Beth got a grade of 'A' on the exam.\n",
      "Chad got a grade of 'B' on the exam.\n",
      "Drew got a grade of 'F' on the exam.\n",
      "Elsa got a grade of 'C' on the exam.\n",
      "Fred got a grade of 'D' on the exam.\n"
     ]
    }
   ],
   "source": [
    "names = ['Anna', 'Beth', 'Chad', 'Drew', 'Elsa', 'Fred']\n",
    "grades = [56, 92, 87, 43, 75, 62]\n",
    "\n",
    "for i in range(0, len(names) ):\n",
    "    \n",
    "    if grades[i] >= 90:\n",
    "        print(names[i] + \" got a grade of 'A' on the exam.\")\n",
    "    elif grades[i] >= 80:\n",
    "        print(names[i] + \" got a grade of 'B' on the exam.\")\n",
    "    elif grades[i] >= 70:\n",
    "        print(names[i] + \" got a grade of 'C' on the exam.\")\n",
    "    elif grades[i] >= 60:\n",
    "        print(names[i] + \" got a grade of 'D' on the exam.\")\n",
    "    else:\n",
    "        print(names[i] + \" got a grade of 'F' on the exam.\")\n",
    "    "
   ]
  },
  {
   "cell_type": "markdown",
   "metadata": {},
   "source": [
    "## Example: Determining if Elements of a List are Odd or Even\n",
    "\n",
    "The modulus `%` is a mathematical operator that can be used to test for divisibilitiy. The expression `a % b` returns the remainder of `a` after division by `b`. If that remainder is 0, then that means that `a` is divisible by `b`. \n",
    "\n",
    "For example:"
   ]
  },
  {
   "cell_type": "code",
   "execution_count": 9,
   "metadata": {},
   "outputs": [
    {
     "name": "stdout",
     "output_type": "stream",
     "text": [
      "True\n",
      "False\n"
     ]
    }
   ],
   "source": [
    "print(27 % 3 == 0)\n",
    "print(17 % 3 == 0)"
   ]
  },
  {
   "cell_type": "markdown",
   "metadata": {},
   "source": [
    "One common use of the modulus operator is to check if a number is odd or even."
   ]
  },
  {
   "cell_type": "code",
   "execution_count": 11,
   "metadata": {},
   "outputs": [
    {
     "name": "stdout",
     "output_type": "stream",
     "text": [
      "False\n",
      "True\n"
     ]
    }
   ],
   "source": [
    "print(19 % 2 == 0 )\n",
    "print(16 % 2 == 0 )"
   ]
  },
  {
   "cell_type": "markdown",
   "metadata": {},
   "source": [
    "\n",
    "A list of integers is provided below. The for loop shown will loop over all of the elements of this list, displaying one of the following messages for each element of the list:\n",
    "\n",
    "    [x] is even.\n",
    "    [x] is odd."
   ]
  },
  {
   "cell_type": "code",
   "execution_count": 12,
   "metadata": {},
   "outputs": [
    {
     "name": "stdout",
     "output_type": "stream",
     "text": [
      "74 is even.\n",
      "-55 is odd.\n",
      "-77 is odd.\n",
      "58 is even.\n",
      "0 is even.\n",
      "91 is odd.\n",
      "62 is even.\n",
      "0 is even.\n",
      "-91 is odd.\n",
      "61 is odd.\n"
     ]
    }
   ],
   "source": [
    "my_list = [74, -55, -77, 58, 0, 91, 62, 0, -91, 61]\n",
    "\n",
    "for i in range(0, len(my_list)):\n",
    "    if my_list[i] % 2 == 0:\n",
    "        print(str(my_list[i]) + \" is even.\")\n",
    "    else:\n",
    "        print(str(my_list[i]) + \" is odd.\")"
   ]
  },
  {
   "cell_type": "markdown",
   "metadata": {},
   "source": [
    "## Example: Determining if Elements of a List are Positive, Negative, or Neither"
   ]
  },
  {
   "cell_type": "markdown",
   "metadata": {},
   "source": [
    "The cell below contains a look that will print out one of the following messages for each item in `my_list`. \n",
    "\n",
    "    [x] is positive.\n",
    "    [x] is negative.\n",
    "    [x] is neither positive nor negative.\n"
   ]
  },
  {
   "cell_type": "code",
   "execution_count": 13,
   "metadata": {},
   "outputs": [
    {
     "name": "stdout",
     "output_type": "stream",
     "text": [
      "74 is positive.\n",
      "-55 is negative.\n",
      "-77 is negative.\n",
      "58 is positive.\n",
      "0 is neither positive nor negative.\n",
      "91 is positive.\n",
      "62 is positive.\n",
      "0 is neither positive nor negative.\n",
      "-91 is negative.\n",
      "61 is positive.\n"
     ]
    }
   ],
   "source": [
    "for i in range(0, len(my_list)):\n",
    "    \n",
    "    if my_list[i] < 0:\n",
    "        print(str(my_list[i]) + \" is negative.\")\n",
    "    elif my_list[i] > 0:\n",
    "        print(str(my_list[i]) + \" is positive.\")\n",
    "    else:\n",
    "        print(str(my_list[i]) + \" is neither positive nor negative.\")"
   ]
  },
  {
   "cell_type": "markdown",
   "metadata": {},
   "source": [
    "## Example: Classifying Credit Scores\n",
    "\n",
    "Two lists are given below. One provides a list of names. The other provides a list of credit scores associated with each of the people in the first list. Assume that credit scores are classified as follows:\n",
    "\n",
    "* 0 - 599 is considered \"bad\". \n",
    "* 600 - 649 is considered \"poor\". \n",
    "* 650 - 699 is considered \"fair\".\n",
    "* 700 - 749 is considered \"good\". \n",
    "* 750 and up is considered \"excellent\". "
   ]
  },
  {
   "cell_type": "code",
   "execution_count": 15,
   "metadata": {},
   "outputs": [],
   "source": [
    "names = ['Anna', 'Beth', 'Chad', 'Drew', 'Elsa', 'Fred']\n",
    "credit = [683, 580, 752, 607, 615, 703]"
   ]
  },
  {
   "cell_type": "markdown",
   "metadata": {},
   "source": [
    "The cell below contains a loop that prints a statement of the following form for each individuals:\n",
    "\n",
    "    [name] has a [bad/poor/fair/good/excellent] credit score. "
   ]
  },
  {
   "cell_type": "code",
   "execution_count": 16,
   "metadata": {
    "scrolled": true
   },
   "outputs": [
    {
     "name": "stdout",
     "output_type": "stream",
     "text": [
      "Anna has a fair credit score.\n",
      "Beth has a bad credit score.\n",
      "Chad has a excellent credit score.\n",
      "Drew has a poor credit score.\n",
      "Elsa has a poor credit score.\n",
      "Fred has a good credit score.\n"
     ]
    }
   ],
   "source": [
    "for i in range(0, len(names)):\n",
    "    \n",
    "    if(credit[i] <= 599):\n",
    "        print(names[i] + \" has a bad credit score.\")\n",
    "    elif(credit[i] <= 649):\n",
    "        print(names[i] + \" has a poor credit score.\")\n",
    "    elif(credit[i] <= 699):\n",
    "        print(names[i] + \" has a fair credit score.\")\n",
    "    elif(credit[i] <= 749):\n",
    "        print(names[i] + \" has a good credit score.\")\n",
    "    else:\n",
    "        print(names[i] + \" has a excellent credit score.\")"
   ]
  },
  {
   "cell_type": "code",
   "execution_count": 17,
   "metadata": {},
   "outputs": [
    {
     "name": "stdout",
     "output_type": "stream",
     "text": [
      "[683, 580, 752, 607, 615, 703]\n",
      "[2, 0, 4, 1, 1, 3]\n"
     ]
    }
   ],
   "source": [
    "credit_group = []\n",
    "\n",
    "for i in range(0, len(names)):\n",
    "    \n",
    "    if credit[i] >= 750:\n",
    "        credit_group.append(4)\n",
    "    elif credit[i] >= 700:\n",
    "        credit_group.append(3)\n",
    "    elif credit[i] >= 650:\n",
    "        credit_group.append(2)\n",
    "    elif credit[i] >= 600:\n",
    "        credit_group.append(1)\n",
    "    else:\n",
    "        credit_group.append(0)\n",
    "        \n",
    "print(credit)\n",
    "print(credit_group)"
   ]
  },
  {
   "cell_type": "markdown",
   "metadata": {},
   "source": [
    "## Example: Exam Results\n",
    "\n",
    "In the cell below, we are provided with three lists. The list `names` contains the names of students, `grades1` contains scores for Exam 1, and `grades2` contains scores for Exam 2.   "
   ]
  },
  {
   "cell_type": "code",
   "execution_count": 19,
   "metadata": {},
   "outputs": [],
   "source": [
    "names = ['Anna', 'Beth', 'Chad', 'Drew', 'Elsa', 'Fred']\n",
    "grades1 = [56, 92, 87, 43, 75, 62]\n",
    "grades2 = [81, 95, 72, 21, 58, 64]"
   ]
  },
  {
   "cell_type": "markdown",
   "metadata": {},
   "source": [
    "Assume that a grade of 60 or higher is a passing grade. The cell below contains a loop that prints one of the following messages for each student:\n",
    "\n",
    "    [name] passed both exams. \n",
    "    [name] passed exam 1, but not exam 2. \n",
    "    [name] passed exam 2, but not exam 1. \n",
    "    [name] failed both exams. "
   ]
  },
  {
   "cell_type": "code",
   "execution_count": 20,
   "metadata": {},
   "outputs": [
    {
     "name": "stdout",
     "output_type": "stream",
     "text": [
      "Anna passed exam 2, but not exam 1.\n",
      "Beth passed both exams.\n",
      "Chad passed both exams.\n",
      "Drew failed both exams.\n",
      "Elsa passed exam 1, but not exam 2.\n",
      "Fred passed both exams.\n"
     ]
    }
   ],
   "source": [
    "for i in range(len(names)):\n",
    "    \n",
    "    if (grades1[i] >= 60) and (grades2[i] >= 60):\n",
    "        print(names[i], 'passed both exams.')\n",
    "        \n",
    "    elif (grades1[i] >= 60) and (grades2[i] < 60):\n",
    "        print(names[i], 'passed exam 1, but not exam 2.')\n",
    "        \n",
    "    elif (grades1[i] < 60) and (grades2[i] >= 60):\n",
    "        print(names[i], 'passed exam 2, but not exam 1.')\n",
    "        \n",
    "    elif (grades1[i] < 60) and (grades2[i] < 60):\n",
    "        print(names[i], 'failed both exams.')"
   ]
  },
  {
   "cell_type": "code",
   "execution_count": 21,
   "metadata": {},
   "outputs": [
    {
     "name": "stdout",
     "output_type": "stream",
     "text": [
      "Anna passed exam 2, but not exam 1.\n",
      "Beth passed both exams.\n",
      "Chad passed both exams.\n",
      "Drew failed both exams.\n",
      "Elsa passed exam 1, but not exam 2.\n",
      "Fred passed both exams.\n"
     ]
    }
   ],
   "source": [
    "for i in range(len(names)):\n",
    "    \n",
    "    if (grades1[i] >= 60) and (grades2[i] >= 60):\n",
    "        print(names[i] + ' passed both exams.')\n",
    "        \n",
    "    elif grades1[i] >= 60:\n",
    "        print(names[i] + ' passed exam 1, but not exam 2.')\n",
    "        \n",
    "    elif grades2[i] >= 60:\n",
    "        print(names[i] + ' passed exam 2, but not exam 1.')\n",
    "        \n",
    "    else:\n",
    "        print(names[i] + ' failed both exams.')\n",
    "        "
   ]
  },
  {
   "cell_type": "markdown",
   "metadata": {},
   "source": [
    "## Using Conditional Statements to Avoid Errors\n",
    "\n",
    "When Python encounters an error, it stops executing statements. We would like our code to be robust so that unexpected inputs do not cause our programs to stop executing prematurely. Conditional statements can help us to avoid situations that would result in errors, thus breaking our code. \n",
    "\n",
    "As an example, assume that we are given a list of item that we know contains a mix of strings, integers, and floats. We want to sum together all of the numerical elements of the list. If we simply pass the list to the `sum` function, we will get an error. However, we can calculate the desired sum by writing a loop that checks whether or not each element is an string before adding it to the running total. This is illustrated in the code below. "
   ]
  },
  {
   "cell_type": "code",
   "execution_count": 22,
   "metadata": {},
   "outputs": [
    {
     "name": "stdout",
     "output_type": "stream",
     "text": [
      "36.1\n"
     ]
    }
   ],
   "source": [
    "listA = [5.8, 'blah', 3.7, 8, '4', 1, 7.4, 4, 'foo', 6.2]\n",
    "\n",
    "total = 0\n",
    "\n",
    "for item in listA:\n",
    "    if type(item) != str:\n",
    "        total += item\n",
    "        \n",
    "print(total)"
   ]
  }
 ],
 "metadata": {
  "kernelspec": {
   "display_name": "Python 3",
   "language": "python",
   "name": "python3"
  },
  "language_info": {
   "codemirror_mode": {
    "name": "ipython",
    "version": 3
   },
   "file_extension": ".py",
   "mimetype": "text/x-python",
   "name": "python",
   "nbconvert_exporter": "python",
   "pygments_lexer": "ipython3",
   "version": "3.7.3"
  }
 },
 "nbformat": 4,
 "nbformat_minor": 2
}
