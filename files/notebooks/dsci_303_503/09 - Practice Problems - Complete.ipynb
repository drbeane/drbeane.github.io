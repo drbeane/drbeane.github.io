{
 "cells": [
  {
   "cell_type": "markdown",
   "metadata": {},
   "source": [
    "## Square Root Function\n",
    "\n",
    "Write a function named `sqrt` that has a single parameter `x`. The function should return the square root of `x`. "
   ]
  },
  {
   "cell_type": "code",
   "execution_count": 1,
   "metadata": {},
   "outputs": [],
   "source": [
    "def sqrt(x):\n",
    "    return x**0.5"
   ]
  },
  {
   "cell_type": "markdown",
   "metadata": {},
   "source": [
    "Test your function in the cell below by print the square roots of the following numbers: 16, 81, and 20."
   ]
  },
  {
   "cell_type": "markdown",
   "metadata": {},
   "source": [
    "## Example: Factorials\n",
    "\n",
    "The **factorial** of a positive integer $x$, denoted by $x!$, is the product of all positive integers less than or equal to $x$. For example:\n",
    "\n",
    "$$4! = 1 \\cdot 2 \\cdot 3 \\cdot 4 = 24$$\n",
    "\n",
    "$$10! = 1 \\cdot 2 \\cdot 3 \\cdot 4 \\cdot 5 \\cdot 6 \\cdot 7 \\cdot 8 \\cdot 9 \\cdot 10 = 3628800$$\n",
    "\n",
    "Write a function named `factorial()` with a single parameter `n`. The function should return the factorial of `n`. "
   ]
  },
  {
   "cell_type": "code",
   "execution_count": 2,
   "metadata": {},
   "outputs": [],
   "source": [
    "def factorial(n):\n",
    "    \n",
    "    product = 1\n",
    "    \n",
    "    for i in range(1,n+1):\n",
    "        product = product * i\n",
    "        \n",
    "    return product"
   ]
  },
  {
   "cell_type": "markdown",
   "metadata": {},
   "source": [
    "Test your function by printing the factorials of 4, 7, 10, and 20."
   ]
  },
  {
   "cell_type": "code",
   "execution_count": 3,
   "metadata": {},
   "outputs": [
    {
     "name": "stdout",
     "output_type": "stream",
     "text": [
      "24\n",
      "5040\n",
      "3628800\n",
      "2432902008176640000\n"
     ]
    }
   ],
   "source": [
    "print(factorial(4))\n",
    "print(factorial(7))\n",
    "print(factorial(10))\n",
    "print(factorial(20))"
   ]
  },
  {
   "cell_type": "markdown",
   "metadata": {},
   "source": [
    "## Example: Sample Mean\n",
    "\n",
    "The **sample mean** of a sequence of numbers $x_1, x_2, ..., x_n$ is denoted by $\\bar{x}$, and is calculated using the following formula:\n",
    "\n",
    "$$\\bar{x} = \\frac{1}{n} \\sum x_i = \\frac{1}{n} \\left(x_1 + x_2 + ... + x_n   \\right)$$\n",
    "\n",
    "Write a function named `mean` that accepts a single parameter `x`, which is expected to be a list. The function should return the sample mean of the elements of this list. You may use the functions `sum` and `len` in your function. "
   ]
  },
  {
   "cell_type": "code",
   "execution_count": 4,
   "metadata": {},
   "outputs": [],
   "source": [
    "def mean(x):\n",
    "    return sum(x) / len(x)"
   ]
  },
  {
   "cell_type": "markdown",
   "metadata": {},
   "source": [
    "Test your function by calculating the mean of the following sample: `8.4`, `3.2`, `4.8`, `1.7`, `6.4`"
   ]
  },
  {
   "cell_type": "code",
   "execution_count": 5,
   "metadata": {},
   "outputs": [
    {
     "name": "stdout",
     "output_type": "stream",
     "text": [
      "4.9\n"
     ]
    }
   ],
   "source": [
    "sample = [8.4, 3.2, 4.8, 1.7, 6.4]\n",
    "print(mean(sample))"
   ]
  },
  {
   "cell_type": "markdown",
   "metadata": {},
   "source": [
    "## Example: Sample Variance\n",
    "\n",
    "\n",
    "The **sample variance** of a sequence of numbers $x_1, x_2, ..., x_n$ is denoted by $s^2$, and is calculated using the following formula:\n",
    "\n",
    "$$s^2 = \\frac{1}{n - 1} \\sum (x_i - \\bar{x})^2$$\n",
    "\n",
    "Write a function named `var` that accepts a single parameter `x`, which is expected to be a list. The function should return the sample variance of the elements of this list. You may use the function `mean` that you created above. "
   ]
  },
  {
   "cell_type": "code",
   "execution_count": 6,
   "metadata": {},
   "outputs": [],
   "source": [
    "def var(x):\n",
    "    m = mean(x)\n",
    "    sum_squared = 0\n",
    "    for i in range(0, len(x)):\n",
    "        temp = (x[i] - m)**2\n",
    "        sum_squared += temp\n",
    "    return sum_squared / (len(x) - 1)"
   ]
  },
  {
   "cell_type": "markdown",
   "metadata": {},
   "source": [
    "Test your function by calculating the sample variance of the following sample: `8.4`, `3.2`, `4.8`, `1.7`, `6.4`"
   ]
  },
  {
   "cell_type": "code",
   "execution_count": 7,
   "metadata": {},
   "outputs": [
    {
     "name": "stdout",
     "output_type": "stream",
     "text": [
      "6.91\n"
     ]
    }
   ],
   "source": [
    "print(var(sample))"
   ]
  },
  {
   "cell_type": "markdown",
   "metadata": {},
   "source": [
    "## Example: Sample Standard Deviation\n",
    "\n",
    "\n",
    "The **sample standard deviation** of a sequence of numbers $x_1, x_2, ..., x_n$ is denoted by $s$, and is equal to the sum of the sample variance. \n",
    "\n",
    "Write a function named `stdev` that accepts a single parameter `x`, which is expected to be a list. The function should return the sample standard deviation of the elements of this list."
   ]
  },
  {
   "cell_type": "code",
   "execution_count": 8,
   "metadata": {},
   "outputs": [],
   "source": [
    "def stdev(x):\n",
    "    return var(x)**0.5"
   ]
  },
  {
   "cell_type": "markdown",
   "metadata": {},
   "source": [
    "Test your function by calculating the sample standard deviation of the following sample: `8.4`, `3.2`, `4.8`, `1.7`, `6.4`"
   ]
  },
  {
   "cell_type": "code",
   "execution_count": 9,
   "metadata": {},
   "outputs": [
    {
     "name": "stdout",
     "output_type": "stream",
     "text": [
      "2.6286878856189833\n"
     ]
    }
   ],
   "source": [
    "print(stdev(sample))"
   ]
  },
  {
   "cell_type": "markdown",
   "metadata": {},
   "source": [
    "## Exercice: Complex Multiplication\n",
    "\n",
    "A **complex number** is a number of the form $a + b\\cdot i$, where $i$ is the **imaginary number** defined by $i = \\sqrt{-1}$. If we multiply two complex numbers $a + b\\cdot i$ and $c + d\\cdot i$, we get the following:\n",
    "\n",
    "$$\\left(a + b\\cdot i \\right)\\left(c + d\\cdot i \\right) = ac + a d i + bc i + bd(-1) = \\left(ac-bd \\right) + \\left(ad + bc \\right)i$$\n",
    "\n",
    "Write a function called `complex_mult` with two parameters `x` and `z`. The parameters are expected to be tuples representing complex numbers. For example, the complex number $7 - 3i$ would be represented by the tuple `(7,-3)`. The function should return the product of `x` and `z`, as a tuple. "
   ]
  },
  {
   "cell_type": "code",
   "execution_count": 10,
   "metadata": {},
   "outputs": [],
   "source": [
    "def complex_mult(x, z):\n",
    "    first = x[0] * z[0] - x[1] * z[1]\n",
    "    last = x[0] * z[1] - x[1] * z[0]\n",
    "    return (first, last)"
   ]
  },
  {
   "cell_type": "markdown",
   "metadata": {},
   "source": [
    "Test your function by calculating the product of $x = 7 - 3i$ and $z = 4 + 2i$."
   ]
  },
  {
   "cell_type": "code",
   "execution_count": 11,
   "metadata": {},
   "outputs": [
    {
     "name": "stdout",
     "output_type": "stream",
     "text": [
      "(34, 26)\n"
     ]
    }
   ],
   "source": [
    "product = complex_mult((7, -3), (4, 2))\n",
    "print(product)"
   ]
  },
  {
   "cell_type": "markdown",
   "metadata": {},
   "source": [
    "## Exercise: `count_items` Function\n",
    "\n",
    "Write a function called `count_items` that takes two parameters: `x` and `item`. The parameter `x` is expected to be a list. The function should return the number of times that `item` appears as an element of `x`. "
   ]
  },
  {
   "cell_type": "code",
   "execution_count": 12,
   "metadata": {},
   "outputs": [],
   "source": [
    "def count_items(x, item):\n",
    "    count = 0\n",
    "    for i in range(0, len(x)):\n",
    "        if x[i] == item:\n",
    "            count += 1\n",
    "    return count"
   ]
  },
  {
   "cell_type": "markdown",
   "metadata": {},
   "source": [
    "In the following cell, create the list shown below. \n",
    "\n",
    "    grades = ['A', 'A', 'C', 'B', 'F', 'D', 'C', 'B', 'F', 'A', 'C']\n",
    "\n",
    "Test your function by counting the number of times each of the following strings appears in the list: `A`, `B`, `C`, `D`, `E`, and `F`. "
   ]
  },
  {
   "cell_type": "code",
   "execution_count": 13,
   "metadata": {},
   "outputs": [
    {
     "name": "stdout",
     "output_type": "stream",
     "text": [
      "3\n",
      "2\n",
      "3\n",
      "1\n",
      "0\n",
      "2\n"
     ]
    }
   ],
   "source": [
    "grades = ['A', 'A', 'C', 'B', 'F', 'D', 'C', 'B', 'F', 'A', 'C']\n",
    "\n",
    "print(count_items(grades, 'A'))\n",
    "print(count_items(grades, 'B'))\n",
    "print(count_items(grades, 'C'))\n",
    "print(count_items(grades, 'D'))\n",
    "print(count_items(grades, 'E'))\n",
    "print(count_items(grades, 'F'))"
   ]
  },
  {
   "cell_type": "markdown",
   "metadata": {},
   "source": [
    "## Exercise: Weighted Mean\n",
    "\n",
    "Update the function `mean` so that it has two parameters: `x` and `w`. The parameter `x` is expected to be a list of numerical values. The parameter `w` is expected to be either have a value of `None`, or to be a list of numerical values. The default value of `w` should be `None`. If `w` is `None`, then the function should return the mean of the elements in the list. If `w` is a list, then the function should return the weighted mean of `x` using the elements of `w` as the weights. That is to say, the function should return the following:\n",
    "\n",
    "$$\\frac{w_1 x_1 + w_2 x_2 + ... + w_n x_n }{w_1 + w_2 + ... + w_n}$$"
   ]
  },
  {
   "cell_type": "code",
   "execution_count": 14,
   "metadata": {},
   "outputs": [],
   "source": [
    "def mean(x, w=None):\n",
    "    if w == None:\n",
    "        return sum(x) / len(x)\n",
    "    \n",
    "    weighted_sum = 0\n",
    "    \n",
    "    for i in range(0, len(x)):\n",
    "        weighted_sum += w[i] * x[i]\n",
    "    \n",
    "    return weighted_sum / sum(w)"
   ]
  },
  {
   "cell_type": "markdown",
   "metadata": {},
   "source": [
    "Test the function by finding the mean of the set: 4, 7, 3, 5, 2\n",
    "\n",
    "Then find the weighted mean of the set above using the following weights: 2, 1, 3, 1, 2\n",
    "\n",
    "Print both results."
   ]
  },
  {
   "cell_type": "code",
   "execution_count": 15,
   "metadata": {},
   "outputs": [
    {
     "name": "stdout",
     "output_type": "stream",
     "text": [
      "4.2\n",
      "3.6\n"
     ]
    }
   ],
   "source": [
    "x = [4, 7, 3, 5, 2]\n",
    "w = [2, 1, 4, 1, 2]\n",
    "print(mean(x))\n",
    "print(mean(x, w))"
   ]
  }
 ],
 "metadata": {
  "kernelspec": {
   "display_name": "Python 3",
   "language": "python",
   "name": "python3"
  },
  "language_info": {
   "codemirror_mode": {
    "name": "ipython",
    "version": 3
   },
   "file_extension": ".py",
   "mimetype": "text/x-python",
   "name": "python",
   "nbconvert_exporter": "python",
   "pygments_lexer": "ipython3",
   "version": "3.7.1"
  }
 },
 "nbformat": 4,
 "nbformat_minor": 2
}
