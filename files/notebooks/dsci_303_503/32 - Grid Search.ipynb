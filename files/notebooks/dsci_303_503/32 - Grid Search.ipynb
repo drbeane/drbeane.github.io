{
 "cells": [
  {
   "cell_type": "markdown",
   "metadata": {},
   "source": [
    "# Lesson 33 - Grid Search\n",
    "\n",
    "### The following topis are discussed in this notebook:\n",
    "* Using `GridSearchCV` for hyperparameter selection.\n",
    "\n"
   ]
  },
  {
   "cell_type": "markdown",
   "metadata": {},
   "source": [
    "## Grid Search \n",
    "\n",
    "Grid search is a method for performing hyperparameter tuning for a model. This technique involves identifying one or more hyperparameters that you would like to tune, and then selecting some number of values to consider for each hyperparameter. We then evaluate each possible set of hyperparameters by performing some type of validation. Typically, this will involve performing cross-validation to generate an out-of-sample performance estimate for each set of hyperparameters. We then typically select the model that has the highest cross-validation score. "
   ]
  },
  {
   "cell_type": "markdown",
   "metadata": {},
   "source": [
    "## Import Packages\n",
    "\n",
    "We will illustrate how to perform grid search in Scikit-Learn in this lesson. We begin by importing a few packages and tools that are not directly related to grid search. "
   ]
  },
  {
   "cell_type": "code",
   "execution_count": 1,
   "metadata": {},
   "outputs": [],
   "source": [
    "import numpy as np\n",
    "import matplotlib.pyplot as plt\n",
    "import pandas as pd\n",
    "\n",
    "from sklearn.linear_model import LogisticRegression\n",
    "from sklearn.tree import DecisionTreeClassifier\n",
    "from sklearn.ensemble import RandomForestClassifier\n",
    "\n",
    "from sklearn.datasets import make_classification"
   ]
  },
  {
   "cell_type": "markdown",
   "metadata": {},
   "source": [
    "## Generate Data\n",
    "\n",
    "In this lesson, we will work with a synthetic dataset created for a classification problem. The dataset contains 400 observations, each of which will have 6 features, and will be assigned one of 10 possible classes. The features are stored in an array named `X`, while the labels are stored in an array named `y`. We start by viewing the contents of `X` in a DataFrame format. \n"
   ]
  },
  {
   "cell_type": "code",
   "execution_count": 2,
   "metadata": {},
   "outputs": [
    {
     "data": {
      "text/html": [
       "<div>\n",
       "<style scoped>\n",
       "    .dataframe tbody tr th:only-of-type {\n",
       "        vertical-align: middle;\n",
       "    }\n",
       "\n",
       "    .dataframe tbody tr th {\n",
       "        vertical-align: top;\n",
       "    }\n",
       "\n",
       "    .dataframe thead th {\n",
       "        text-align: right;\n",
       "    }\n",
       "</style>\n",
       "<table border=\"1\" class=\"dataframe\">\n",
       "  <thead>\n",
       "    <tr style=\"text-align: right;\">\n",
       "      <th></th>\n",
       "      <th>0</th>\n",
       "      <th>1</th>\n",
       "      <th>2</th>\n",
       "      <th>3</th>\n",
       "      <th>4</th>\n",
       "      <th>5</th>\n",
       "    </tr>\n",
       "  </thead>\n",
       "  <tbody>\n",
       "    <tr>\n",
       "      <th>0</th>\n",
       "      <td>3.219743</td>\n",
       "      <td>-0.855040</td>\n",
       "      <td>1.057843</td>\n",
       "      <td>-2.180787</td>\n",
       "      <td>-1.946133</td>\n",
       "      <td>-0.744607</td>\n",
       "    </tr>\n",
       "    <tr>\n",
       "      <th>1</th>\n",
       "      <td>-0.038669</td>\n",
       "      <td>2.188514</td>\n",
       "      <td>-0.217455</td>\n",
       "      <td>-0.164903</td>\n",
       "      <td>-1.419136</td>\n",
       "      <td>1.940659</td>\n",
       "    </tr>\n",
       "    <tr>\n",
       "      <th>2</th>\n",
       "      <td>4.105727</td>\n",
       "      <td>0.484263</td>\n",
       "      <td>3.613972</td>\n",
       "      <td>-0.691252</td>\n",
       "      <td>2.483372</td>\n",
       "      <td>-2.685359</td>\n",
       "    </tr>\n",
       "    <tr>\n",
       "      <th>3</th>\n",
       "      <td>1.780591</td>\n",
       "      <td>1.294739</td>\n",
       "      <td>-2.106925</td>\n",
       "      <td>-1.441586</td>\n",
       "      <td>-1.973862</td>\n",
       "      <td>2.725750</td>\n",
       "    </tr>\n",
       "    <tr>\n",
       "      <th>4</th>\n",
       "      <td>-3.989205</td>\n",
       "      <td>-1.455436</td>\n",
       "      <td>1.104988</td>\n",
       "      <td>-1.800713</td>\n",
       "      <td>-2.176374</td>\n",
       "      <td>1.209061</td>\n",
       "    </tr>\n",
       "    <tr>\n",
       "      <th>...</th>\n",
       "      <td>...</td>\n",
       "      <td>...</td>\n",
       "      <td>...</td>\n",
       "      <td>...</td>\n",
       "      <td>...</td>\n",
       "      <td>...</td>\n",
       "    </tr>\n",
       "    <tr>\n",
       "      <th>395</th>\n",
       "      <td>2.500843</td>\n",
       "      <td>3.062626</td>\n",
       "      <td>-2.145771</td>\n",
       "      <td>2.160640</td>\n",
       "      <td>2.514152</td>\n",
       "      <td>-2.183479</td>\n",
       "    </tr>\n",
       "    <tr>\n",
       "      <th>396</th>\n",
       "      <td>2.573652</td>\n",
       "      <td>2.614137</td>\n",
       "      <td>1.166412</td>\n",
       "      <td>3.494776</td>\n",
       "      <td>-2.391065</td>\n",
       "      <td>0.161473</td>\n",
       "    </tr>\n",
       "    <tr>\n",
       "      <th>397</th>\n",
       "      <td>-0.894672</td>\n",
       "      <td>0.993666</td>\n",
       "      <td>0.036938</td>\n",
       "      <td>-0.096246</td>\n",
       "      <td>-3.065324</td>\n",
       "      <td>-1.059657</td>\n",
       "    </tr>\n",
       "    <tr>\n",
       "      <th>398</th>\n",
       "      <td>-3.439928</td>\n",
       "      <td>2.070202</td>\n",
       "      <td>-0.051047</td>\n",
       "      <td>-3.818329</td>\n",
       "      <td>-1.081785</td>\n",
       "      <td>1.702601</td>\n",
       "    </tr>\n",
       "    <tr>\n",
       "      <th>399</th>\n",
       "      <td>1.353171</td>\n",
       "      <td>-3.241138</td>\n",
       "      <td>2.331002</td>\n",
       "      <td>-2.089317</td>\n",
       "      <td>5.452808</td>\n",
       "      <td>2.473093</td>\n",
       "    </tr>\n",
       "  </tbody>\n",
       "</table>\n",
       "<p>400 rows × 6 columns</p>\n",
       "</div>"
      ],
      "text/plain": [
       "            0         1         2         3         4         5\n",
       "0    3.219743 -0.855040  1.057843 -2.180787 -1.946133 -0.744607\n",
       "1   -0.038669  2.188514 -0.217455 -0.164903 -1.419136  1.940659\n",
       "2    4.105727  0.484263  3.613972 -0.691252  2.483372 -2.685359\n",
       "3    1.780591  1.294739 -2.106925 -1.441586 -1.973862  2.725750\n",
       "4   -3.989205 -1.455436  1.104988 -1.800713 -2.176374  1.209061\n",
       "..        ...       ...       ...       ...       ...       ...\n",
       "395  2.500843  3.062626 -2.145771  2.160640  2.514152 -2.183479\n",
       "396  2.573652  2.614137  1.166412  3.494776 -2.391065  0.161473\n",
       "397 -0.894672  0.993666  0.036938 -0.096246 -3.065324 -1.059657\n",
       "398 -3.439928  2.070202 -0.051047 -3.818329 -1.081785  1.702601\n",
       "399  1.353171 -3.241138  2.331002 -2.089317  5.452808  2.473093\n",
       "\n",
       "[400 rows x 6 columns]"
      ]
     },
     "execution_count": 2,
     "metadata": {},
     "output_type": "execute_result"
    }
   ],
   "source": [
    "np.random.seed(1)\n",
    "X, y = make_classification(n_samples=400, n_features=6, n_informative=6, \n",
    "                           n_redundant=0, n_classes=10, class_sep=2)\n",
    "\n",
    "pd.DataFrame(X)   "
   ]
  },
  {
   "cell_type": "markdown",
   "metadata": {},
   "source": [
    "Let's now view the first few elements of `y`."
   ]
  },
  {
   "cell_type": "code",
   "execution_count": 3,
   "metadata": {},
   "outputs": [
    {
     "name": "stdout",
     "output_type": "stream",
     "text": [
      "[7 9 8 9 0 8 5 4 1 0 0 6 2 1 3 8 6 0 5 4]\n"
     ]
    }
   ],
   "source": [
    "print(y[:20])"
   ]
  },
  {
   "cell_type": "markdown",
   "metadata": {},
   "source": [
    "## Grid Search in Scikit-Learn\n",
    "\n",
    "GridSearch is performed in Scikit-Learn using the `GridSearchCV` class. We will import this class in the cell below."
   ]
  },
  {
   "cell_type": "code",
   "execution_count": 4,
   "metadata": {},
   "outputs": [],
   "source": [
    "from sklearn.model_selection import GridSearchCV"
   ]
  },
  {
   "cell_type": "markdown",
   "metadata": {},
   "source": [
    "## Grid Search with Logistic Regression\n",
    "\n",
    "We will illustrate the usage of `GridSearchCV` by first performing hyperparameter tuning to select the optimal value of the regularization parameter `C` in a logistic regression model. \n",
    "\n",
    "We start by defining a parameter grid. This is a dictionary containing keys for any hyperparameters we wish to tune over. The values associated with each key should be a list or array of values to consider for that hyperparameter. "
   ]
  },
  {
   "cell_type": "code",
   "execution_count": 5,
   "metadata": {},
   "outputs": [],
   "source": [
    "param_grid = [\n",
    "    {'C': 10**np.linspace(-3,3,20)}\n",
    "]"
   ]
  },
  {
   "cell_type": "markdown",
   "metadata": {},
   "source": [
    "We then create an instance of the estimate that we wish to tune over. In this case, that is the `LogisticRegression` class. Note that we do not fit the model to the training data yet. "
   ]
  },
  {
   "cell_type": "code",
   "execution_count": 6,
   "metadata": {},
   "outputs": [],
   "source": [
    "lin_reg = LogisticRegression(solver='lbfgs', multi_class='multinomial', max_iter=1000)"
   ]
  },
  {
   "cell_type": "markdown",
   "metadata": {},
   "source": [
    "We then create an instance of the `GridSearchCv` class. When creating this instance, we must provide an estimator, a parameter grid, a number of folds to use in cross-validation, an evaluation metric to use in cross-validation. If we specify that `refit=True` (which is the default value), then `GridSearchCV` will automatically fit the best model found to the entire data set. We will discuss this more later. \n",
    "\n",
    "After creating an instance of `GridSearchCV`, we train it using the `fit` method.\n",
    "\n",
    "A trained `GridSearchCV` obtain has many attributes and methods that we might be interested in. We will explore this in more detail later, but for now, the most important attributes are `best_score_` and `best_params_`. The `best_score_` attribute will contain the cross-validation score for the best model found, while `best_params_` will be a dictionary of the hyperparameter values that generated the optimal cross-validation score. "
   ]
  },
  {
   "cell_type": "code",
   "execution_count": 7,
   "metadata": {},
   "outputs": [
    {
     "name": "stdout",
     "output_type": "stream",
     "text": [
      "0.6270556816033276\n",
      "{'C': 0.1623776739188721}\n"
     ]
    }
   ],
   "source": [
    "lr_gridsearch = GridSearchCV(lin_reg, param_grid, cv=10, scoring='accuracy', \n",
    "                             refit=True, iid=False)\n",
    "lr_gridsearch.fit(X, y)\n",
    "\n",
    "print(lr_gridsearch.best_score_)\n",
    "print(lr_gridsearch.best_params_)"
   ]
  },
  {
   "cell_type": "markdown",
   "metadata": {},
   "source": [
    "We see that the highest cross-validation score obtain for any of the values of `C` considered was 62.7%. This was obtained by using `C = 0.16237767`. "
   ]
  },
  {
   "cell_type": "markdown",
   "metadata": {},
   "source": [
    "### Obtaining the Best Model\n",
    "\n",
    "When trained, `GridSearchCV` class will automatically refit a final model to the full training set using the optimal hyperparameter values found. This model is stored in the attribute `best_estimator_`. \n",
    "\n",
    "In the cell below, we extract the best model from our `GridSearchCV` object and use it to calculate the training accuracy for this model. "
   ]
  },
  {
   "cell_type": "code",
   "execution_count": 8,
   "metadata": {},
   "outputs": [
    {
     "name": "stdout",
     "output_type": "stream",
     "text": [
      "Training Score: 0.6775\n"
     ]
    }
   ],
   "source": [
    "lr_model = lr_gridsearch.best_estimator_\n",
    "print('Training Score:', lr_model.score(X, y))"
   ]
  },
  {
   "cell_type": "markdown",
   "metadata": {},
   "source": [
    "## Grid Search with Decision Trees\n",
    "\n",
    "We will now illustrate how to use `GridSearchCV` to perform hyperparameter tuning for a decision tree. We will tune over two hyperparameters: `max_depth` and `min_samples_leaf`. "
   ]
  },
  {
   "cell_type": "code",
   "execution_count": 9,
   "metadata": {},
   "outputs": [
    {
     "name": "stdout",
     "output_type": "stream",
     "text": [
      "0.6941086846914981\n",
      "{'max_depth': 32, 'min_samples_leaf': 8}\n"
     ]
    }
   ],
   "source": [
    "param_grid = [{\n",
    "    'max_depth': [2, 4, 8, 16, 32, 64], \n",
    "    'min_samples_leaf': [2, 4, 8, 16]\n",
    "}]\n",
    "\n",
    "tree = DecisionTreeClassifier()\n",
    "\n",
    "np.random.seed(1)\n",
    "dt_gridsearch = GridSearchCV(tree, param_grid, cv=10, scoring='accuracy', \n",
    "                             refit=True, iid=False)\n",
    "dt_gridsearch.fit(X, y)\n",
    "\n",
    "print(dt_gridsearch.best_score_)\n",
    "print(dt_gridsearch.best_params_)"
   ]
  },
  {
   "cell_type": "markdown",
   "metadata": {},
   "source": [
    "The decision tree with the highest cross-validation score had a `max_depth` of 32 and a `min_samples_leaf` of 8. Notice that this model outperforms the best logistic regression model that we found above. In the cell below, we extract the best model from the `GridSearchCV` object, and calculate its score on the training set. \n"
   ]
  },
  {
   "cell_type": "code",
   "execution_count": 10,
   "metadata": {},
   "outputs": [
    {
     "name": "stdout",
     "output_type": "stream",
     "text": [
      "Training Score: 0.8225\n"
     ]
    }
   ],
   "source": [
    "dt_model = dt_gridsearch.best_estimator_\n",
    "print('Training Score:', dt_model.score(X, y))"
   ]
  },
  {
   "cell_type": "markdown",
   "metadata": {},
   "source": [
    "## Grid Search with Random Forests\n",
    "\n",
    "We will now illustrate how to use `GridSearchCV` to perform hyperparameter tuning for a random forest. We will tune over two hyperparameters: `max_depth` and `min_samples_leaf`. We will set the `n_estimators` hyperparameter to 200."
   ]
  },
  {
   "cell_type": "code",
   "execution_count": 11,
   "metadata": {},
   "outputs": [
    {
     "name": "stdout",
     "output_type": "stream",
     "text": [
      "0.8217596268985945\n",
      "{'max_depth': 8, 'min_samples_leaf': 4}\n"
     ]
    }
   ],
   "source": [
    "param_grid = [{\n",
    "    'max_depth':[2, 4, 8, 16, 32, 64], \n",
    "    'min_samples_leaf':[2, 4, 8, 16]\n",
    "}]\n",
    "\n",
    "forest = RandomForestClassifier(n_estimators=200)\n",
    "\n",
    "np.random.seed(1)\n",
    "rf_gridsearch = GridSearchCV(forest, param_grid, cv=10, scoring='accuracy',\n",
    "                             refit=True, iid=False)\n",
    "rf_gridsearch.fit(X, y)\n",
    "\n",
    "print(rf_gridsearch.best_score_)\n",
    "print(rf_gridsearch.best_params_)"
   ]
  },
  {
   "cell_type": "markdown",
   "metadata": {},
   "source": [
    "The random forest with the highest cross-validation score had a `max_depth` of 8 and a `min_samples_leaf` of 4. This model outperforms either of our previous two models. In the cell below, we extract the best model from the `GridSearchCV` object, and calculate its score on the training set. "
   ]
  },
  {
   "cell_type": "code",
   "execution_count": 12,
   "metadata": {},
   "outputs": [
    {
     "name": "stdout",
     "output_type": "stream",
     "text": [
      "Training Score: 0.955\n"
     ]
    }
   ],
   "source": [
    "rf_model = rf_gridsearch.best_estimator_\n",
    "print('Training Score:', rf_model.score(X, y))"
   ]
  },
  {
   "cell_type": "markdown",
   "metadata": {},
   "source": [
    "## Exploring Grid Search Results\n",
    "\n",
    "If we would like to see more detailed results pertaining to the results of the grid seach process, more information can be found in the `cv_results` attribute of a trained instance of the `GridSearchCV` class. This attribute contains a dictionary with several pieces of information pertaining to the results of the cross-validation steps. We will start by looking at the keys of the items stored in this dictionary. "
   ]
  },
  {
   "cell_type": "code",
   "execution_count": 13,
   "metadata": {},
   "outputs": [
    {
     "name": "stdout",
     "output_type": "stream",
     "text": [
      "dict_keys(['mean_fit_time', 'std_fit_time', 'mean_score_time', 'std_score_time', 'param_max_depth', 'param_min_samples_leaf', 'params', 'split0_test_score', 'split1_test_score', 'split2_test_score', 'split3_test_score', 'split4_test_score', 'split5_test_score', 'split6_test_score', 'split7_test_score', 'split8_test_score', 'split9_test_score', 'mean_test_score', 'std_test_score', 'rank_test_score'])\n"
     ]
    }
   ],
   "source": [
    "cv_res = rf_gridsearch.cv_results_\n",
    "print(cv_res.keys())"
   ]
  },
  {
   "cell_type": "markdown",
   "metadata": {},
   "source": [
    "The items `split0_test_score` through `split9_test_score` each contain the validation score for each of the models considered on one particular fold. The average validation scores for each individual model can be found in the `mean_test_score` item. "
   ]
  },
  {
   "cell_type": "code",
   "execution_count": 14,
   "metadata": {},
   "outputs": [
    {
     "name": "stdout",
     "output_type": "stream",
     "text": [
      "[0.54909498 0.55449471 0.55295157 0.53729265 0.77979139 0.77207459\n",
      " 0.78416478 0.76469654 0.80936299 0.82175963 0.79683919 0.77479139\n",
      " 0.81936299 0.81675963 0.79694255 0.76457459 0.81459838 0.81380743\n",
      " 0.78677822 0.76918337 0.81964076 0.8120374  0.78190017 0.7727012 ]\n"
     ]
    }
   ],
   "source": [
    "print(cv_res['mean_test_score'])"
   ]
  },
  {
   "cell_type": "markdown",
   "metadata": {},
   "source": [
    "In the cell below, we print the average test scores along with the hyperparameter values for the models that generated them. "
   ]
  },
  {
   "cell_type": "code",
   "execution_count": 15,
   "metadata": {},
   "outputs": [
    {
     "name": "stdout",
     "output_type": "stream",
     "text": [
      "0.5490949769962816 {'max_depth': 2, 'min_samples_leaf': 2}\n",
      "0.5544947059935716 {'max_depth': 2, 'min_samples_leaf': 4}\n",
      "0.5529515661435684 {'max_depth': 2, 'min_samples_leaf': 8}\n",
      "0.5372926514148862 {'max_depth': 2, 'min_samples_leaf': 16}\n",
      "0.7797913909371651 {'max_depth': 4, 'min_samples_leaf': 2}\n",
      "0.7720745887691435 {'max_depth': 4, 'min_samples_leaf': 4}\n",
      "0.784164775950085 {'max_depth': 4, 'min_samples_leaf': 8}\n",
      "0.7646965399886556 {'max_depth': 4, 'min_samples_leaf': 16}\n",
      "0.8093629860717211 {'max_depth': 8, 'min_samples_leaf': 2}\n",
      "0.8217596268985945 {'max_depth': 8, 'min_samples_leaf': 4}\n",
      "0.7968391945547362 {'max_depth': 8, 'min_samples_leaf': 8}\n",
      "0.7747913909371652 {'max_depth': 8, 'min_samples_leaf': 16}\n",
      "0.8193629860717211 {'max_depth': 16, 'min_samples_leaf': 2}\n",
      "0.8167596268985946 {'max_depth': 16, 'min_samples_leaf': 4}\n",
      "0.7969425537278628 {'max_depth': 16, 'min_samples_leaf': 8}\n",
      "0.7645745887691435 {'max_depth': 16, 'min_samples_leaf': 16}\n",
      "0.8145983802861284 {'max_depth': 32, 'min_samples_leaf': 2}\n",
      "0.8138074305161656 {'max_depth': 32, 'min_samples_leaf': 4}\n",
      "0.7867782189449801 {'max_depth': 32, 'min_samples_leaf': 8}\n",
      "0.7691833679964707 {'max_depth': 32, 'min_samples_leaf': 16}\n",
      "0.8196407638494991 {'max_depth': 64, 'min_samples_leaf': 2}\n",
      "0.8120374046763723 {'max_depth': 64, 'min_samples_leaf': 4}\n",
      "0.7819001701644923 {'max_depth': 64, 'min_samples_leaf': 8}\n",
      "0.7727012037562236 {'max_depth': 64, 'min_samples_leaf': 16}\n"
     ]
    }
   ],
   "source": [
    "for score, params in zip(cv_res['mean_test_score'], cv_res['params']):\n",
    "    print(score, params)"
   ]
  },
  {
   "cell_type": "markdown",
   "metadata": {},
   "source": [
    "We see that although the `max_depth=8`, `min_samples_leaf=4` model performed the best, there were a few other models that had very similar results."
   ]
  }
 ],
 "metadata": {
  "kernelspec": {
   "display_name": "Python 3",
   "language": "python",
   "name": "python3"
  },
  "language_info": {
   "codemirror_mode": {
    "name": "ipython",
    "version": 3
   },
   "file_extension": ".py",
   "mimetype": "text/x-python",
   "name": "python",
   "nbconvert_exporter": "python",
   "pygments_lexer": "ipython3",
   "version": "3.7.1"
  }
 },
 "nbformat": 4,
 "nbformat_minor": 4
}
