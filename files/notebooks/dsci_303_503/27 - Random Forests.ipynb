{
 "cells": [
  {
   "cell_type": "markdown",
   "metadata": {},
   "source": [
    "# Lesson 27 - Random Forests\n",
    "\n",
    "### The following topics are discussed in this notebook:\n",
    "* Overview of random forest classifiers.\n",
    "* Building random forest models in Scikit-Learn."
   ]
  },
  {
   "cell_type": "markdown",
   "metadata": {},
   "source": [
    "## Random Forests\n",
    "\n",
    "An **ensemble** model is one that generates its predictions by combining the predictions from several simpler models. There are two voting schemes that can be using a classification ensemble. When using **hard voting**, the individual models will use their predictions for a given observation to vote for the class to be assigned to the observation by the ensemble. In a **soft-voting** scheme, the individual models will each produce an estimated probability distribution over the possible classes, and these will then be averaged across all of the models to generate the ensemble's estimate for the probability distribution. \n",
    "\n",
    "It is often the case that the ensemble model will have better predictive performance than any of the individual models from which it is built.\n",
    "\n",
    "A **random forest** is an ensemble of many decision trees. To ensure that the trees are different from one another, each tree is trained on a different subset of the training set. Assume that our training set contains `n` observations. When building a tree model to be used in a random forest, a sample of size `n` is drawn from the training set, with replacement. This sort of sampling is referred to as **bootstrap** sampling.\n",
    "\n",
    "Since the sampling is done with replacement, each sample will likely be different from every other sample, which will encourage differences in the trees making up the random forest. The random forest implementation in Scikit-Learn further encourages diversity among the trees in a forest by randomly selecting the feature on which to split at each stage in the construction of a tree in the forest. \n",
    "\n"
   ]
  },
  {
   "cell_type": "markdown",
   "metadata": {},
   "source": [
    "## Random Forest Classifiers in Scikit-Learn\n",
    "\n",
    "Random forest models are created in Scikit-Learn as instances of the `RandomForestClassifier` class, which is found in the `sklearn.ensemble` module. We will import that now, along with some other Scikit-Learn tools that we will need in this lesson."
   ]
  },
  {
   "cell_type": "code",
   "execution_count": null,
   "metadata": {},
   "outputs": [],
   "source": [
    "import numpy as np\n",
    "import matplotlib.pyplot as plt\n",
    "import pandas as pd\n",
    "\n",
    "from sklearn.datasets import make_circles\n",
    "from sklearn.model_selection import train_test_split\n",
    "\n",
    "from sklearn.tree import DecisionTreeClassifier\n",
    "from sklearn.ensemble import RandomForestClassifier"
   ]
  },
  {
   "cell_type": "markdown",
   "metadata": {},
   "source": [
    "## Example 1: Synthetic Data with Two Features\n",
    "\n",
    "We will use a synthetic dataset in our first example of a random forest. The dataset is generated in the cell below. "
   ]
  },
  {
   "cell_type": "code",
   "execution_count": null,
   "metadata": {},
   "outputs": [],
   "source": [
    "X, y = make_circles(800, noise=0.2, factor=0.4, random_state=1)\n",
    "\n",
    "plt.figure(figsize=[8,6])\n",
    "plt.scatter(X[:,0], X[:,1], c=y, cmap='bwr', edgecolor='k')\n",
    "plt.show()"
   ]
  },
  {
   "cell_type": "markdown",
   "metadata": {},
   "source": [
    "We now create training, validation, and test sets using a 60/20/20 split."
   ]
  },
  {
   "cell_type": "code",
   "execution_count": null,
   "metadata": {},
   "outputs": [],
   "source": [
    "X_train, X_hold, y_train, y_hold = train_test_split(X, y, test_size=0.4, random_state=1, stratify=y)\n",
    "X_valid, X_test, y_valid, y_test = train_test_split(X_hold, y_hold, test_size=0.5, random_state=1, stratify=y_hold)\n",
    "\n",
    "print(y_train.shape)\n",
    "print(y_valid.shape)\n",
    "print(y_test.shape)"
   ]
  },
  {
   "cell_type": "markdown",
   "metadata": {},
   "source": [
    "For the purposes of comparison, we will create a decision tree model first. In the cell below, we perform hyperparameter tuning to select an appropriate value of `max_depth`. "
   ]
  },
  {
   "cell_type": "code",
   "execution_count": null,
   "metadata": {},
   "outputs": [],
   "source": [
    "tr_acc = []\n",
    "va_acc = []\n",
    "depth_list = range(1,20)\n",
    "\n",
    "for d in depth_list:\n",
    "    temp_mod = DecisionTreeClassifier(max_depth=d, random_state=1)\n",
    "    temp_mod.fit(X_train, y_train)\n",
    "    tr_acc.append(temp_mod.score(X_train, y_train))\n",
    "    va_acc.append(temp_mod.score(X_valid, y_valid))\n",
    "    \n",
    "plt.figure(figsize=([6,4]))\n",
    "plt.plot(depth_list, tr_acc, label='Training Accuracy')\n",
    "plt.plot(depth_list, va_acc, label='Validation Accuracy')\n",
    "plt.xlabel('Max Depth')\n",
    "plt.ylabel('Accuracy')\n",
    "plt.xticks(depth_list)\n",
    "plt.legend()\n",
    "plt.show()"
   ]
  },
  {
   "cell_type": "markdown",
   "metadata": {},
   "source": [
    "It appears that we get the best performance on the validation set when `max_depth=7`. We confirm this below."
   ]
  },
  {
   "cell_type": "code",
   "execution_count": null,
   "metadata": {},
   "outputs": [],
   "source": [
    "ix_best = np.argmax(va_acc)\n",
    "best_md = depth_list[ix_best]\n",
    "print('Optimal Value of max_depth:', best_md)"
   ]
  },
  {
   "cell_type": "markdown",
   "metadata": {},
   "source": [
    "We now build our decision tree model, and calculate its training and validation accuracy. "
   ]
  },
  {
   "cell_type": "code",
   "execution_count": null,
   "metadata": {},
   "outputs": [],
   "source": [
    "tree_mod = DecisionTreeClassifier(max_depth=best_md, random_state=1)\n",
    "tree_mod.fit(X_train, y_train)\n",
    "\n",
    "print('Training Accuracy:  ', round(tree_mod.score(X_train, y_train),4))\n",
    "print('Validation Accuracy:', round(tree_mod.score(X_valid, y_valid),4))"
   ]
  },
  {
   "cell_type": "markdown",
   "metadata": {},
   "source": [
    "The figure below displays the classification regions determined by our decision tree model. "
   ]
  },
  {
   "cell_type": "code",
   "execution_count": null,
   "metadata": {},
   "outputs": [],
   "source": [
    "n, x0, x1, y0, y1 = 400, -1.6, 1.6, -1.6, 1.8\n",
    "xticks = np.linspace(x0, x1, n)\n",
    "yticks = np.linspace(y0, y1, n)\n",
    "grid_pts = np.transpose([np.tile(xticks,n), np.repeat(yticks,n)])\n",
    "class_grid = tree_mod.predict(grid_pts).reshape(n,n)\n",
    "plt.figure(figsize=[8,6])\n",
    "plt.pcolormesh(xticks, yticks, class_grid, cmap='bwr', zorder=1, vmin=0, vmax=1)\n",
    "plt.fill([x0,x0,x1,x1], [y0,y1,y1,y0], 'white', alpha=0.6, zorder = 2)\n",
    "plt.scatter(X[:,0], X[:,1], c=y, cmap='bwr', edgecolor='k', zorder=3)\n",
    "plt.show()"
   ]
  },
  {
   "cell_type": "markdown",
   "metadata": {},
   "source": [
    "we will now construct our random forest model. When creating our model, we set the following parameters:\n",
    "\n",
    "* `n_estimators` - This determines the number of trees to be used in the forest. Have have selected 500. As a general rule, using more trees will likely result in better performance, but also will increase the computational complexity of the algorithm. \n",
    "* `max_depth` - This the the maximum depth to be used for the individual trees. Because of the ensembling that takes place in a random forest, these models are less prone to overfitting than individual tree models. As a result, we can typically set the `max_depth` parameter high without much fear of overfitting.\n",
    "* `random_state` - Unsurpisingly, the random forest algorithm involves randomness. This parameter allows us to set a seed for the random number generator so that we can get reproducible results. \n",
    "\n",
    "After constructing our random forest model, we will determine its training and validation accuracy. "
   ]
  },
  {
   "cell_type": "code",
   "execution_count": null,
   "metadata": {},
   "outputs": [],
   "source": [
    "forest_mod = RandomForestClassifier(n_estimators=500, max_depth=32, random_state=1)\n",
    "forest_mod.fit(X_train, y_train)\n",
    "\n",
    "print('Training Accuracy:  ', forest_mod.score(X_train, y_train))\n",
    "print('Validation Accuracy:', forest_mod.score(X_valid, y_valid))"
   ]
  },
  {
   "cell_type": "markdown",
   "metadata": {},
   "source": [
    "The forest model got a validation accuracy of 91.877%, which is higher than the 90.62% obtained by the tree model. As a result, we will select the forest as our final model. We will now calculate the test accuracy for our forest model. "
   ]
  },
  {
   "cell_type": "code",
   "execution_count": null,
   "metadata": {},
   "outputs": [],
   "source": [
    "print('Test Set Accuracy:  ', forest_mod.score(X_test, y_test))"
   ]
  },
  {
   "cell_type": "markdown",
   "metadata": {},
   "source": [
    "The cell below shows classification region determined by our forest model. "
   ]
  },
  {
   "cell_type": "code",
   "execution_count": null,
   "metadata": {},
   "outputs": [],
   "source": [
    "n, x0, x1, y0, y1 = 400, -1.6, 1.6, -1.6, 1.8\n",
    "xticks = np.linspace(x0, x1, n)\n",
    "yticks = np.linspace(y0, y1, n)\n",
    "grid_pts = np.transpose([np.tile(xticks,n), np.repeat(yticks,n)])\n",
    "class_grid = forest_mod.predict(grid_pts).reshape(n,n)\n",
    "plt.figure(figsize=[8,6])\n",
    "plt.pcolormesh(xticks, yticks, class_grid, cmap='bwr', zorder=1, vmin=0, vmax=1)\n",
    "plt.fill([x0,x0,x1,x1], [y0,y1,y1,y0], 'white', alpha=0.6, zorder = 2)\n",
    "plt.scatter(X[:,0], X[:,1], c=y, cmap='bwr', edgecolor='k', zorder=3)\n",
    "plt.show()"
   ]
  },
  {
   "cell_type": "markdown",
   "metadata": {},
   "source": [
    "## Example: The Iris Dataset\n",
    "\n",
    "We will now build a random forest classifier to apply to the iris dataset. "
   ]
  },
  {
   "cell_type": "code",
   "execution_count": null,
   "metadata": {},
   "outputs": [],
   "source": [
    "iris = pd.read_csv(filepath_or_buffer='Data/iris_mod.txt', sep='\\t')\n",
    "iris.head(n=10)"
   ]
  },
  {
   "cell_type": "code",
   "execution_count": null,
   "metadata": {},
   "outputs": [],
   "source": [
    "import seaborn as sns\n",
    "\n",
    "g = sns.pairplot(iris, hue=\"species\")\n",
    "plt.show()"
   ]
  },
  {
   "cell_type": "markdown",
   "metadata": {},
   "source": [
    "We extract our feature and label arrays, and create training and test sets using an 80/20 split. "
   ]
  },
  {
   "cell_type": "code",
   "execution_count": null,
   "metadata": {},
   "outputs": [],
   "source": [
    "X = iris.iloc[:,:4]\n",
    "y = iris.iloc[:,4]\n",
    "\n",
    "X_train, X_test, y_train, y_test = train_test_split(X, y, test_size=0.2, random_state=1, stratify=y)"
   ]
  },
  {
   "cell_type": "markdown",
   "metadata": {},
   "source": [
    "We will now create our random forest model. We also calculate the model's accuracy on the training and test sets. "
   ]
  },
  {
   "cell_type": "code",
   "execution_count": null,
   "metadata": {},
   "outputs": [],
   "source": [
    "iris_forest = RandomForestClassifier(n_estimators=500, max_leaf_nodes=32, random_state=1)\n",
    "\n",
    "iris_forest.fit(X_train, y_train)\n",
    "\n",
    "print('Training Accuracy:', round(iris_forest.score(X_train, y_train),4))\n",
    "print('Testing Accuracy: ', round(iris_forest.score(X_test, y_test),4))"
   ]
  }
 ],
 "metadata": {
  "kernelspec": {
   "display_name": "Python 3",
   "language": "python",
   "name": "python3"
  },
  "language_info": {
   "codemirror_mode": {
    "name": "ipython",
    "version": 3
   },
   "file_extension": ".py",
   "mimetype": "text/x-python",
   "name": "python",
   "nbconvert_exporter": "python",
   "pygments_lexer": "ipython3",
   "version": "3.7.1"
  }
 },
 "nbformat": 4,
 "nbformat_minor": 4
}
