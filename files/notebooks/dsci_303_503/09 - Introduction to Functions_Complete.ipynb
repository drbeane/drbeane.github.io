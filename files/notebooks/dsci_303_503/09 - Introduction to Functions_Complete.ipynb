{
 "cells": [
  {
   "cell_type": "markdown",
   "metadata": {},
   "source": [
    "# Lesson 09 - Introduction to Functions\n",
    "\n",
    "### The following topics are discussed in this notebook:\n",
    "\n",
    "* Defining functions.\n",
    "* Parameters and arguments.\n",
    "* Return values.\n"
   ]
  },
  {
   "cell_type": "markdown",
   "metadata": {},
   "source": [
    "## Function Basics\n",
    "\n",
    "A **function** is a sequence of instructions that has been given a name. Functions usually (but not always) take some number of inputs, called **parameters**, and usually (but not always) give an output, called the **return value**. When we use a function in our code, we say that we are **calling** the function. \n",
    "\n",
    "Once a function has been defined, it can be called from anywhere within your program. If you find that there is a task that you are repeating often and that requires several lines of codes, it might be a good idea to group those lines of code together into a function. \n",
    "\n",
    "Most functions we write will accept one or more inputs and will generate an output. However, We will start by considering functions that do not accept inputs, and that do not provide outputs. The syntax for defining such a function is as follows:\n",
    "\n",
    "<pre>\n",
    "def function_name():\n",
    "    Code to be executed by the function.\n",
    "</pre>\n",
    "\n",
    "We start by defining a (very) simple function below. "
   ]
  },
  {
   "cell_type": "code",
   "execution_count": 1,
   "metadata": {},
   "outputs": [],
   "source": [
    "def greeting():\n",
    "    print(\"Hello, world!\")"
   ]
  },
  {
   "cell_type": "markdown",
   "metadata": {},
   "source": [
    "Notice that nothing was printed when we defined the function. This cell defined the function, but it did not call it. Thus, the code inside of the function was not executed. "
   ]
  },
  {
   "cell_type": "code",
   "execution_count": 2,
   "metadata": {},
   "outputs": [
    {
     "name": "stdout",
     "output_type": "stream",
     "text": [
      "Hello, world!\n"
     ]
    }
   ],
   "source": [
    "greeting()"
   ]
  },
  {
   "cell_type": "code",
   "execution_count": 3,
   "metadata": {
    "scrolled": true
   },
   "outputs": [
    {
     "name": "stdout",
     "output_type": "stream",
     "text": [
      "Hello, world!\n",
      "Hello, world!\n",
      "Hello, world!\n",
      "Hello, world!\n",
      "Hello, world!\n"
     ]
    }
   ],
   "source": [
    "for n in range(0,5):\n",
    "    greeting()"
   ]
  },
  {
   "cell_type": "markdown",
   "metadata": {},
   "source": [
    "## Parameters and Arguments\n",
    "\n",
    "The function `greeting()` defined above is not vary useful, for a few reasons. In particular, it doesn't accept any inputs. There are occassions when you will want to write functions that take no inputs, but functions are generally more useful when we are able to supply them information that affects how they behave. \n",
    "\n",
    "When defining a function, we can specify that a function expects one or more inputs by listing variable names between the parentheses to serve as placeholders for the inputs. The placeholders themselves are called **parameters**, and specific values that are supplied as inputs are referred to as **arguments**. \n",
    "\n",
    "In the example below, we create a function `square()` that has a single parameter, denoted by `n`. When the function is called, an argument must be supplied as a value for this parameter. The function will then print the square of that argument. \n"
   ]
  },
  {
   "cell_type": "code",
   "execution_count": 4,
   "metadata": {},
   "outputs": [],
   "source": [
    "def square(n):\n",
    "    print(n**2)"
   ]
  },
  {
   "cell_type": "markdown",
   "metadata": {},
   "source": [
    "In the cell below, we call the `square` function with several different arguments. Each one of these arguments is subsituted in for the parameter `n` for that particular function call. "
   ]
  },
  {
   "cell_type": "code",
   "execution_count": 5,
   "metadata": {},
   "outputs": [
    {
     "name": "stdout",
     "output_type": "stream",
     "text": [
      "4\n",
      "12.96\n",
      "9\n"
     ]
    }
   ],
   "source": [
    "square(2)\n",
    "square(3.6)\n",
    "square(-3)"
   ]
  },
  {
   "cell_type": "markdown",
   "metadata": {},
   "source": [
    "If we would like, we can specify the name of the parameter when we are calling a function. This is usually not necessary, however. "
   ]
  },
  {
   "cell_type": "code",
   "execution_count": 6,
   "metadata": {},
   "outputs": [
    {
     "name": "stdout",
     "output_type": "stream",
     "text": [
      "16\n"
     ]
    }
   ],
   "source": [
    "square(n=4)"
   ]
  },
  {
   "cell_type": "markdown",
   "metadata": {},
   "source": [
    "Note that (unlike many languages) Python does not ask us to specifiy what data type the arguments should be. However, if we supply an argument for which the function would perform an illegal operation, we will get an error. "
   ]
  },
  {
   "cell_type": "code",
   "execution_count": 7,
   "metadata": {
    "scrolled": true
   },
   "outputs": [
    {
     "ename": "TypeError",
     "evalue": "unsupported operand type(s) for ** or pow(): 'str' and 'int'",
     "output_type": "error",
     "traceback": [
      "\u001b[1;31m---------------------------------------------------------------------------\u001b[0m",
      "\u001b[1;31mTypeError\u001b[0m                                 Traceback (most recent call last)",
      "\u001b[1;32m<ipython-input-7-aafa7e540230>\u001b[0m in \u001b[0;36m<module>\u001b[1;34m\u001b[0m\n\u001b[1;32m----> 1\u001b[1;33m \u001b[0msquare\u001b[0m\u001b[1;33m(\u001b[0m\u001b[1;34m'circle'\u001b[0m\u001b[1;33m)\u001b[0m\u001b[1;33m\u001b[0m\u001b[1;33m\u001b[0m\u001b[0m\n\u001b[0m",
      "\u001b[1;32m<ipython-input-4-3e7f8c3e48a6>\u001b[0m in \u001b[0;36msquare\u001b[1;34m(n)\u001b[0m\n\u001b[0;32m      1\u001b[0m \u001b[1;32mdef\u001b[0m \u001b[0msquare\u001b[0m\u001b[1;33m(\u001b[0m\u001b[0mn\u001b[0m\u001b[1;33m)\u001b[0m\u001b[1;33m:\u001b[0m\u001b[1;33m\u001b[0m\u001b[1;33m\u001b[0m\u001b[0m\n\u001b[1;32m----> 2\u001b[1;33m     \u001b[0mprint\u001b[0m\u001b[1;33m(\u001b[0m\u001b[0mn\u001b[0m\u001b[1;33m**\u001b[0m\u001b[1;36m2\u001b[0m\u001b[1;33m)\u001b[0m\u001b[1;33m\u001b[0m\u001b[1;33m\u001b[0m\u001b[0m\n\u001b[0m",
      "\u001b[1;31mTypeError\u001b[0m: unsupported operand type(s) for ** or pow(): 'str' and 'int'"
     ]
    }
   ],
   "source": [
    "square('circle')"
   ]
  },
  {
   "cell_type": "markdown",
   "metadata": {},
   "source": [
    "Additionally, if a function has one or more parameters, but we don't supply arguments for those parameters when we call the function, we will get an error."
   ]
  },
  {
   "cell_type": "code",
   "execution_count": null,
   "metadata": {},
   "outputs": [],
   "source": [
    "square()"
   ]
  },
  {
   "cell_type": "markdown",
   "metadata": {},
   "source": [
    "## Example: Reporting the Square of a Number\n",
    "\n",
    "In this example, we will write a function called `square_message()`. The function should take one argument, `n`, and should print the message:\n",
    "\n",
    "    The square of [n] is [n**2]."
   ]
  },
  {
   "cell_type": "code",
   "execution_count": 8,
   "metadata": {},
   "outputs": [],
   "source": [
    "def square_message(n):\n",
    "    print(\"The square of \" + str(n) + \" is \" + str(n**2) + \".\")"
   ]
  },
  {
   "cell_type": "markdown",
   "metadata": {},
   "source": [
    "In the cell below, we have a loop that applies the function `square_message()` to every element of the list `A`. "
   ]
  },
  {
   "cell_type": "code",
   "execution_count": 9,
   "metadata": {},
   "outputs": [
    {
     "name": "stdout",
     "output_type": "stream",
     "text": [
      "The square of 12 is 144.\n",
      "The square of 34 is 1156.\n",
      "The square of 89 is 7921.\n",
      "The square of 17 is 289.\n",
      "The square of 23 is 529.\n",
      "The square of 49 is 2401.\n",
      "The square of 87 is 7569.\n",
      "The square of 34 is 1156.\n",
      "The square of 89 is 7921.\n",
      "The square of 71 is 5041.\n"
     ]
    }
   ],
   "source": [
    "A = [12, 34, 89, 17, 23, 49, 87, 34, 89, 71]\n",
    "\n",
    "for i in range(0, len(A)):\n",
    "    square_message(A[i])\n"
   ]
  },
  {
   "cell_type": "markdown",
   "metadata": {},
   "source": [
    "## Return Values\n",
    "\n",
    "All of the function we have written so far have printed some sort of message. However, we will not always desire this sort of behavior. Most of the pre-defined functions we have seen in this course print nothing at all, but instead provide some sort of output that can be printed, or stored into a variable. \n",
    "\n",
    "For example, the `sum()` function takes a list as an input, and provides the sum of the values in the list as the output. When a function provides an output, that output is called a **return value**. \n",
    "\n",
    "The syntax for defining a function with a return value is as follows:\n",
    "\n",
    "    def my_function(parameter1, parameter 2, ...):\n",
    "        Code to be executed.\n",
    "        return value_to_be_returned\n",
    "        \n",
    "As a simple example, the cell below defines a function called `half()` that accepts a single input, and returns the input divided by 2. "
   ]
  },
  {
   "cell_type": "code",
   "execution_count": 10,
   "metadata": {},
   "outputs": [],
   "source": [
    "def half(x):\n",
    "    return x/2"
   ]
  },
  {
   "cell_type": "code",
   "execution_count": 11,
   "metadata": {},
   "outputs": [
    {
     "name": "stdout",
     "output_type": "stream",
     "text": [
      "50.0\n",
      "17.5\n",
      "1.570795\n"
     ]
    }
   ],
   "source": [
    "print(half(100))\n",
    "print(half(35))\n",
    "print(half(3.14159))"
   ]
  },
  {
   "cell_type": "markdown",
   "metadata": {},
   "source": [
    "We can nest function calls inside of each other. In this way, the return value for one function call becomes the argument for another. "
   ]
  },
  {
   "cell_type": "code",
   "execution_count": 12,
   "metadata": {},
   "outputs": [
    {
     "name": "stdout",
     "output_type": "stream",
     "text": [
      "2.5\n"
     ]
    }
   ],
   "source": [
    "one_eighth = half(half(half(20)))\n",
    "print(one_eighth)"
   ]
  },
  {
   "cell_type": "markdown",
   "metadata": {},
   "source": [
    "## Example: Summing the First `n` Positive Integers\n",
    "\n",
    "In the following cell, we write a function called `sumN()` that takes a single parameter `n`, and returns the sum of the first n positive integers. "
   ]
  },
  {
   "cell_type": "code",
   "execution_count": 13,
   "metadata": {},
   "outputs": [],
   "source": [
    "def sumN(n):\n",
    "    \n",
    "    total = 0\n",
    "    \n",
    "    for i in range(1,n+1):\n",
    "        total = total + i\n",
    "        \n",
    "    return total"
   ]
  },
  {
   "cell_type": "markdown",
   "metadata": {},
   "source": [
    "We now call `sumN()` on 100, and also on 237, printing the return value for each function call. "
   ]
  },
  {
   "cell_type": "code",
   "execution_count": 14,
   "metadata": {},
   "outputs": [
    {
     "name": "stdout",
     "output_type": "stream",
     "text": [
      "5050\n",
      "28203\n"
     ]
    }
   ],
   "source": [
    "print(sumN(100))\n",
    "print(sumN(237))"
   ]
  },
  {
   "cell_type": "markdown",
   "metadata": {},
   "source": [
    "## Example: Factorials\n",
    "\n",
    "We will now write a function called `fact()` that takes in one argument, and returns the factorial of that argument. "
   ]
  },
  {
   "cell_type": "code",
   "execution_count": 15,
   "metadata": {},
   "outputs": [],
   "source": [
    "def fact(n):\n",
    "    \n",
    "    product = 1\n",
    "    \n",
    "    for i in range(1,n+1):\n",
    "        product = product * i\n",
    "        \n",
    "    return product"
   ]
  },
  {
   "cell_type": "markdown",
   "metadata": {},
   "source": [
    "We will use our function calculate the factorials of 3, 5, 10, and 20. "
   ]
  },
  {
   "cell_type": "code",
   "execution_count": 16,
   "metadata": {
    "scrolled": true
   },
   "outputs": [
    {
     "name": "stdout",
     "output_type": "stream",
     "text": [
      "6\n",
      "120\n",
      "3628800\n",
      "2432902008176640000\n"
     ]
    }
   ],
   "source": [
    "print(fact(3))\n",
    "print(fact(5))\n",
    "print(fact(10))\n",
    "print(fact(20))"
   ]
  },
  {
   "cell_type": "markdown",
   "metadata": {},
   "source": [
    "## Multiple Return Statements\n",
    "\n",
    "It is possible for a function to have multiple return statements. As soon as a return statement is hit, however, the function returns that value and then exits. As an illustration of this idea, compare the following two functions, both of which return the absolute value of a number. "
   ]
  },
  {
   "cell_type": "code",
   "execution_count": 17,
   "metadata": {},
   "outputs": [],
   "source": [
    "def abs_val_1(x):\n",
    "    \n",
    "    if (x < 0):\n",
    "        absVal = -x\n",
    "    else:\n",
    "        absVal = x\n",
    "        \n",
    "    return absVal"
   ]
  },
  {
   "cell_type": "code",
   "execution_count": 18,
   "metadata": {},
   "outputs": [
    {
     "name": "stdout",
     "output_type": "stream",
     "text": [
      "9\n",
      "3.8\n"
     ]
    }
   ],
   "source": [
    "print(abs_val_1(9))\n",
    "print(abs_val_1(-3.8))"
   ]
  },
  {
   "cell_type": "code",
   "execution_count": 19,
   "metadata": {},
   "outputs": [],
   "source": [
    "def abs_val_2(x):\n",
    "    if(x < 0):\n",
    "        return -x\n",
    "    return x"
   ]
  },
  {
   "cell_type": "code",
   "execution_count": 20,
   "metadata": {},
   "outputs": [
    {
     "name": "stdout",
     "output_type": "stream",
     "text": [
      "9\n",
      "3.8\n"
     ]
    }
   ],
   "source": [
    "print(abs_val_2(9))\n",
    "print(abs_val_2(-3.8))"
   ]
  },
  {
   "cell_type": "markdown",
   "metadata": {},
   "source": [
    "## Functions with Multiple Parameters\n",
    "\n",
    "It is possible for functions to have two or more parameters. Consider the following example."
   ]
  },
  {
   "cell_type": "code",
   "execution_count": 21,
   "metadata": {},
   "outputs": [],
   "source": [
    "def power(a, b):\n",
    "    return a**b"
   ]
  },
  {
   "cell_type": "code",
   "execution_count": 22,
   "metadata": {
    "scrolled": true
   },
   "outputs": [
    {
     "name": "stdout",
     "output_type": "stream",
     "text": [
      "32\n",
      "81\n",
      "100\n",
      "1024\n"
     ]
    }
   ],
   "source": [
    "print( power(2, 5) )\n",
    "print( power(3, 4) )\n",
    "print( power(10, 2) )\n",
    "print( power(2, 10) )"
   ]
  },
  {
   "cell_type": "markdown",
   "metadata": {},
   "source": [
    "Notice that when we call a function with multiple arguments, the arguments are assigned to the parameters in the same order as they appear. If we specify names for the parameters when we call a function, then we can supply the arguments in any order that we wish. "
   ]
  },
  {
   "cell_type": "code",
   "execution_count": 23,
   "metadata": {},
   "outputs": [
    {
     "name": "stdout",
     "output_type": "stream",
     "text": [
      "64\n",
      "64\n"
     ]
    }
   ],
   "source": [
    "print(power(a=4, b=3))\n",
    "print(power(b=3, a=4))"
   ]
  },
  {
   "cell_type": "markdown",
   "metadata": {},
   "source": [
    "Supplying names for our parameters can make our code easier to read when we are using functions with many parameters. It can also be useful when we can't recall the exact order in which the parameters appeared in the function definition. "
   ]
  },
  {
   "cell_type": "markdown",
   "metadata": {},
   "source": [
    "## Default Parameter Values"
   ]
  },
  {
   "cell_type": "markdown",
   "metadata": {},
   "source": [
    "It is sometimes useful to assign a default value to a parameter. This can be done by setting the parameter equal to the desired default value in the function definition. When the function is called, if an argument is supplied for this parameter, it will override the default value. If no argument is supplied for a parameter with a default value, then the default will be used. "
   ]
  },
  {
   "cell_type": "code",
   "execution_count": 24,
   "metadata": {},
   "outputs": [],
   "source": [
    "def sum_first(arg_list, n=5):\n",
    "    total = 0\n",
    "    for i in range(n):\n",
    "        total += arg_list[i]\n",
    "    return total"
   ]
  },
  {
   "cell_type": "code",
   "execution_count": 25,
   "metadata": {},
   "outputs": [
    {
     "name": "stdout",
     "output_type": "stream",
     "text": [
      "17\n",
      "28\n",
      "28\n"
     ]
    }
   ],
   "source": [
    "my_list = [4, 8, 5, 7, 4, 9, 1, 6, 3, 2]\n",
    "\n",
    "print(sum_first(my_list, 3))\n",
    "print(sum_first(my_list, 5))\n",
    "print(sum_first(my_list))"
   ]
  },
  {
   "cell_type": "markdown",
   "metadata": {},
   "source": [
    "If the argument supplied for `n` in the `sum_first()` function is greater than the length of the list, then the function will result in an error. We will now rewrite this function so that it instead retuns the sum of all of the elements in the list in this situation. "
   ]
  },
  {
   "cell_type": "code",
   "execution_count": 26,
   "metadata": {},
   "outputs": [],
   "source": [
    "def sum_first(arg_list, n=5):\n",
    "    \n",
    "    total = 0\n",
    "    m = min(n, len(arg_list))\n",
    "    \n",
    "    for i in range(m):\n",
    "        total += arg_list[i]\n",
    "        \n",
    "    return total"
   ]
  },
  {
   "cell_type": "code",
   "execution_count": 27,
   "metadata": {},
   "outputs": [
    {
     "name": "stdout",
     "output_type": "stream",
     "text": [
      "49\n"
     ]
    }
   ],
   "source": [
    "print(sum_first(my_list, 15))"
   ]
  },
  {
   "cell_type": "markdown",
   "metadata": {},
   "source": [
    "## Example: `sumPower` Function\n",
    "\n",
    "Write a function called `sumPower` that takes as parameters a list called `arg_list` and an integer called `power`. The function should raise every element of `arg_list` to the power specified by `power`, and then sum the results.  The parameter `power` should have a default value of 1. "
   ]
  },
  {
   "cell_type": "code",
   "execution_count": 28,
   "metadata": {},
   "outputs": [],
   "source": [
    "def sumPower(arg_list, power=1):\n",
    "    \n",
    "    total = 0\n",
    "    \n",
    "    for i in range(0, len(arg_list)):\n",
    "        total += arg_list[i]**power\n",
    "        \n",
    "    return total "
   ]
  },
  {
   "cell_type": "markdown",
   "metadata": {},
   "source": [
    "Test your function by running the cells below."
   ]
  },
  {
   "cell_type": "code",
   "execution_count": 29,
   "metadata": {},
   "outputs": [
    {
     "name": "stdout",
     "output_type": "stream",
     "text": [
      "26\n",
      "38\n",
      "14198\n"
     ]
    }
   ],
   "source": [
    "A = [4,-3,1]\n",
    "print(sumPower(A, 2))\n",
    "print(sumPower(A, 3))\n",
    "print(sumPower(A, 7))"
   ]
  },
  {
   "cell_type": "code",
   "execution_count": 30,
   "metadata": {},
   "outputs": [
    {
     "name": "stdout",
     "output_type": "stream",
     "text": [
      "2\n",
      "2\n"
     ]
    }
   ],
   "source": [
    "print(sumPower(A,1))\n",
    "print(sumPower(A))"
   ]
  },
  {
   "cell_type": "markdown",
   "metadata": {},
   "source": [
    "## Exercise: `countItems` Function\n",
    "\n",
    "Write a function called `countItems` that takes two parameters: `arg_list` and `item`. The function should return the number of times that `item` appears as an element of `arg_list`. "
   ]
  },
  {
   "cell_type": "code",
   "execution_count": 31,
   "metadata": {},
   "outputs": [],
   "source": [
    "def CountItems(arg_list, item):\n",
    "    \n",
    "    count = 0\n",
    "    for i in range(0, len(arg_list)):\n",
    "        if arg_list[i] == item:\n",
    "            count += 1\n",
    "        \n",
    "    return count"
   ]
  },
  {
   "cell_type": "markdown",
   "metadata": {},
   "source": [
    "Test your function by running the cell below."
   ]
  },
  {
   "cell_type": "code",
   "execution_count": 32,
   "metadata": {},
   "outputs": [
    {
     "name": "stdout",
     "output_type": "stream",
     "text": [
      "3\n",
      "2\n",
      "3\n",
      "1\n",
      "0\n",
      "2\n"
     ]
    }
   ],
   "source": [
    "Grades = ['A', 'A', 'C', 'B', 'F', 'D', 'C', 'B', 'F', 'A', 'C']\n",
    "\n",
    "print(CountItems(Grades, 'A'))\n",
    "print(CountItems(Grades, 'B'))\n",
    "print(CountItems(Grades, 'C'))\n",
    "print(CountItems(Grades, 'D'))\n",
    "print(CountItems(Grades, 'E'))\n",
    "print(CountItems(Grades, 'F'))"
   ]
  },
  {
   "cell_type": "markdown",
   "metadata": {},
   "source": [
    "## Exercise: `findItem` Function\n",
    "\n",
    "Write a function called `findItem` that has three paramaters, `arg_list`, `item`, and `find_all`. The parameter `find_all` should have a default value of `False`. The function should behave as follows:\n",
    "\n",
    "* If `find_all == False`, then the function should search for the first time that `item` appears in `arg_list`, and should return the index of that occurrence.\n",
    "* If `find_all == True`, then the function should return a list that contains all indices for which `item` appears in `arg_list`.\n",
    "* If `item` does not appear in `arg_list`, then the function should return `None`."
   ]
  },
  {
   "cell_type": "code",
   "execution_count": 33,
   "metadata": {},
   "outputs": [],
   "source": [
    "def FindItem(arg_list, item, find_all=False):\n",
    "    \n",
    "    idx_list = []    \n",
    "    \n",
    "    for i in range(len(arg_list)):\n",
    "        if arg_list[i] == item:\n",
    "            if find_all:\n",
    "                idx_list.append(i)\n",
    "            else: \n",
    "                return i\n",
    "            \n",
    "    if len(idx_list) == 0:\n",
    "        return None\n",
    "    \n",
    "    return idx_list    "
   ]
  },
  {
   "cell_type": "markdown",
   "metadata": {},
   "source": [
    "After defining your function, use the following lines of code to test it."
   ]
  },
  {
   "cell_type": "code",
   "execution_count": 34,
   "metadata": {},
   "outputs": [
    {
     "name": "stdout",
     "output_type": "stream",
     "text": [
      "2\n",
      "[2, 6, 10]\n",
      "None\n",
      "None\n"
     ]
    }
   ],
   "source": [
    "print(FindItem(Grades, 'C'))\n",
    "print(FindItem(Grades, 'C', find_all=True))\n",
    "print(FindItem(Grades, 'E'))\n",
    "print(FindItem(Grades, 'E', find_all=True))"
   ]
  }
 ],
 "metadata": {
  "kernelspec": {
   "display_name": "Python 3",
   "language": "python",
   "name": "python3"
  },
  "language_info": {
   "codemirror_mode": {
    "name": "ipython",
    "version": 3
   },
   "file_extension": ".py",
   "mimetype": "text/x-python",
   "name": "python",
   "nbconvert_exporter": "python",
   "pygments_lexer": "ipython3",
   "version": "3.7.1"
  }
 },
 "nbformat": 4,
 "nbformat_minor": 2
}
