{
 "cells": [
  {
   "cell_type": "markdown",
   "metadata": {},
   "source": [
    "# Lesson 20 - Introduction to Machine Learning\n",
    "\n",
    "### The following topics are discussed in this notebook:\n",
    "* Definition of machine learning\n",
    "* Differences between supervised learning, unsupervised learning, and reinforcement learning"
   ]
  },
  {
   "cell_type": "markdown",
   "metadata": {},
   "source": [
    "## What is Machine Learning\n",
    "\n",
    "\n",
    "Machine learning is a subfield of artificial intelligence that uses computer science, mathematics, and statistics to create algorithms capable of analyzing and learning from previously collected data. Machine learning models are trained to perform certain tasks through trial and error, rather than by following a set of rules that have been explicitly programmed by a human. In many cases, this approach is simpler to implement than developing explicit rules, and is often more effective. \n",
    "\n",
    "\n",
    "## Applications of Machine Learning \n",
    "\n",
    "Machine learning has applications in many fields. A (non-exaustive) list of applications includes spam detection, generating search results, image classification, voice recognition, programming autonomous vehicles, predicting credit scores, predicting housing costs, medical diagnoses, recommender systems, and handwriting recognition. \n",
    "\n",
    "\n"
   ]
  },
  {
   "cell_type": "markdown",
   "metadata": {},
   "source": [
    "## Types of Machine Learning Algorithms\n",
    "\n",
    "There are three main categories of machine learning problems: **supervised learning**, **unsupervised learning**, and **reinforcement learning**. \n",
    "\n",
    "In this class, we will focus primarily on supervised learning. "
   ]
  },
  {
   "cell_type": "markdown",
   "metadata": {},
   "source": [
    "![ML](images/Types_of_ML.png)"
   ]
  },
  {
   "cell_type": "markdown",
   "metadata": {},
   "source": [
    "## Supervised Learning\n",
    "\n",
    "In a supervised learning task, the goal is to generate a **model** or **prediction function** that can predict an output based on one or more input values. \n",
    "\n",
    "* The output of the model is typically called a **label**, **target value**, or **response variable**.\n",
    "* The inputs into the model are typically called **features** or **predictors**. \n",
    "\n",
    "The algorithm \"learns\" the optimal model by studying a training set of data that consists of several **observations** (or **instances**, or **samples**), each of which contains values for both its features and its label. You can imagine a supervised learning algorithm as a function that takes training data as input, and that produces a model, or prediction function, as its output. \n",
    "\n",
    "### Regression and Classification\n",
    "\n",
    "Supervised learning tasks can be further grouped into **regression** and **classification** problems, based on whether the labels are continuous and real-valued or categorical. \n",
    "\n",
    "* **Regression.** A regression task is one for which the target values are continuous, real numbers. Examples of regression tasks include:\n",
    "  * Predicting a credit score.\n",
    "  * Predicting the sale price of a home. \n",
    "  * Predicting blood pressure or cholesterol levels.\n",
    "  * Predicting unemployment rates. \n",
    "\n",
    "\n",
    "* **Classification.** A classification task is one for which the target values are discrete classes. Examples of classification tasks include:\n",
    "  * Predicting whether a loan is \"high risk\" or \"low risk\". \n",
    "  * Predicting the species of an organism based on measurements. \n",
    "  * Image classification. \n",
    "  * Recognizing images of hand-written letters or digits. \n",
    "  * Voice recognition. \n",
    "\n",
    "\n"
   ]
  },
  {
   "cell_type": "markdown",
   "metadata": {},
   "source": [
    "### Example of a Regression Task\n",
    "\n",
    "The upper left plot in the figure below shows a small data set that could be used for a regression task. The horizontal axis represents the single feature, while the vertical axis represents the continuous label. \n",
    "\n",
    "The figure also displays plots of 5 models (or prediction functions) that were generated using different regression algorithms."
   ]
  },
  {
   "cell_type": "markdown",
   "metadata": {},
   "source": [
    "![](images/regression_example.png)"
   ]
  },
  {
   "cell_type": "markdown",
   "metadata": {},
   "source": [
    "### Example of a Classification Task\n",
    "\n",
    "The upper left plot in the figure below shows the plot of a sythetic data set created for use in a classification task. The two axes represent two different features. Each point represents a singple observation. Each observation is assigned on of two classes, \"Orange\" or \"Blue\", as indicated by the color of the point. \n",
    "\n",
    "A model created by a classification algorithm would assign one of the two classes to each point in the plane. The figure below shows the regions designated as being in each class according to 5 different classification models."
   ]
  },
  {
   "cell_type": "markdown",
   "metadata": {},
   "source": [
    "![](images/classification_example.png)"
   ]
  },
  {
   "cell_type": "markdown",
   "metadata": {},
   "source": [
    "## Unsupervised Learning\n",
    "\n",
    "In unsupervised learning, we work with data sets in which features are provided, but no labels. Not only are the labels \"missing\", but we typically do not start an unsupervised learning tasks with a preconception of what the possible labels might be. The goal of unsupervised learning is to identify structure within the data that might not be readily perceptible to humans. \n",
    "\n",
    "Some common unsupervised learning tasks are:\n",
    "* Clustering\n",
    "* Anomaly Detection\n",
    "* Feature extraction"
   ]
  },
  {
   "cell_type": "markdown",
   "metadata": {},
   "source": [
    "The cell below shows the results of applying a clustering algorithm to an unlabeled dataset. The algorithm used in this example is referred to as **K-means clustering**."
   ]
  },
  {
   "cell_type": "markdown",
   "metadata": {},
   "source": [
    "![](images/clustering_example.png)"
   ]
  },
  {
   "cell_type": "markdown",
   "metadata": {},
   "source": [
    "## Reinforcement Learning\n",
    "\n",
    "Reinforcement learning is a branch of machine learning concerned with training an AI to interact with an virtual environment to perform a specific task. Examples of reinforcement learning tasks include training an algortihm to play chess, to play a video game, or to navigate a self-driving car. \n",
    "\n",
    "In reinforcement learning, a software agent is provided with rules governing how it can interact with its environment. A goal is set for the agent, and a method is provided to score how successful the agent is at accomplishing that task. The RL algorithm then collects a training set through trial-and-error. Which each new attempt, the agent receives feedback regarding its performance, and then makes adjustments as needed. "
   ]
  },
  {
   "cell_type": "markdown",
   "metadata": {},
   "source": [
    "![RL](images/Reinforcement_Learning.png)"
   ]
  },
  {
   "cell_type": "markdown",
   "metadata": {},
   "source": [
    "Some links to YouTube videos demonstrating interesting applications of reinforcement learning are provided below. \n",
    "\n",
    "* [MarI/O - Example of an algorithm trained to play Super Mario World.](https://www.youtube.com/watch?v=qv6UVOQ0F44)\n",
    "* [MariFlow - Example of an algorithm trained to play Super Mario Kart.](https://www.youtube.com/watch?v=Ipi40cb_RsI)\n",
    "* [Emergence of Locomotion Behaviours in Rich Environments.](https://www.youtube.com/watch?v=hx_bgoTF7bs)"
   ]
  }
 ],
 "metadata": {
  "kernelspec": {
   "display_name": "Python 3",
   "language": "python",
   "name": "python3"
  },
  "language_info": {
   "codemirror_mode": {
    "name": "ipython",
    "version": 3
   },
   "file_extension": ".py",
   "mimetype": "text/x-python",
   "name": "python",
   "nbconvert_exporter": "python",
   "pygments_lexer": "ipython3",
   "version": "3.7.1"
  },
  "widgets": {
   "state": {
    "ccc884cd883b43828e113c6c65127d51": {
     "views": [
      {
       "cell_index": 8
      }
     ]
    }
   },
   "version": "1.2.0"
  }
 },
 "nbformat": 4,
 "nbformat_minor": 2
}
