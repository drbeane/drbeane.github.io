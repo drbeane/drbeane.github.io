{
 "cells": [
  {
   "cell_type": "markdown",
   "metadata": {},
   "source": [
    "# Lesson 12 - Plotting with Matplotlib\n",
    "\n",
    "### The following topics are discussed in this notebook:\n",
    "* Scatter plots\n",
    "* Line plots\n",
    "* Bar charts"
   ]
  },
  {
   "cell_type": "markdown",
   "metadata": {},
   "source": [
    "## Matplotlib\n",
    "\n",
    "Matplotlib is a package for creating data visualizations. It provides tools for creating a wide range of plots, and allows for a high level of customization. \n",
    "\n",
    "Python has two distint interfaces than can be used to generate plots. We will primarily by working with the `pyplot` API (Application Programming Interface). By convention, this is typically imported under the alias `plt`, as in the cell below."
   ]
  },
  {
   "cell_type": "code",
   "execution_count": 1,
   "metadata": {},
   "outputs": [],
   "source": [
    "import matplotlib.pyplot as plt"
   ]
  },
  {
   "cell_type": "markdown",
   "metadata": {},
   "source": [
    "## Import Gapminder Data \n",
    "\n",
    "For most of the examples in this lesson, we will be working with the Gapminder dataset. This dataset contains socioeconomic data for 142 countries, collected once every five years during the period from 1952 to 2007. Each record within the dataset contains the following peices of information: **country**, **continent**, **year**, **population**, **life expectency**, **per capita GDP**. \n",
    "\n",
    "The cell below imports the dataset from a comma-separated file, and then creates 5 lists to contain the data from 2007. The names of the lists are `countries`, `continents`, `pop`, `lifeexp`, and `pcgdp`. This cell makes use of the `pandas` package, which we will discuss in a later lesson.\n"
   ]
  },
  {
   "cell_type": "code",
   "execution_count": 2,
   "metadata": {},
   "outputs": [],
   "source": [
    "import pandas as pd\n",
    "df = pd.read_csv('data/gapminder_updated.txt', sep='\\t')\n",
    "country = df.country[df.year == 2018].to_list()\n",
    "continent = df.continent[df.year == 2018].to_list()\n",
    "population = df.population[df.year == 2018].to_list()\n",
    "life_exp = df.life_exp[df.year == 2018].to_list()\n",
    "pcgdp = df.gdp_per_cap[df.year == 2018].to_list()\n",
    "gini = df.gini[df.year == 2018].to_list()"
   ]
  },
  {
   "cell_type": "markdown",
   "metadata": {},
   "source": [
    "The following cell prints the information for a randomly selected country. We can explore this dataset by running this cell a few times."
   ]
  },
  {
   "cell_type": "code",
   "execution_count": null,
   "metadata": {},
   "outputs": [],
   "source": [
    "import numpy as np\n",
    "\n",
    "sel = np.random.choice(range(len(country)), size=20, replace=False)\n",
    "\n",
    "header = '{:<30} {:<10} {:>12} {:>10} {:>10}'.format('Country', 'Continent', 'Population', 'pcGDP', 'LifeExp')\n",
    "print(header)\n",
    "print('-'*76)\n",
    "\n",
    "for i in sel:\n",
    "    line = '{:<30} {:<10} {:>12} {:>10} {:>10}'.format(\n",
    "        country[i],\n",
    "        continent[i].title(),\n",
    "        population[i],\n",
    "        pcgdp[i],\n",
    "        life_exp[i])\n",
    "    print(line)\n",
    "    "
   ]
  },
  {
   "cell_type": "markdown",
   "metadata": {},
   "source": [
    "## Scatter Plots\n",
    "\n",
    "Matplotlib contains a function called `scatter()` that can be used to generate scatter plots. This function has two required parameters named `x` and `y`. These parameters are expected to be lists containing the x and y coordinates of the plots to be pointed. \n",
    "\n",
    "Plots in Matplotlib are built up as a series of layers. We create a base plot, and then we can add additional plots on top of that, or add things like titles or axis labels. When we are done creating our plot, we can display it using `plt.show()`.\n",
    "\n",
    "The cell below creates a simple scatter plot of life expectency against per capita GDP."
   ]
  },
  {
   "cell_type": "code",
   "execution_count": null,
   "metadata": {},
   "outputs": [],
   "source": [
    "plt.scatter(x=pcgdp, y=life_exp)\n",
    "plt.show()"
   ]
  },
  {
   "cell_type": "markdown",
   "metadata": {},
   "source": [
    "## Axis Labels and Title\n",
    "\n",
    "We can use the `xlabel()`, `ylabel()`, and `title()` functions to add labels to the axes, or a title to the plot. "
   ]
  },
  {
   "cell_type": "code",
   "execution_count": null,
   "metadata": {},
   "outputs": [],
   "source": [
    "plt.scatter(x=pcgdp, y=life_exp)\n",
    "plt.xlabel('Per Capita GDP')\n",
    "plt.ylabel('Life Expectency')\n",
    "plt.title('Life Expectency vs Per Capita GDP (2018)')\n",
    "plt.show()"
   ]
  },
  {
   "cell_type": "markdown",
   "metadata": {},
   "source": [
    "## Changing the Figure Size\n",
    "\n",
    "We can use the `figure()` function to change the size of our plot. "
   ]
  },
  {
   "cell_type": "code",
   "execution_count": null,
   "metadata": {
    "scrolled": true
   },
   "outputs": [],
   "source": [
    "plt.figure(figsize=[8,6])\n",
    "plt.scatter(x=pcgdp, y=life_exp)\n",
    "plt.xlabel('Per Capita GDP')\n",
    "plt.ylabel('Life Expectency')\n",
    "plt.title('Life Expectency by Country (2018)')\n",
    "plt.show()"
   ]
  },
  {
   "cell_type": "markdown",
   "metadata": {},
   "source": [
    "## Setting Point Properties\n",
    "\n",
    "There are several optional parameters that we can provide to `scatter()` to control the way that points are displayed. A few common examples are:\n",
    "\n",
    "* **`s`** - Controls the size of the points. \n",
    "* **`color`** - Sets the fill color of the points. \n",
    "* **`edgecolor`** - Sets the border color of the points.\n",
    "* **`alpha`** - Controls the opacity of the points. "
   ]
  },
  {
   "cell_type": "code",
   "execution_count": null,
   "metadata": {},
   "outputs": [],
   "source": [
    "plt.figure(figsize=[8,6])\n",
    "plt.scatter(x=pcgdp, y=life_exp, s=100, alpha=0.6, \n",
    "            color='orchid', edgecolor='k')\n",
    "plt.xlabel('Per Capita GDP')\n",
    "plt.ylabel('Life Expectency')\n",
    "plt.title('Life Expectency by Country (2018)')\n",
    "plt.show()"
   ]
  },
  {
   "cell_type": "markdown",
   "metadata": {},
   "source": [
    "## Results by Continent\n",
    "\n",
    "In the next few examples, we will group together countries by their continents. So that we can work with each continent separately, we will create 10 new lists. For each continent, we will create a list containing the per capita GDP for countries in that continent, as well as a list containing the life expectencies for countries in that continent. \n",
    "\n",
    "We will use list comprehensions for this task, but the same results could have been obtained with loops."
   ]
  },
  {
   "cell_type": "code",
   "execution_count": null,
   "metadata": {},
   "outputs": [],
   "source": [
    "n = len(country)\n",
    "\n",
    "africa_pcgdp = [pcgdp[i] for i in range(n) if continent[i] == 'africa']\n",
    "africa_life_exp = [life_exp[i] for i in range(n) if continent[i] == 'africa']\n",
    "\n",
    "americas_pcgdp = [pcgdp[i] for i in range(n) if continent[i] == 'americas']\n",
    "americas_life_exp = [life_exp[i] for i in range(n) if continent[i] == 'americas']\n",
    "\n",
    "asia_pcgdp = [pcgdp[i] for i in range(n) if continent[i] == 'asia']\n",
    "asia_life_exp = [life_exp[i] for i in range(n) if continent[i] == 'asia']\n",
    "\n",
    "europe_pcgdp = [pcgdp[i] for i in range(n) if continent[i] == 'europe']\n",
    "europe_life_exp = [life_exp[i] for i in range(n) if continent[i] == 'europe']"
   ]
  },
  {
   "cell_type": "markdown",
   "metadata": {},
   "source": [
    "## Plotting Multiple Sets of Points\n",
    "\n",
    "We can used multiple `scatter()` functions to plot several different point sets within the same plot. In the plot below, we add the countries to the plot one continent at a time, and will color the points based on the continents. We also add a legend to the plot."
   ]
  },
  {
   "cell_type": "code",
   "execution_count": null,
   "metadata": {},
   "outputs": [],
   "source": [
    "ps = 100\n",
    "alpha = 0.8\n",
    "plt.figure(figsize=[8,6])\n",
    "\n",
    "plt.scatter(x=africa_pcgdp, y=africa_life_exp, s=ps, alpha=alpha,\n",
    "            color='orange', edgecolor='k', label='Africa')\n",
    "\n",
    "plt.scatter(x=americas_pcgdp, y=americas_life_exp, s=ps, alpha=alpha,\n",
    "            color='lightgreen', edgecolor='k', label='Asia')\n",
    "\n",
    "plt.scatter(x=asia_pcgdp, y=asia_life_exp, s=ps, alpha=alpha,\n",
    "            color='steelblue', edgecolor='k', label='Americas')\n",
    "\n",
    "plt.scatter(x=europe_pcgdp, y=europe_life_exp, s=ps, alpha=alpha,\n",
    "            color='lightcoral', edgecolor='k', label='Europe')\n",
    "\n",
    "plt.xlabel('Per Capita GDP')\n",
    "plt.ylabel('Life Expectency')\n",
    "plt.title('Life Expectency by Country (2018)')\n",
    "plt.legend()\n",
    "plt.show()"
   ]
  },
  {
   "cell_type": "markdown",
   "metadata": {},
   "source": [
    "## Subplots\n",
    "\n",
    "We can use the `subplot()` function from Matplotlib to create a grid of plots. The `subplot` function requires three arguments. The first is the number of rows in the grid, and the second is the number of colums. The third argument is the number of plot that we are currently creating. "
   ]
  },
  {
   "cell_type": "code",
   "execution_count": null,
   "metadata": {},
   "outputs": [],
   "source": [
    "plt.figure(figsize=[12,6])\n",
    "for i in range(1,7):\n",
    "    plt.subplot(2,3,i)\n",
    "    plt.scatter(x=[i], y=[i], s=150, color='salmon', edgecolor='k')\n",
    "    plt.xlim([0,7])\n",
    "    plt.ylim([0,7])\n",
    "plt.show()"
   ]
  },
  {
   "cell_type": "code",
   "execution_count": null,
   "metadata": {},
   "outputs": [],
   "source": [
    "ps = 100\n",
    "alpha = 0.8\n",
    "plt.figure(figsize=[10,8])\n",
    "\n",
    "plt.subplot(2,2,1)\n",
    "plt.scatter(x=africa_pcgdp, y=africa_life_exp, s=ps, alpha=alpha,\n",
    "            color='orange', edgecolor='k', label='Africa')\n",
    "plt.xlim([-5000, 125000])\n",
    "plt.ylim([45, 90])\n",
    "plt.xlabel('Per Capita GDP')\n",
    "plt.ylabel('Life Expectency')\n",
    "plt.legend()\n",
    "\n",
    "plt.subplot(2,2,2)\n",
    "plt.scatter(x=americas_pcgdp, y=americas_life_exp, s=ps, alpha=alpha,\n",
    "            color='lightgreen', edgecolor='k', label='Asia')\n",
    "plt.xlim([-5000, 125000])\n",
    "plt.ylim([45, 90])\n",
    "plt.xlabel('Per Capita GDP')\n",
    "plt.ylabel('Life Expectency')\n",
    "plt.legend()\n",
    "\n",
    "plt.subplot(2,2,3)\n",
    "plt.scatter(x=asia_pcgdp, y=asia_life_exp, s=ps, alpha=alpha,\n",
    "            color='steelblue', edgecolor='k', label='Americas')\n",
    "plt.xlim([-5000, 125000])\n",
    "plt.ylim([45, 90])\n",
    "plt.xlabel('Per Capita GDP')\n",
    "plt.ylabel('Life Expectency')\n",
    "plt.legend(loc=4)\n",
    "\n",
    "plt.subplot(2,2,4)\n",
    "plt.scatter(x=europe_pcgdp, y=europe_life_exp, s=ps, alpha=alpha,\n",
    "            color='lightcoral', edgecolor='k', label='Europe')\n",
    "plt.xlim([-5000, 125000])\n",
    "plt.ylim([45, 90])\n",
    "plt.xlabel('Per Capita GDP')\n",
    "plt.ylabel('Life Expectency')\n",
    "plt.legend(loc=4)\n",
    "\n",
    "plt.suptitle('Life Expectency by Country (2018)')\n",
    "plt.subplots_adjust(top=0.2)\n",
    "plt.tight_layout()\n",
    "plt.show()"
   ]
  },
  {
   "cell_type": "markdown",
   "metadata": {},
   "source": [
    "## Line Plots\n",
    "\n",
    "We can use the `plot()` function in Matplotlib to create simple line plots. We will illustrate the use of this function by creating plots illustration the percentage growth in the populations of several countries over the last decade. The cell below creates lists containing our data. "
   ]
  },
  {
   "cell_type": "code",
   "execution_count": null,
   "metadata": {},
   "outputs": [],
   "source": [
    "years = list(range(2009, 2019))\n",
    "China = [0.49, 0.48, 0.48, 0.5, 0.49, 0.52, 0.5, 0.59, 0.53, 0.38]\n",
    "Germany = [-0.27, -0.24, -0.53, 0.14, 0.24, 0.31, 0.53, 1.21, 0.41, 0.4]\n",
    "Greece = [0.27, 0.27, 0, -0.27, -0.81, -0.64, -0.64, -0.74, -0.09, -0.28]\n",
    "India = [1.39, 1.7, 2.07, 0.23, 0.84, 1.25, 1.22, 1.19, 1.15, 1.12]\n",
    "Japan = [-0.14, 0.43, -0.2, -0.22, -0.17, -0.17, 0.02, -0.13, -0.17, -0.36]\n",
    "United_States = [0.88, 0.83, 0.73, 0.73, 0.7, 0.74, 0.74, 0.73, 0.64, 0.62]"
   ]
  },
  {
   "cell_type": "markdown",
   "metadata": {},
   "source": [
    "In the cell below, we plot the data for China."
   ]
  },
  {
   "cell_type": "code",
   "execution_count": null,
   "metadata": {
    "scrolled": true
   },
   "outputs": [],
   "source": [
    "plt.plot(years, China)\n",
    "plt.scatter(years, China)\n",
    "plt.show()"
   ]
  },
  {
   "cell_type": "markdown",
   "metadata": {},
   "source": [
    "## Line Plot Parameters\n",
    "\n",
    "We can use the `ls` parameter to specify a linestyle for the plot. We can use `lw` to specify the line width. As with `scatter()`, the paramter `color` can be used to select a color."
   ]
  },
  {
   "cell_type": "code",
   "execution_count": null,
   "metadata": {},
   "outputs": [],
   "source": [
    "plt.plot(years, China, lw=4, ls='--', color='magenta')\n",
    "plt.show()"
   ]
  },
  {
   "cell_type": "markdown",
   "metadata": {},
   "source": [
    "If we are adding multiple plots to a figure and don't specify the colors, Matplotlib will select colors for us. "
   ]
  },
  {
   "cell_type": "code",
   "execution_count": null,
   "metadata": {},
   "outputs": [],
   "source": [
    "plt.figure(figsize=[8,8])\n",
    "plt.plot(years, China, lw=2, label='China')\n",
    "plt.plot(years, Germany, lw=2, label='Germany')\n",
    "plt.plot(years, Greece, lw=2, label='Greece')\n",
    "plt.plot(years, India, lw=2, label='India')\n",
    "plt.plot(years, Japan, lw=2, label='Japan')\n",
    "plt.plot(years, United_States, lw=2, label='United States')\n",
    "plt.plot([2009, 2018], [0,0], ls='--', color='k')\n",
    "plt.legend()\n",
    "plt.xlabel('Year')\n",
    "plt.ylabel('Population Growth (in %)')\n",
    "plt.title('Population Growth by Year')\n",
    "plt.show()"
   ]
  },
  {
   "cell_type": "markdown",
   "metadata": {},
   "source": [
    "## Bar Charts\n",
    "\n",
    "We can use the `bar()` function to create bar charts in Matplotlib. When creating a bar chart, we must use a range to specify the number of bars to use, and we also provide a list containing the heights of the bars. We can then use `xticks` to provide descriptive labels for each of the bars. We can use the `color` and `edgecolor` parameters to set the fill and border colors of the bars. "
   ]
  },
  {
   "cell_type": "code",
   "execution_count": null,
   "metadata": {},
   "outputs": [],
   "source": [
    "labels = ['A', 'B', 'C', 'D', 'E']\n",
    "heights = [18, 13, 26, 22, 5]\n",
    "\n",
    "plt.bar(labels, heights, color='cornflowerblue', edgecolor='k')\n",
    "plt.xlabel('Categories')\n",
    "plt.ylabel('Counts')\n",
    "plt.title('Bar Chart')\n",
    "plt.show()"
   ]
  },
  {
   "cell_type": "markdown",
   "metadata": {},
   "source": [
    "## Proportional Bar Charts\n",
    "\n",
    "In the example below, we create a bar chart that represents proprotions, rather than counts. "
   ]
  },
  {
   "cell_type": "code",
   "execution_count": null,
   "metadata": {},
   "outputs": [],
   "source": [
    "total = sum(heights)\n",
    "props = []\n",
    "for h in heights:\n",
    "    props.append(h / total)\n",
    "\n",
    "plt.bar(labels, props, color='cornflowerblue', edgecolor='k')\n",
    "plt.xlabel('Categories')\n",
    "plt.ylabel('Proportions')\n",
    "plt.title('Bar Chart')\n",
    "plt.show()"
   ]
  },
  {
   "cell_type": "markdown",
   "metadata": {},
   "source": [
    "## Stacked Bar Charts\n",
    "\n",
    "Assume that we have a dataset in which the observations can be grouped together into categories according to two (or more) different categorical variables. Suppose we would like to know the distributions of one of these categorical variables within the groups defined by a seperate categorical variable. A stacked bar chart is a convenient visualization for representing this type of information. \n",
    "\n",
    "The example below shows an example of creating a stacked bar chart. "
   ]
  },
  {
   "cell_type": "code",
   "execution_count": null,
   "metadata": {
    "scrolled": true
   },
   "outputs": [],
   "source": [
    "labels = ['A', 'B', 'C']\n",
    "\n",
    "prop_1 = [0.2, 0.6, 0.3]\n",
    "prop_2 = [0.8, 0.4, 0.7]\n",
    "\n",
    "plt.bar(labels, prop_1, label='Group 1', color='cornflowerblue', edgecolor='k')\n",
    "plt.bar(labels, prop_2, label='Group 2', bottom=prop_1, color='Salmon', edgecolor='k')\n",
    "\n",
    "#plt.legend(loc=\"center left\", bbox_to_anchor=(1.03,0.5))\n",
    "plt.legend(bbox_to_anchor=(1.01,0.7))\n",
    "plt.ylabel('Proportion')\n",
    "plt.title('Stacked Bar Chart')\n",
    "plt.show()"
   ]
  },
  {
   "cell_type": "markdown",
   "metadata": {},
   "source": [
    "In the next few cells, we will create a stacked bar chart with one bar for each continent. The bars will be colored to show what proportion of countries within each continent have a life expectency of less than 70 years."
   ]
  },
  {
   "cell_type": "code",
   "execution_count": 3,
   "metadata": {},
   "outputs": [
    {
     "name": "stdout",
     "output_type": "stream",
     "text": [
      "[0.8148148148148148, 0.06060606060606061, 0.2830188679245283, 0.0]\n",
      "[0.18518518518518523, 0.9393939393939394, 0.7169811320754718, 1.0]\n"
     ]
    }
   ],
   "source": [
    "continent_list = ['africa', 'americas', 'asia', 'europe']\n",
    "\n",
    "prop_life_exp_under_70 = []\n",
    "prop_life_exp_over_70 = []\n",
    "\n",
    "for cont in continent_list:\n",
    "       \n",
    "    count_total = 0\n",
    "    count_low_life_exp = 0\n",
    "    \n",
    "    for i in range(len(country)):\n",
    "        if continent[i] == cont:\n",
    "            count_total += 1\n",
    "            if life_exp[i] < 70:\n",
    "                count_low_life_exp += 1\n",
    "                \n",
    "    prop = count_low_life_exp / count_total\n",
    "\n",
    "    prop_life_exp_under_70.append(prop)\n",
    "    prop_life_exp_over_70.append(1 - prop)\n",
    "    \n",
    "print(prop_life_exp_under_70)\n",
    "print(prop_life_exp_over_70)"
   ]
  },
  {
   "cell_type": "code",
   "execution_count": 5,
   "metadata": {
    "scrolled": false
   },
   "outputs": [
    {
     "data": {
      "image/png": "[encoded data removed]",
      "text/plain": [
       "<Figure size 432x288 with 1 Axes>"
      ]
     },
     "metadata": {
      "needs_background": "light"
     },
     "output_type": "display_data"
    }
   ],
   "source": [
    "plt.bar(range(4), prop_life_exp_over_70, label='Life Exp Over 70', \n",
    "        color='cornflowerblue', edgecolor='k')\n",
    "\n",
    "plt.bar(range(4), prop_life_exp_under_70, label='Life Exp Under 70', \n",
    "        bottom=prop_life_exp_over_70, color='Salmon', edgecolor='k')\n",
    "\n",
    "plt.legend(loc=\"center left\", bbox_to_anchor=(1.03,0.5))\n",
    "plt.xticks(range(4), [c.title() for c in continent_list])\n",
    "plt.xlabel('Continent')\n",
    "plt.ylabel('Proportion')\n",
    "plt.title('Proportion of Countries with Life Expectency Greater than 70')\n",
    "plt.show()"
   ]
  },
  {
   "cell_type": "markdown",
   "metadata": {},
   "source": [
    "## Histograms"
   ]
  },
  {
   "cell_type": "code",
   "execution_count": 9,
   "metadata": {},
   "outputs": [
    {
     "data": {
      "image/png": "[encoded data removed]",
      "text/plain": [
       "<Figure size 432x288 with 1 Axes>"
      ]
     },
     "metadata": {
      "needs_background": "light"
     },
     "output_type": "display_data"
    }
   ],
   "source": [
    "plt.hist(life_exp, edgecolor='k', color='cornflowerblue', bins=15)\n",
    "plt.show()"
   ]
  },
  {
   "cell_type": "code",
   "execution_count": 11,
   "metadata": {},
   "outputs": [],
   "source": [
    "?plt.hist"
   ]
  },
  {
   "cell_type": "code",
   "execution_count": 10,
   "metadata": {},
   "outputs": [
    {
     "data": {
      "image/png": "[encoded data removed]",
      "text/plain": [
       "<Figure size 432x288 with 1 Axes>"
      ]
     },
     "metadata": {
      "needs_background": "light"
     },
     "output_type": "display_data"
    }
   ],
   "source": [
    "plt.hist(life_exp, edgecolor='k', color='cornflowerblue', \n",
    "         bins=[50, 55, 60, 65, 70, 75, 80, 85])\n",
    "plt.title('Histogram of Life Expectency')\n",
    "plt.xlabel('Life Expectency')\n",
    "plt.ylabel('Count')\n",
    "plt.show()"
   ]
  },
  {
   "cell_type": "code",
   "execution_count": 12,
   "metadata": {},
   "outputs": [
    {
     "data": {
      "image/png": "[encoded data removed]",
      "text/plain": [
       "<Figure size 864x288 with 2 Axes>"
      ]
     },
     "metadata": {
      "needs_background": "light"
     },
     "output_type": "display_data"
    }
   ],
   "source": [
    "plt.figure(figsize=[12,4])\n",
    "plt.subplot(1, 2, 1)\n",
    "plt.hist(life_exp, edgecolor='k', color='cornflowerblue', \n",
    "         bins=[50, 55, 60, 65, 70, 75, 80, 85])\n",
    "plt.title('Histogram of Life Expectency')\n",
    "plt.xlabel('Life Expectency')\n",
    "plt.ylabel('Count')\n",
    "\n",
    "plt.subplot(1, 2, 2)\n",
    "plt.hist(pcgdp, edgecolor='k', color='salmon', \n",
    "         bins=10)\n",
    "plt.title('Histogram of Per Capita GDP')\n",
    "plt.xlabel('Per Capita GDP')\n",
    "plt.ylabel('Count')\n",
    "\n",
    "plt.show()"
   ]
  }
 ],
 "metadata": {
  "kernelspec": {
   "display_name": "Python 3",
   "language": "python",
   "name": "python3"
  },
  "language_info": {
   "codemirror_mode": {
    "name": "ipython",
    "version": 3
   },
   "file_extension": ".py",
   "mimetype": "text/x-python",
   "name": "python",
   "nbconvert_exporter": "python",
   "pygments_lexer": "ipython3",
   "version": "3.7.3"
  }
 },
 "nbformat": 4,
 "nbformat_minor": 2
}
